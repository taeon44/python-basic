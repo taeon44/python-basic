{
 "cells": [
  {
   "cell_type": "markdown",
   "metadata": {
    "id": "d3c1ed1e"
   },
   "source": [
    "# 1. 자료형"
   ]
  },
  {
   "cell_type": "markdown",
   "metadata": {
    "id": "c5fa9c6f"
   },
   "source": [
    "## 1-1. 변수와 숫자형, 문자형"
   ]
  },
  {
   "cell_type": "markdown",
   "metadata": {},
   "source": [
    "#### 001 변수 사용하기\n",
    "\n",
    "- myName 변수에 **\"홍길동\"**이라는 문자열을 바인딩하세요.\n",
    "\n",
    "-------\n",
    "<span style=\"font-weight:bold; color:orange;\">필요조건</span>\n",
    "```python\n",
    "myName = \n",
    "```\n"
   ]
  },
  {
   "cell_type": "code",
   "execution_count": 1,
   "metadata": {},
   "outputs": [],
   "source": [
    "myName = \"홍길동\""
   ]
  },
  {
   "cell_type": "markdown",
   "metadata": {
    "id": "e278f1ee"
   },
   "source": [
    "#### 002 변수 사용하기  \n",
    "\n",
    "- myAge 변수를 생성하고 숫자 **20**을 바인딩하세요"
   ]
  },
  {
   "cell_type": "code",
   "execution_count": 2,
   "metadata": {
    "id": "a26511a2",
    "scrolled": true
   },
   "outputs": [],
   "source": [
    "myAge = 20"
   ]
  },
  {
   "cell_type": "markdown",
   "metadata": {
    "id": "e278f1ee"
   },
   "source": [
    "#### 003 변수 사용하기  \n",
    "\n",
    "- myHeight, myWeight 변수에 **175, 70**의 숫자를 바인딩하세요.\n",
    "\n",
    "----------\n",
    "<span style=\"font-weight:bo; color:orange;\">필요조건</span>\n",
    "```python\n",
    "myHeight, myWeight = \n",
    "```"
   ]
  },
  {
   "cell_type": "code",
   "execution_count": 3,
   "metadata": {
    "id": "a26511a2",
    "scrolled": true
   },
   "outputs": [],
   "source": [
    "myHeight, myWeight = 175, 70"
   ]
  },
  {
   "cell_type": "markdown",
   "metadata": {
    "id": "3eb77acd"
   },
   "source": [
    "#### 004 변수 사용하기  \n",
    "- 다음 표는 성적을 나타냅니다. 과목명 변수에 알맞는 점수를바인딩하세요.\n",
    "\n",
    "\n",
    "과목|국어|영어|수학|국사|과학\n",
    "----|:--:|:--:|:--:|:--:|:--:\n",
    "점수|77|88|81|63|97\n",
    "\n",
    "---------\n",
    "<span style=\"font-weight:bold; color:orange;\">필요조건</span>\n",
    "```python\n",
    "국어, 영어, 수학 = \n",
    "국사 = \n",
    "과학 = \n",
    "```"
   ]
  },
  {
   "cell_type": "code",
   "execution_count": 4,
   "metadata": {
    "id": "5b2820ab",
    "scrolled": true
   },
   "outputs": [],
   "source": [
    "국어, 영어, 수학 = 77, 88, 81\n",
    "국사 = 63\n",
    "과학 = 97"
   ]
  },
  {
   "cell_type": "markdown",
   "metadata": {
    "id": "a6fd1b4d"
   },
   "source": [
    "#### 005 사칙연산\n",
    "- total 변수를 생성하고 모든 과목점수의 합을 구하세요.\n",
    "- 위에서 바인딩한 **과목명 변수**와 **덧셈 연산자**를 활용하세요.\n",
    "\n",
    "---------\n",
    "<span style=\"font-weight:bold; color:orange;\">필요조건</span>\n",
    "```python\n",
    "# 주석을 지우고 이곳에 코드를 작성하세요.\n",
    "print(total)\n",
    "```\n",
    "---------\n",
    "<span style=\"font-weight:bold; color:orange;\">출력</span>\n",
    "```\n",
    "406\n",
    "```"
   ]
  },
  {
   "cell_type": "code",
   "execution_count": 5,
   "metadata": {
    "id": "a28db4d8",
    "scrolled": true
   },
   "outputs": [
    {
     "name": "stdout",
     "output_type": "stream",
     "text": [
      "406\n"
     ]
    }
   ],
   "source": [
    "total = 국어 + 영어 + 수학 + 국사 + 과학\n",
    "print(total)"
   ]
  },
  {
   "cell_type": "markdown",
   "metadata": {
    "id": "c5862321"
   },
   "source": [
    "#### 006 사칙연산\n",
    "\n",
    "- ```avg``` 변수를 생성하고 **전과목의 평균 점수**를 구하는 식을 작성하여 바인딩하세요.\n",
    "- 반드시 total 변수를 사용하세요.\n",
    "\n",
    "---------\n",
    "<span style=\"font-weight:bold; color:orange;\">필요조건</span>\n",
    "```python\n",
    "# 주석을 지우고 이곳에 코드를 작성하세요.\n",
    "print(avg)\n",
    "```\n",
    "---------\n",
    "<span style=\"font-weight:bold; color:orange;\">출력</span>\n",
    "```\n",
    "81.2\n",
    "```"
   ]
  },
  {
   "cell_type": "code",
   "execution_count": 6,
   "metadata": {
    "id": "38591e3e",
    "scrolled": true
   },
   "outputs": [
    {
     "name": "stdout",
     "output_type": "stream",
     "text": [
      "81.2\n"
     ]
    }
   ],
   "source": [
    "avg = total / 5\n",
    "print(avg)"
   ]
  },
  {
   "cell_type": "markdown",
   "metadata": {
    "id": "5aa80554"
   },
   "source": [
    "#### 007 type 함수\n",
    "- ```type()```함수는 데이터의 타입을 알려줍니다.\n",
    "- avg 변수에 바인딩 된 값의 타입을 예상해보고 확인하세요.\n",
    "\n",
    "---------\n",
    "<span style=\"font-weight:bold; color:orange;\">필요조건</span>\n",
    "```python\n",
    "avg = 81.2\n",
    "type(avg)\n",
    "```"
   ]
  },
  {
   "cell_type": "code",
   "execution_count": 7,
   "metadata": {
    "id": "fc9d5b10",
    "scrolled": true
   },
   "outputs": [
    {
     "data": {
      "text/plain": [
       "float"
      ]
     },
     "execution_count": 7,
     "metadata": {},
     "output_type": "execute_result"
    }
   ],
   "source": [
    "avg = 81.2\n",
    "type(avg)"
   ]
  },
  {
   "cell_type": "markdown",
   "metadata": {
    "id": "0944d4af"
   },
   "source": [
    "#### 008 형 변환\n",
    "- myAge의 타입을 정수형(int)으로 변환해보세요.\n",
    "\n",
    "-------\n",
    "<span style=\"font-weight:bold; color:orange;\">필요조건</span>\n",
    "```python\n",
    "myAge = '20'\n",
    "# 주석을 지우고 이곳에 코드를 작성하세요.\n",
    "type(myAge)\n",
    "```\n",
    "-------\n",
    "<span style=\"font-weight:bold; color:orange;\">출력</span>\n",
    "```\n",
    "int\n",
    "```"
   ]
  },
  {
   "cell_type": "code",
   "execution_count": 8,
   "metadata": {
    "id": "2b4007bf",
    "scrolled": true
   },
   "outputs": [
    {
     "data": {
      "text/plain": [
       "int"
      ]
     },
     "execution_count": 8,
     "metadata": {},
     "output_type": "execute_result"
    }
   ],
   "source": [
    "myAge = '20'\n",
    "myAge = int(myAge)\n",
    "type(myAge)"
   ]
  },
  {
   "cell_type": "markdown",
   "metadata": {
    "id": "8d625d41"
   },
   "source": [
    "#### 009 형 변환\n",
    "- avg의 타입을 문자형(str)으로 변환해보세요.\n",
    "\n",
    "-----------\n",
    "<span style=\"font-weight:bold; color:orange;\">필요조건</span>\n",
    "```python\n",
    "avg = 81.2\n",
    "# 주석을 지우고 이곳에 코드를 작성하세요.\n",
    "type(avg)\n",
    "```\n",
    "-------\n",
    "<span style=\"font-weight:bold; color:orange;\">출력</span>\n",
    "```\n",
    "str\n",
    "```"
   ]
  },
  {
   "cell_type": "code",
   "execution_count": 9,
   "metadata": {
    "id": "14a166e0",
    "scrolled": true
   },
   "outputs": [
    {
     "data": {
      "text/plain": [
       "str"
      ]
     },
     "execution_count": 9,
     "metadata": {},
     "output_type": "execute_result"
    }
   ],
   "source": [
    "avg = 81.2\n",
    "avg = str(avg)\n",
    "type(avg)"
   ]
  },
  {
   "cell_type": "markdown",
   "metadata": {
    "id": "61acd85d"
   },
   "source": [
    "#### 010 문자열 출력\n",
    "- ```myName```과 ```myAge```변수를 활용하여 출력값과 같은 문자열 출력하세요.  \n",
    "- 반드시 print문 안에 작성하세요.\n",
    "\n",
    "---------\n",
    "<span style=\"font-weight:bold; color:orange;\">필요조건</span>\n",
    "```python\n",
    "myName = '홍길동'\n",
    "myAge = '20'\n",
    "print() # 주석을 지우고 해당 줄에 코드를 작성하세요.\n",
    "```\n",
    "-------\n",
    "<span style=\"font-weight:bold; color:orange;\">출력</span>\n",
    "```\n",
    "홍길동 20세\n",
    "```"
   ]
  },
  {
   "cell_type": "code",
   "execution_count": 10,
   "metadata": {
    "id": "57c0a18d",
    "scrolled": true
   },
   "outputs": [
    {
     "name": "stdout",
     "output_type": "stream",
     "text": [
      "홍길동 20세\n"
     ]
    }
   ],
   "source": [
    "myName = '홍길동'\n",
    "myAge = '20'\n",
    "print(myName, myAge + \"세\")\n",
    "# print(myName + \" \" + myAge + \"세\")"
   ]
  },
  {
   "cell_type": "markdown",
   "metadata": {
    "id": "bf1041ce"
   },
   "source": [
    "#### 011 문자열 출력\n",
    "- 주어진 변수 A와 B를 사용하여 아래의 문자를 출력하세요.  \n",
    "-------\n",
    "<span style=\"font-weight:bold; color:orange;\">필요조건</span>\n",
    "```python\n",
    "A = \"총합:\"\n",
    "B = total\n",
    "print(A + )  # 주석을 지우고 해당 줄에 코드를 작성하세요.\n",
    "```\n",
    "---------\n",
    "<span style=\"font-weight:bold; color:orange;\">출력</span>\n",
    "```\n",
    "총합:406\n",
    "```"
   ]
  },
  {
   "cell_type": "code",
   "execution_count": 11,
   "metadata": {
    "id": "8d115312",
    "scrolled": true
   },
   "outputs": [
    {
     "name": "stdout",
     "output_type": "stream",
     "text": [
      "총합:406\n"
     ]
    }
   ],
   "source": [
    "A = \"총합:\"\n",
    "B = total\n",
    "print(A + str(B))"
   ]
  },
  {
   "cell_type": "markdown",
   "metadata": {
    "id": "5da276e3"
   },
   "source": [
    "#### 012 사칙연산\n",
    "- 주어진 두 변수와 연산자를 활용하여 출력값과 같은 값이 나오도록 코드를 작성하세요.\n",
    "-------\n",
    "<span style=\"font-weight:bold; color:orange;\">필요조건</span>\n",
    "```python\n",
    "A, B = 3, 8\n",
    "\n",
    "print()  # 11\n",
    "print()  # 5\n",
    "print()  # 24\n",
    "print()  # 6561\n",
    "print()  # 0.375\n",
    "print()  # 2\n",
    "print()  # 3\n",
    "```\n",
    "-------\n",
    "<span style=\"font-weight:bold; color:orange;\">출력</span>\n",
    "```\n",
    "11\n",
    "5\n",
    "24\n",
    "6561\n",
    "0.375\n",
    "2\n",
    "3\n",
    "```"
   ]
  },
  {
   "cell_type": "code",
   "execution_count": 12,
   "metadata": {
    "id": "6a8d7281",
    "scrolled": true
   },
   "outputs": [
    {
     "name": "stdout",
     "output_type": "stream",
     "text": [
      "11\n",
      "5\n",
      "24\n",
      "6561\n",
      "0.375\n",
      "2\n",
      "3\n"
     ]
    }
   ],
   "source": [
    "A, B = 3, 8\n",
    "\n",
    "print(A + B)  # 11\n",
    "print(B - A)  # 5\n",
    "print(A * B)  # 24\n",
    "print(A ** B)  # 6561\n",
    "print(A / B)  # 0.375\n",
    "print(B // A)  # 2\n",
    "print(A % B)  # 3"
   ]
  },
  {
   "cell_type": "markdown",
   "metadata": {
    "id": "98da39b9"
   },
   "source": [
    "## 1-2. 문자열 자료형"
   ]
  },
  {
   "cell_type": "markdown",
   "metadata": {
    "id": "8485bf96"
   },
   "source": [
    "#### 013 여러줄 표현하기\n",
    "\n",
    "- 따옴표 3개(''')를 활용해 다음의 출력값이 처럼 결과가 나오도록 코드를 작성하세요.\n",
    "\n",
    "-------\n",
    "<span style=\"font-weight:bold; color:orange;\">필요조건</span>\n",
    "```python\n",
    "text = # 주석을 지우고 이곳에 코드를 작성하세요.\n",
    "print(text)\n",
    "```\n",
    "-------\n",
    "<span style=\"font-weight:bold; color:orange;\">출력</span>\n",
    "```\n",
    "Usage: thingy [OPTIONS]\n",
    "     -h                        Display this usage message\n",
    "     -H hostname               Hostname to connect to\n",
    "```"
   ]
  },
  {
   "cell_type": "code",
   "execution_count": 13,
   "metadata": {
    "id": "dd410967",
    "scrolled": true
   },
   "outputs": [
    {
     "name": "stdout",
     "output_type": "stream",
     "text": [
      "Usage: thingy [OPTIONS]\n",
      "     -h                        Display this usage message\n",
      "     -H hostname               Hostname to connect to \n"
     ]
    }
   ],
   "source": [
    "text = \"\"\"\\\n",
    "Usage: thingy [OPTIONS]\n",
    "     -h                        Display this usage message\n",
    "     -H hostname               Hostname to connect to \\\n",
    "\"\"\"\n",
    "print(text)"
   ]
  },
  {
   "cell_type": "markdown",
   "metadata": {},
   "source": [
    "#### 014 이스케이프 코드\n",
    "\n",
    "- 다음의 출력값이 나올 수 있도록 이스케이프 코드를 활용해 코드를 작성하세요.\n",
    "\n",
    "-------\n",
    "<span style=\"font-weight:bold; color:orange;\">필요조건</span>\n",
    "```python\n",
    "print() # 주석을 지우고 이곳에 코드를 작성하세요.\n",
    "```\n",
    "-------\n",
    "<span style=\"font-weight:bold; color:orange;\">출력</span>\n",
    "```\n",
    "\"따옴표를 출력해주세요\"\n",
    "```\n"
   ]
  },
  {
   "cell_type": "code",
   "execution_count": 14,
   "metadata": {},
   "outputs": [
    {
     "name": "stdout",
     "output_type": "stream",
     "text": [
      "\"따옴표를 출력해주세요\"\n"
     ]
    }
   ],
   "source": [
    "print(\"\\\"따옴표를 출력해주세요\\\"\")"
   ]
  },
  {
   "cell_type": "markdown",
   "metadata": {},
   "source": [
    "#### 015 이스케이프 코드\n",
    "\n",
    "- 다음의 출력값이 나올 수 있도록 이스케이프 코드를 활용해 코드를 작성하세요.\n",
    "\n",
    "-------\n",
    "<span style=\"font-weight:bold; color:orange;\">필요조건</span>\n",
    "```python\n",
    "text = \"\" # 주석을 지우고 이곳에 코드를 작성하세요.\n",
    "print(text)\n",
    "```\n",
    "-------\n",
    "<span style=\"font-weight:bold; color:orange;\">출력</span>\n",
    "```\n",
    "1번째 줄\n",
    "2번째 줄\n",
    "```"
   ]
  },
  {
   "cell_type": "code",
   "execution_count": 15,
   "metadata": {},
   "outputs": [
    {
     "name": "stdout",
     "output_type": "stream",
     "text": [
      "1번째 줄\n",
      "2번째 줄\n"
     ]
    }
   ],
   "source": [
    "text = \"1번째 줄\\n2번째 줄\"\n",
    "print(text)"
   ]
  },
  {
   "cell_type": "markdown",
   "metadata": {
    "id": "b70369e5"
   },
   "source": [
    "#### 016 이스케이프 코드\n",
    "\n",
    "- 다음의 출력값이 나올 수 있도록 이스케이프 코드를 활용해 코드를 작성하세요.\n",
    "\n",
    "--------------\n",
    "<span style=\"font-weight:bold; color:orange;\">필요조건</span>\n",
    "```python\n",
    "print()  # 주석을 지우고 해당 줄에 코드를 작성하세요.\n",
    "```\n",
    "---------------\n",
    "<span style=\"font-weight:bold; color:orange;\">출력</span>\n",
    "```\n",
    "\"다음은 문자열 안에서 줄을 바꿀 때 사용합니다. \\n\"\n",
    "'다음 문자는 문자열 사이에 탭 간격을 줄 때 사용합니다. \\t'\n",
    "```"
   ]
  },
  {
   "cell_type": "code",
   "execution_count": 16,
   "metadata": {
    "id": "5bb16606",
    "scrolled": true
   },
   "outputs": [
    {
     "name": "stdout",
     "output_type": "stream",
     "text": [
      "\"다음은 문자열 안에서 줄을 바꿀 때 사용합니다. \\n\"\n",
      "'다음 문자는 문자열 사이에 탭 간격을 줄 때 사용합니다. \\t'\n"
     ]
    }
   ],
   "source": [
    "print(\"\\\"다음은 문자열 안에서 줄을 바꿀 때 사용합니다. \\\\n\\\"\\n\\'다음 문자는 문자열 사이에 탭 간격을 줄 때 사용합니다. \\\\t\\'\")"
   ]
  },
  {
   "cell_type": "markdown",
   "metadata": {
    "id": "6927f78a"
   },
   "source": [
    "#### 017 문자열 곱하기\n",
    "\n",
    "- 다음의 출력값이 나오도록 문자열 곱하기를 활용하여 코드를 작성하세요.\n",
    "- 출력값의 ```*```은 한 줄에 50개 입니다\n",
    "\n",
    "-------\n",
    "<span style=\"font-weight:bold; color:orange;\">필요조건</span>\n",
    "```python\n",
    "print(\"*\")   # 주석을 지우고 해당 줄에 코드를 작성하세요.\n",
    "print(\"I LOVE PYTHON\")\n",
    "print(\"*\")   # 주석을 지우고 해당 줄에 코드를 작성하세요.\n",
    "```\n",
    "-------\n",
    "<span style=\"font-weight:bold; color:orange;\">출력</span>\n",
    "```\n",
    "**************************************************\n",
    "I LOVE PYTHON\n",
    "**************************************************\n",
    "```"
   ]
  },
  {
   "cell_type": "code",
   "execution_count": 17,
   "metadata": {
    "id": "3080d020",
    "scrolled": true
   },
   "outputs": [
    {
     "name": "stdout",
     "output_type": "stream",
     "text": [
      "**************************************************\n",
      "I LOVE PYTHON\n",
      "**************************************************\n"
     ]
    }
   ],
   "source": [
    "print(\"*\" * 50)\n",
    "print(\"I LOVE PYTHON\")\n",
    "print(\"*\" * 50)"
   ]
  },
  {
   "cell_type": "markdown",
   "metadata": {},
   "source": [
    "#### 018 문자열 곱하기\n",
    "\n",
    "- 다음의 출력값이 나오도록 문자열 곱하기를 활용하여 코드를 작성하세요.\n",
    "\n",
    "-------\n",
    "<span style=\"font-weight:bold; color:orange;\">필요조건</span>\n",
    "```python\n",
    "print()\n",
    "print()\n",
    "print()\n",
    "print()\n",
    "```\n",
    "-------\n",
    "<span style=\"font-weight:bold; color:orange;\">출력</span>\n",
    "```\n",
    "******\n",
    "*    *\n",
    "*    *\n",
    "******\n",
    "```"
   ]
  },
  {
   "cell_type": "code",
   "execution_count": 18,
   "metadata": {},
   "outputs": [
    {
     "name": "stdout",
     "output_type": "stream",
     "text": [
      "******\n",
      "*    *\n",
      "*    *\n",
      "******\n"
     ]
    }
   ],
   "source": [
    "print(\"*\" * 6)\n",
    "print(\"*\" + \" \" * 4 + \"*\")\n",
    "print(\"*\" + \" \" * 4 + \"*\")\n",
    "print(\"*\" * 6)"
   ]
  },
  {
   "cell_type": "markdown",
   "metadata": {},
   "source": [
    "#### 019 문자열 인덱싱\n",
    "\n",
    "- 문자열 인덱싱을 사용하여 P를 출력하세요\n",
    "\n",
    "-------\n",
    "<span style=\"font-weight:bold; color:orange;\">필요조건</span>\n",
    "```python\n",
    "A = \"PYTHON\"\n",
    "print()  # 주석을 지우고 해당 줄의 빈 칸에 코드를 작성하세요.\n",
    "```\n",
    "-------\n",
    "<span style=\"font-weight:bold; color:orange;\">출력</span>\n",
    "```\n",
    "P\n",
    "```"
   ]
  },
  {
   "cell_type": "code",
   "execution_count": 19,
   "metadata": {},
   "outputs": [
    {
     "name": "stdout",
     "output_type": "stream",
     "text": [
      "P\n"
     ]
    }
   ],
   "source": [
    "A = \"PYTHON\"\n",
    "print(A[0])"
   ]
  },
  {
   "cell_type": "markdown",
   "metadata": {
    "id": "8f92de62"
   },
   "source": [
    "#### 020 문자열 인덱싱\n",
    "\n",
    "- 문자열 인덱싱을 사용하여 L과 P를 출력하세요\n",
    "- P의 인덱서는 음수를 사용하세요.(ex. ```A[-1]```)\n",
    "\n",
    "-------\n",
    "<span style=\"font-weight:bold; color:orange;\">필요조건</span>\n",
    "```python\n",
    "A = \"I LOVE PYTHON\"\n",
    "print() # 주석을 지우고 해당 줄의 빈 칸에 코드를 작성하세요.\n",
    "print() # 주석을 지우고 해당 줄의 빈 칸에 코드를 작성하세요.\n",
    "```\n",
    "-------\n",
    "<span style=\"font-weight:bold; color:orange;\">출력</span>\n",
    "```\n",
    "L\n",
    "P\n",
    "```"
   ]
  },
  {
   "cell_type": "code",
   "execution_count": 20,
   "metadata": {
    "id": "fe546871",
    "scrolled": true
   },
   "outputs": [
    {
     "name": "stdout",
     "output_type": "stream",
     "text": [
      "L\n",
      "P\n"
     ]
    }
   ],
   "source": [
    "A = \"I LOVE PYTHON\"\n",
    "print(A[2])\n",
    "print(A[- 6])"
   ]
  },
  {
   "cell_type": "markdown",
   "metadata": {
    "id": "b0eef5e6"
   },
   "source": [
    "#### 021 문자열 슬라이싱\n",
    "\n",
    "- 문자열 슬라이싱을 사용하여 ```LOVE```를 출력하세요\n",
    "\n",
    "-------\n",
    "<span style=\"font-weight:bold; color:orange;\">필요조건</span>\n",
    "```python\n",
    "A = \"I LOVE PYTHON\"\n",
    "print() # 주석을 지우고 해당 줄에 코드를 작성하세요.\n",
    "```\n",
    "-------\n",
    "<span style=\"font-weight:bold; color:orange;\">출력</span>\n",
    "```\n",
    "LOVE\n",
    "```"
   ]
  },
  {
   "cell_type": "code",
   "execution_count": 24,
   "metadata": {
    "id": "b953df23",
    "scrolled": true
   },
   "outputs": [
    {
     "name": "stdout",
     "output_type": "stream",
     "text": [
      "LOVE\n"
     ]
    }
   ],
   "source": [
    "A = \"I LOVE PYTHON\"\n",
    "print(A[2:6])"
   ]
  },
  {
   "cell_type": "markdown",
   "metadata": {
    "id": "bbcb2403"
   },
   "source": [
    "#### 022 문자열 슬라이싱\n",
    "\n",
    "- 다음 코드의 출력이 어떨지 예상하고 확인하세요.\n",
    "\n",
    "-------\n",
    "<span style=\"font-weight:bold; color:orange;\">필요조건</span>\n",
    "```python\n",
    "A = \"I LOVE PYTHON\"\n",
    "print(A[-6:])\n",
    "```"
   ]
  },
  {
   "cell_type": "code",
   "execution_count": 25,
   "metadata": {
    "id": "4b56e04f",
    "scrolled": true
   },
   "outputs": [
    {
     "name": "stdout",
     "output_type": "stream",
     "text": [
      "PYTHON\n"
     ]
    }
   ],
   "source": [
    "A = \"I LOVE PYTHON\"\n",
    "print(A[-6:])"
   ]
  },
  {
   "cell_type": "markdown",
   "metadata": {},
   "source": [
    "#### 023 문자열 슬라이싱\n",
    "\n",
    "- 다음 코드의 출력이 어떨지 예상하고 확인하세요.\n",
    "\n",
    "-------\n",
    "<span style=\"font-weight:bold; color:orange;\">필요조건</span>\n",
    "```python\n",
    "A = \"I LOVE PYTHON\"\n",
    "print(A[:2] + \"WANT\" + A[-7:])\n",
    "```"
   ]
  },
  {
   "cell_type": "code",
   "execution_count": 26,
   "metadata": {},
   "outputs": [
    {
     "name": "stdout",
     "output_type": "stream",
     "text": [
      "I WANT PYTHON\n"
     ]
    }
   ],
   "source": [
    "A = \"I LOVE PYTHON\"\n",
    "print(A[:2] + \"WANT\" + A[-7:])"
   ]
  },
  {
   "cell_type": "markdown",
   "metadata": {
    "id": "e414cf3a"
   },
   "source": [
    "#### 024 문자열 인덱싱, 슬라이싱\n",
    "\n",
    "- **문자열 인덱싱**과 **슬라이싱**을 사용하여 A를 ```PYTHON```으로 만들고 출력하세요.\n",
    "- 절대 바인딩 된 변수 A의 값은 바꾸지 마세요.(1번째 줄은 수정하지 마세요)\n",
    "\n",
    "-------\n",
    "<span style=\"font-weight:bold; color:orange;\">필요조건</span>\n",
    "```python\n",
    "A = \"PYSON\" # ◀ 이 코드는 절대 수정하지 마세요.\n",
    "print() # 주석을 지우고 해당 줄에 코드를 작성하세요.\n",
    "```\n",
    "-------\n",
    "<span style=\"font-weight:bold; color:orange;\">출력</span>\n",
    "```\n",
    "PYTHON\n",
    "```"
   ]
  },
  {
   "cell_type": "code",
   "execution_count": 27,
   "metadata": {
    "id": "633fb019",
    "scrolled": true
   },
   "outputs": [
    {
     "name": "stdout",
     "output_type": "stream",
     "text": [
      "PYTHON\n"
     ]
    }
   ],
   "source": [
    "A = \"PYSON\"\n",
    "print(A[:2] + \"TH\" + A[-2:])"
   ]
  },
  {
   "cell_type": "markdown",
   "metadata": {},
   "source": [
    "#### 025 기본 문자열 포매팅\n",
    "- 다음의 출력값이 나올 수 있도록 문자열 포매팅을 활용해 코드를 수정하세요.\n",
    "\n",
    "-------\n",
    "<span style=\"font-weight:bold; color:orange;\">필요조건</span>\n",
    "```python\n",
    "print(\"이름: \" %\"홍길동\")\n",
    "print(\"나이: \" %20)\n",
    "```\n",
    "-------\n",
    "<span style=\"font-weight:bold; color:orange;\">출력</span>\n",
    "```\n",
    "이름: 홍길동\n",
    "나이: 20\n",
    "```"
   ]
  },
  {
   "cell_type": "code",
   "execution_count": 29,
   "metadata": {},
   "outputs": [
    {
     "name": "stdout",
     "output_type": "stream",
     "text": [
      "이름: 홍길동\n",
      "나이: 20\n"
     ]
    }
   ],
   "source": [
    "print(\"이름: %s\" %\"홍길동\")\n",
    "print(\"나이: %d\" %20)"
   ]
  },
  {
   "cell_type": "markdown",
   "metadata": {
    "id": "6c198c6e"
   },
   "source": [
    "#### 026 기본 문자열 포매팅\n",
    "- 다음의 출력값이 나올 수 있도록 문자열 포매팅을 활용해 코드를 수정하세요.\n",
    "\n",
    "-------\n",
    "<span style=\"font-weight:bold; color:orange;\">필요조건</span>\n",
    "```python\n",
    "print(\"I studied for two hours to do 파이썬.\" %(2, \"python\"))\n",
    "```\n",
    "-------\n",
    "<span style=\"font-weight:bold; color:orange;\">출력</span>\n",
    "```\n",
    "I studied for 2 hours to do python.\n",
    "```"
   ]
  },
  {
   "cell_type": "code",
   "execution_count": 30,
   "metadata": {
    "id": "c2ded8b5",
    "scrolled": true
   },
   "outputs": [
    {
     "name": "stdout",
     "output_type": "stream",
     "text": [
      "I studied for 2 hours to do python.\n"
     ]
    }
   ],
   "source": [
    "print(\"I studied for %d hours to do %s.\" %(2, \"python\"))"
   ]
  },
  {
   "cell_type": "markdown",
   "metadata": {
    "id": "62bc798b"
   },
   "source": [
    "#### 027 기본 문자열 포매팅, 이스케이프 코드\n",
    "- 다음의 출력값이 나올 수 있도록 문자열 안에 이스케이프 코드를 추가하세요.\n",
    "\n",
    "-------\n",
    "<span style=\"font-weight:bold; color:orange;\">필요조건</span>\n",
    "```python\n",
    "percent = 25\n",
    "print(\"%d|███       |\" % percent)\n",
    "```\n",
    "-------\n",
    "<span style=\"font-weight:bold; color:orange;\">출력</span>\n",
    "```\n",
    "25%|███       |\n",
    "```"
   ]
  },
  {
   "cell_type": "code",
   "execution_count": 31,
   "metadata": {
    "id": "30712922",
    "scrolled": true
   },
   "outputs": [
    {
     "name": "stdout",
     "output_type": "stream",
     "text": [
      "25%|███       |\n"
     ]
    }
   ],
   "source": [
    "percent = 25\n",
    "print(\"%d%%|███       |\" % percent)"
   ]
  },
  {
   "cell_type": "markdown",
   "metadata": {
    "id": "0e0e9b7a"
   },
   "source": [
    "#### 028 기본 문자열 포매팅, 정렬과 공백\n",
    "\n",
    "- 다음의 출력값이 나올 수 있도록 print문 안의 문자열을 수정하세요.\n",
    "- 반드시 정렬기능을 활용하세요.\n",
    "\n",
    "-------\n",
    "<span style=\"font-weight:bold; color:orange;\">필요조건</span>\n",
    "```python\n",
    "percent, progressbar = 50, \"|█████\"\n",
    "progressbar = \"|█████\"\n",
    "print(\"%3s%%%11s|\" % (percent, progressbar))\n",
    "```\n",
    "-------\n",
    "<span style=\"font-weight:bold; color:orange;\">출력</span>\n",
    "```\n",
    " 50%|█████     |\n",
    "```"
   ]
  },
  {
   "cell_type": "code",
   "execution_count": 32,
   "metadata": {
    "id": "3cd6e8f7",
    "scrolled": true
   },
   "outputs": [
    {
     "name": "stdout",
     "output_type": "stream",
     "text": [
      " 50%|█████     |\n"
     ]
    }
   ],
   "source": [
    "percent, progressbar = 50, \"|█████\"\n",
    "print(\"%3s%%%-11s|\" % (percent, progressbar))"
   ]
  },
  {
   "cell_type": "markdown",
   "metadata": {
    "id": "be0d05b1"
   },
   "source": [
    "#### 029 멋진 문자열 포매팅\n",
    "\n",
    "- 다음의 출력값이 나올 수 있도록 코드를 수정하세요.\n",
    "\n",
    "-------\n",
    "<span style=\"font-weight:bold; color:orange;\">필요조건</span>\n",
    "```python\n",
    "A = \"python\"\n",
    "B = \"love\"\n",
    "print(f\"I {} {}.\") # 주석을 지우고 해당 줄의 {}안에 코드를 작성하세요.\n",
    "```\n",
    "-------\n",
    "<span style=\"font-weight:bold; color:orange;\">출력</span>\n",
    "```\n",
    "I love python.\n",
    "```"
   ]
  },
  {
   "cell_type": "code",
   "execution_count": 33,
   "metadata": {
    "id": "d053cfa7",
    "scrolled": true
   },
   "outputs": [
    {
     "name": "stdout",
     "output_type": "stream",
     "text": [
      "I love python.\n"
     ]
    }
   ],
   "source": [
    "A = \"python\"\n",
    "B = \"love\"\n",
    "print(f\"I {B} {A}.\")"
   ]
  },
  {
   "cell_type": "markdown",
   "metadata": {
    "id": "3929381d"
   },
   "source": [
    "#### 030 멋진 문자열 포매팅, format 함수\n",
    "\n",
    "- 다음의 출력값이 나올 수 있도록 코드를 수정하세요.\n",
    "\n",
    "-------\n",
    "<span style=\"font-weight:bold; color:orange;\">필요조건</span>\n",
    "```python\n",
    "print(\"I {} {}.\".format(\"love\", \"python\")) # 주석을 지우고 해당 줄의 {}안에 코드를 작성하세요.\n",
    "```\n",
    "-------\n",
    "<span style=\"font-weight:bold; color:orange;\">출력</span>\n",
    "```\n",
    "I love python.\n",
    "```"
   ]
  },
  {
   "cell_type": "code",
   "execution_count": 34,
   "metadata": {
    "id": "c766e3b6",
    "scrolled": true
   },
   "outputs": [
    {
     "name": "stdout",
     "output_type": "stream",
     "text": [
      "I love python.\n"
     ]
    }
   ],
   "source": [
    "print(\"I {0} {1}.\".format(\"love\", \"python\"))"
   ]
  },
  {
   "cell_type": "markdown",
   "metadata": {
    "id": "6f2d1f48"
   },
   "source": [
    "#### 031 문자열 포매팅, format 함수\n",
    "\n",
    "- 다음의 출력값이 나올 수 있도록 코드를 수정하세요.\n",
    "\n",
    "-------\n",
    "<span style=\"font-weight:bold; color:orange;\">필요조건</span>\n",
    "```python\n",
    "print(\"I {} {}.\".format(first=\"python\", second=\"love\")) # 주석을 지우고 해당 줄의 {}안에 코드를 작성하세요.\n",
    "```\n",
    "-------\n",
    "<span style=\"font-weight:bold; color:orange;\">출력</span>\n",
    "```\n",
    "I love python.\n",
    "```"
   ]
  },
  {
   "cell_type": "code",
   "execution_count": 35,
   "metadata": {
    "id": "bd76017b",
    "scrolled": true
   },
   "outputs": [
    {
     "name": "stdout",
     "output_type": "stream",
     "text": [
      "I love python.\n"
     ]
    }
   ],
   "source": [
    "print(\"I {second} {first}.\".format(first=\"python\", second=\"love\"))"
   ]
  },
  {
   "cell_type": "markdown",
   "metadata": {
    "id": "a2446767"
   },
   "source": [
    "#### 032 문자열 포매팅, 소수점, 퍼센트\n",
    "\n",
    "- format을 사용하여 다음의 출력값이 나올 수 있도록 ```{}```안에 코드를 추가하세요.\n",
    "\n",
    "-------\n",
    "<span style=\"font-weight:bold; color:orange;\">필요조건</span>\n",
    "```python\n",
    "print('{}'.format(0.125))\n",
    "```\n",
    "-------\n",
    "<span style=\"font-weight:bold; color:orange;\">출력</span>\n",
    "```\n",
    "12.5%\n",
    "```"
   ]
  },
  {
   "cell_type": "code",
   "execution_count": 36,
   "metadata": {
    "id": "d52438e3",
    "scrolled": true
   },
   "outputs": [
    {
     "name": "stdout",
     "output_type": "stream",
     "text": [
      "12.5%\n"
     ]
    }
   ],
   "source": [
    "print('{0:.1%}'.format(0.125))"
   ]
  },
  {
   "cell_type": "markdown",
   "metadata": {
    "id": "72824b65"
   },
   "source": [
    "#### 033 문자열 포매팅, 정렬\n",
    "\n",
    "- format을 사용하여 다음의 출력값이 나올 수 있도록 {}안에 코드를 추가하세요.\n",
    "\n",
    "-------\n",
    "<span style=\"font-weight:bold; color:orange;\">필요조건</span>\n",
    "```python\n",
    "print(\"\"\"\\\n",
    "{:}\n",
    "{:^50}\n",
    "{:}\\\n",
    "\"\"\".format(_star=\"*\" * 50, _text=\"I LOVE PYTHON\"))\n",
    "```\n",
    "-------\n",
    "<span style=\"font-weight:bold; color:orange;\">출력</span>\n",
    "```\n",
    "**************************************************\n",
    "                  I LOVE PYTHON                   \n",
    "**************************************************\n",
    "```"
   ]
  },
  {
   "cell_type": "code",
   "execution_count": 37,
   "metadata": {
    "id": "5857d89f",
    "scrolled": true
   },
   "outputs": [
    {
     "name": "stdout",
     "output_type": "stream",
     "text": [
      "**************************************************\n",
      "                  I LOVE PYTHON                   \n",
      "**************************************************\n"
     ]
    }
   ],
   "source": [
    "print(\"\"\"\\\n",
    "{_star:}\n",
    "{_text:^50}\n",
    "{_star:}\\\n",
    "\"\"\".format(_star=\"*\" * 50, _text=\"I LOVE PYTHON\"))"
   ]
  },
  {
   "cell_type": "markdown",
   "metadata": {
    "id": "72d52749"
   },
   "source": [
    "#### 034 문자열 관련 함수(문자열 바꾸기)\n",
    "\n",
    "- 다음의 출력값이 나오도록 코드를 수정하세요.\n",
    "- 반드시 str 전용 메소드를 사용하세요.\n",
    "\n",
    "-------\n",
    "<span style=\"font-weight:bold; color:orange;\">필요조건</span>\n",
    "```python\n",
    "text = \"\"\"\\\n",
    "**************************************************\n",
    "                  I LOVE PYTHON                   \n",
    "**************************************************\\\n",
    "\"\"\"\n",
    "text = # 주석을 지우고 해당 줄에 코드를 작성하세요.\n",
    "print(text)\n",
    "```\n",
    "-------\n",
    "<span style=\"font-weight:bold; color:orange;\">출력</span>\n",
    "```\n",
    "##################################################\n",
    "                  I LOVE PYTHON                   \n",
    "##################################################\n",
    "```"
   ]
  },
  {
   "cell_type": "code",
   "execution_count": 38,
   "metadata": {
    "id": "c5f8d930",
    "scrolled": true
   },
   "outputs": [
    {
     "name": "stdout",
     "output_type": "stream",
     "text": [
      "##################################################\n",
      "                  I LOVE PYTHON                   \n",
      "##################################################\n"
     ]
    }
   ],
   "source": [
    "text = \"\"\"\\\n",
    "**************************************************\n",
    "                  I LOVE PYTHON                   \n",
    "**************************************************\\\n",
    "\"\"\"\n",
    "text = text.replace(\"*\", \"#\")\n",
    "print(text)"
   ]
  },
  {
   "cell_type": "markdown",
   "metadata": {
    "id": "455995ce"
   },
   "source": [
    "#### 035 문자열 관련 함수(문자열 지우기)\n",
    "\n",
    "- 문자열 지우기 함수를 한 번만 사용하여 다음의 출력값이 나올 수 있도록 코드를 수정하세요.\n",
    "\n",
    "\n",
    "-------\n",
    "<span style=\"font-weight:bold; color:orange;\">필요조건</span>\n",
    "```python\n",
    "text = \"\"\"\\\n",
    "**************************************************\n",
    "                  I LOVE PYTHON                   \n",
    "**************************************************\\\n",
    "\"\"\"\n",
    "text = # 주석을 지우고 해당 줄에 코드를 작성하세요.\n",
    "print(text)\n",
    "```\n",
    "-------\n",
    "<span style=\"font-weight:bold; color:orange;\">출력</span>\n",
    "```\n",
    "I LOVE PYTHON\n",
    "```"
   ]
  },
  {
   "cell_type": "code",
   "execution_count": 39,
   "metadata": {
    "id": "343740c6",
    "scrolled": true
   },
   "outputs": [
    {
     "name": "stdout",
     "output_type": "stream",
     "text": [
      "I LOVE PYTHON\n"
     ]
    }
   ],
   "source": [
    "text = \"\"\"\\\n",
    "**************************************************\n",
    "                  I LOVE PYTHON                   \n",
    "**************************************************\\\n",
    "\"\"\"\n",
    "text = text.strip(\"*\\n \")\n",
    "print(text)"
   ]
  },
  {
   "cell_type": "markdown",
   "metadata": {},
   "source": [
    "#### 036 문자열 관련 함수(대소문자 변경)\n",
    "\n",
    "- ```text```변수의 값을 소문자로 바꿔 출력하세요.\n",
    "- 반드시 문자열 관련 메소드를 활용하세요.\n",
    "\n",
    "-------\n",
    "<span style=\"font-weight:bold; color:orange;\">필요조건</span>\n",
    "```python\n",
    "text = \"PYTHON\"\n",
    "print() # 주석을 지우고 이곳에 코드를 작성하세요.\n",
    "```\n",
    "-------\n",
    "<span style=\"font-weight:bold; color:orange;\">출력</span>\n",
    "```\n",
    "python\n",
    "```"
   ]
  },
  {
   "cell_type": "code",
   "execution_count": 40,
   "metadata": {},
   "outputs": [
    {
     "name": "stdout",
     "output_type": "stream",
     "text": [
      "python\n"
     ]
    }
   ],
   "source": [
    "text = \"PYTHON\"\n",
    "print(text.lower())"
   ]
  },
  {
   "cell_type": "markdown",
   "metadata": {
    "id": "da364da6"
   },
   "source": [
    "#### 037 문자열 관련 함수(문자열 삽입)\n",
    "\n",
    "- 다음의 출력값이 나올 수 있도록 코드를 수정하세요.\n",
    "- join 함수와 lower 함수를 반드시 사용하세요.\n",
    "\n",
    "-------\n",
    "<span style=\"font-weight:bold; color:orange;\">필요조건</span>\n",
    "```python\n",
    "text = \"PYTHON\"\n",
    "print() # 주석을 지우고 이곳에 코드를 작성하세요.\n",
    "```\n",
    "-------\n",
    "<span style=\"font-weight:bold; color:orange;\">출력</span>\n",
    "```\n",
    "p,y,t,h,o,n\n",
    "```"
   ]
  },
  {
   "cell_type": "code",
   "execution_count": 1,
   "metadata": {
    "id": "02b755b9",
    "scrolled": false
   },
   "outputs": [
    {
     "name": "stdout",
     "output_type": "stream",
     "text": [
      "p,y,t,h,o,n\n"
     ]
    }
   ],
   "source": [
    "text = \"PYTHON\"\n",
    "print(\",\".join(text).lower())"
   ]
  }
 ],
 "metadata": {
  "kernelspec": {
   "display_name": "Python 3 (ipykernel)",
   "language": "python",
   "name": "python3"
  },
  "language_info": {
   "codemirror_mode": {
    "name": "ipython",
    "version": 3
   },
   "file_extension": ".py",
   "mimetype": "text/x-python",
   "name": "python",
   "nbconvert_exporter": "python",
   "pygments_lexer": "ipython3",
   "version": "3.9.13"
  }
 },
 "nbformat": 4,
 "nbformat_minor": 2
}
