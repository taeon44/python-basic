{
 "cells": [
  {
   "cell_type": "markdown",
   "id": "49a2e1d6",
   "metadata": {
    "id": "49da676b"
   },
   "source": [
    "## 1-3. 리스트"
   ]
  },
  {
   "cell_type": "markdown",
   "id": "f65c9cf5",
   "metadata": {
    "id": "0d40733e"
   },
   "source": [
    "#### 001 리스트 자료형(리스트 생성)\n",
    "\n",
    "- 다음의 표를 보고 1번부터 6번까지 순서대로 이름을 ```fruits```변수에 담아 리스트로 만드세요.\n",
    "\n",
    "|INDEX|1|2|3|4|5|\n",
    "|:---:|:---:|:---:|:---:|:---:|:---:|\n",
    "|LIST|귤|사과|오렌지|배|바나나|  \n",
    "\n",
    "-------\n",
    "<span style=\"font-weight:bold; color:orange;\">필요조건</span>\n",
    "```python\n",
    "fruits = # 주석을 지우고 해당 줄에 코드를 작성하세요.\n",
    "print(fruits)\n",
    "```\n",
    "-------\n",
    "<span style=\"font-weight:bold; color:orange;\">출력</span>\n",
    "```\n",
    "['귤', '사과', '오렌지', '배', '바나나']\n",
    "```"
   ]
  },
  {
   "cell_type": "code",
   "execution_count": null,
   "id": "4f4f2f42",
   "metadata": {
    "id": "393980e8",
    "outputId": "0052250d-08c8-4d0f-af84-e4bb86fb6856",
    "scrolled": true
   },
   "outputs": [],
   "source": []
  },
  {
   "cell_type": "markdown",
   "id": "fa713302",
   "metadata": {
    "id": "49ef33d4"
   },
   "source": [
    "#### 002 리스트 자료형(원소 추가, 교체)\n",
    "\n",
    "- 다음의 출력값이 나올 수 있도록 코드를 수정하세요.\n",
    "- 원소를 추가할 때는 반드시 append 함수를 사용하세요.\n",
    "- 원소를 수정할 때는 반드시 리스트 인덱싱을 사용하세요.\n",
    "\n",
    "-------\n",
    "<span style=\"font-weight:bold; color:orange;\">필요조건</span>\n",
    "```python\n",
    "fruits = [\"귤\", \"사과\", \"오렌지\", \"배\", \"바나나\"]\n",
    "\n",
    "fruits.()\n",
    "fruits[]\n",
    "print(fruits)\n",
    "```\n",
    "-------\n",
    "<span style=\"font-weight:bold; color:orange;\">출력</span>\n",
    "```\n",
    "['귤', '감', '오렌지', '배', '바나나', '돌']\n",
    "```"
   ]
  },
  {
   "cell_type": "code",
   "execution_count": null,
   "id": "b2d824a1",
   "metadata": {
    "id": "8f917c06",
    "outputId": "d43f829d-00af-4937-ceee-2d6fa8290d8c",
    "scrolled": true
   },
   "outputs": [],
   "source": []
  },
  {
   "cell_type": "markdown",
   "id": "de98f028",
   "metadata": {
    "id": "ebf20041"
   },
   "source": [
    "#### 003 리스트 자료형(끼워넣기, 삭제)\n",
    "\n",
    "- 다음의 출력값이 나올 수 있도록 코드를 수정하세요.\n",
    "- 원소를 끼워넣을 때는 반드시 insert 함수를 사용하세요.\n",
    "- 원소를 삭제할 때는 반드시 del 예약어를 사용하세요.\n",
    "-------\n",
    "<span style=\"font-weight:bold; color:orange;\">필요조건</span>\n",
    "```python\n",
    "fruits = [\"귤\", \"감\", \"오렌지\", \"배\", \"바나나\", \"돌\"]\n",
    "\n",
    "fruits.insert()\n",
    "fruits[-1]\n",
    "print(fruits)\n",
    "```\n",
    "-------\n",
    "<span style=\"font-weight:bold; color:orange;\">출력</span>\n",
    "```\n",
    "['귤', '사과', '감', '오렌지', '배', '바나나']\n",
    "```"
   ]
  },
  {
   "cell_type": "code",
   "execution_count": null,
   "id": "cb6419ab",
   "metadata": {
    "id": "d3114338",
    "outputId": "65e6463a-ebc6-4981-cd97-afa8aed0de3b",
    "scrolled": true
   },
   "outputs": [],
   "source": []
  },
  {
   "cell_type": "markdown",
   "id": "fb98416e",
   "metadata": {
    "id": "7fdbae80"
   },
   "source": [
    "#### 004 리스트 자료형(리스트 연산, 리스트 뒤집기)\n",
    "\n",
    "- 다음의 출력값이 나올 수 있도록 코드를 수정하세요.\n",
    "- 반드시 리스트를 연산식을 사용하세요.\n",
    "- 반드시 리스트 메서드를 사용해 리스트를 뒤집으세요.\n",
    "-------\n",
    "<span style=\"font-weight:bold; color:orange;\">필요조건</span>\n",
    "```python\n",
    "num = [0, 1, 2, 3, 4, 5, 6, 7, 8, 9]\n",
    "\n",
    "num = num\n",
    "num.()\n",
    "print(num)\n",
    "```\n",
    "-------\n",
    "<span style=\"font-weight:bold; color:orange;\">출력</span>\n",
    "```\n",
    "[9, 8, 7, 6, 5, 4, 3, 2, 1, 0, 9, 8, 7, 6, 5, 4, 3, 2, 1, 0, 9, 8, 7, 6, 5, 4, 3, 2, 1, 0]\n",
    "```"
   ]
  },
  {
   "cell_type": "code",
   "execution_count": null,
   "id": "67386cd6",
   "metadata": {
    "id": "9a428ac5",
    "outputId": "db93cfba-8cf0-4a91-a9aa-88d2f6fb420b",
    "scrolled": true
   },
   "outputs": [],
   "source": []
  },
  {
   "cell_type": "markdown",
   "id": "e4ca00ed",
   "metadata": {
    "id": "9679493c"
   },
   "source": [
    "#### 005 리스트 자료형(슬라이싱)\n",
    "\n",
    "- 다음의 출력값이 나올 수 있도록 코드를 작성하세요.\n",
    "- 반드시 리스트의 슬라이싱을 활용하셔야 합니다.\n",
    "\n",
    "-------\n",
    "<span style=\"font-weight:bold; color:orange;\">필요조건</span>\n",
    "```python\n",
    "num = ['python', 1, 2, 3 ,4, 5, 6, 7, 8 ,9]\n",
    "\n",
    "print(num[])\n",
    "```\n",
    "-------\n",
    "<span style=\"font-weight:bold; color:orange;\">출력</span>\n",
    "```\n",
    "[8, 6, 4, 2]\n",
    "```"
   ]
  },
  {
   "cell_type": "code",
   "execution_count": null,
   "id": "4bc20d2c",
   "metadata": {
    "id": "f6b7f254",
    "outputId": "c3e62393-76f5-4b05-9a49-7f186e3907e8",
    "scrolled": true
   },
   "outputs": [],
   "source": []
  },
  {
   "cell_type": "markdown",
   "id": "bf6fc160",
   "metadata": {
    "id": "bbeedb58"
   },
   "source": [
    "#### 006 리스트 to 문자열\n",
    "\n",
    "- 다음의 출력값이 나올 수 있도록 코드를 수정하세요.\n",
    "- 반드시 변수 num을 대상으로 join과 map을 활용하세요.\n",
    " - map은 여러 데이터를 한 번에 다른 형태로 변환하기 위해서 사용합니다.\n",
    " - map은 ```map(A, a)```형태로 사용할 수 있으며 ```A```에는 함수 또는 자료형을 입력할 수 있습니다.\n",
    " - ```a```에는 iterable 타입의 데이터를 하나 이상 넣을 수 있습니다.\n",
    "\n",
    "-------\n",
    "<span style=\"font-weight:bold; color:orange;\">필요조건</span>\n",
    "```python\n",
    "num = ['python', 1, 2, 3 ,4, 5, 6, 7, 8 ,9]\n",
    "\n",
    "print()\n",
    "```\n",
    "-------\n",
    "<span style=\"font-weight:bold; color:orange;\">출력</span>\n",
    "```\n",
    "python,1,2,3,4,5,6,7,8,9\n",
    "```"
   ]
  },
  {
   "cell_type": "code",
   "execution_count": null,
   "id": "ed8cffad",
   "metadata": {
    "id": "22d332dc",
    "outputId": "1bdd4824-d9d5-49c6-f6d5-767ab7067089",
    "scrolled": true
   },
   "outputs": [],
   "source": []
  },
  {
   "cell_type": "markdown",
   "id": "2723bd61",
   "metadata": {
    "id": "79263f01"
   },
   "source": [
    "#### 007 문자열 to 리스트\n",
    "\n",
    "- 다음의 출력값이 나올 수 있도록 코드를 수정하세요.\n",
    "- 반드시 split, list, map 을 활용하세요.\n",
    "\n",
    "-------\n",
    "<span style=\"font-weight:bold; color:orange;\">필요조건</span>\n",
    "```python\n",
    "text = \"1,2,3,4,5,6,7,8,9\"\n",
    "\n",
    "print(text)\n",
    "```\n",
    "-------\n",
    "<span style=\"font-weight:bold; color:orange;\">출력</span>\n",
    "```\n",
    "[1, 2, 3, 4, 5, 6, 7, 8, 9]\n",
    "```"
   ]
  },
  {
   "cell_type": "code",
   "execution_count": null,
   "id": "d30510fc",
   "metadata": {
    "id": "66536b4d",
    "outputId": "b2318e44-81cb-4583-930f-80a2c84169bb",
    "scrolled": true
   },
   "outputs": [],
   "source": []
  },
  {
   "cell_type": "markdown",
   "id": "fc66dab8",
   "metadata": {
    "id": "4b10e23d"
   },
   "source": [
    "#### 008 리스트 자료형(원소 개수)\n",
    "\n",
    "- 변수 ```asciiArt```에 몇 개의 ```⣿```가 있는지 개수를 확인하세요.\n",
    "- 반드시 리스트로 변환해 개수를 구하세요.\n",
    "\n",
    "-------\n",
    "<span style=\"font-weight:bold; color:orange;\">필요조건</span>\n",
    "```python\n",
    "asciiArt = '''\n",
    "⠀⠀⠀⠀⠀⠀ ⠀⠀⠀⢠⣿⣶⣄⣀⡀⠀⠀⠀⠀⠀⠀⠀⠀⠀⠀⠀⠀⠀⠀⠀\n",
    "⠀⠀⠀⠀⠀ ⠀⠀⢀⣴⣿⣿⣿⣿⣿⣿⣿⣿⣿⣶⣦⣄⣀⡀⣠⣾⠀⠀⠀⠀\n",
    "⠀⠀⠀⠀ ⠀⠀⣴⣿⣿⣿⣿⣿⣿⣿⣿⣿⣿⣿⣿⣿⣿⣿⣿⣿⣿⠀⠀⠀⠀\n",
    "⠀⠀⠀ ⠀⢀⣾⣿⣿⣿⣿⣿⣿⣿⣿⣿⣿⣿⣿⣿⣿⠿⠿⢿⣿⣿⠀⠀⠀⠀\n",
    "⠀⣶⣿⣦⣜⣿⣿⣿⡟⠻⣿⣿⣿⣿⣿⣿⣿⡿⢿⡏⣴⣺⣦⣙⣿⣷⣄⠀⠀⠀\n",
    "⠀⣯⡇⣻⣿⣿⣿⣿⣷⣾⣿⣬⣥⣭⣽⣿⣿⣧⣼⡇⣯⣇⣹⣿⣿⣿⣿⣧⠀⠀\n",
    "⠀⠹⣿⣿⣿⣿⣿⣿⣿⣿⣿⣿⣿⣿⣿⣿⣿⣿⣿⣿⠸⣿⣿⣿⣿⣿⣿⣿⣷⠀\n",
    "'''\n",
    "print(asciiArt)\n",
    "```"
   ]
  },
  {
   "cell_type": "code",
   "execution_count": null,
   "id": "f7e87dbc",
   "metadata": {
    "id": "dbe8f06c",
    "outputId": "54db1a0a-4cfc-46b0-a152-3924e0694c29",
    "scrolled": true
   },
   "outputs": [],
   "source": []
  },
  {
   "cell_type": "markdown",
   "id": "3e9cb602",
   "metadata": {
    "id": "71c41537"
   },
   "source": [
    "## 1-4. 튜플"
   ]
  },
  {
   "cell_type": "markdown",
   "id": "6dce53b0",
   "metadata": {
    "id": "bcf3b731"
   },
   "source": [
    "#### 009 튜플 자료형\n",
    "\n",
    "- 다음의 출력값이 나올 수 있도록 변수 ```tup_0```과 ```tup_1```에 튜플을 만들어 바인딩 하세요.\n",
    "\n",
    "-------\n",
    "<span style=\"font-weight:bold; color:orange;\">필요조건</span>\n",
    "```python\n",
    "tup_0 = \n",
    "tup_1 = \n",
    "\n",
    "print(type(tup_0), len(tup_0))\n",
    "print(type(tup_1), len(tup_1))\n",
    "```\n",
    "-------\n",
    "<span style=\"font-weight:bold; color:orange;\">출력</span>\n",
    "```\n",
    "<class 'tuple'> 0\n",
    "<class 'tuple'> 1\n",
    "```"
   ]
  },
  {
   "cell_type": "code",
   "execution_count": null,
   "id": "8c5e8d99",
   "metadata": {
    "id": "310e3f7d",
    "outputId": "0d0b482b-02ae-4efe-864b-f3e44b106003",
    "scrolled": true
   },
   "outputs": [],
   "source": []
  },
  {
   "cell_type": "markdown",
   "id": "cfb0699d",
   "metadata": {
    "id": "01b7a4a6"
   },
   "source": [
    "#### 010 튜플 자료형(인덱싱)\n",
    "\n",
    "- 다음의 출력값이 나올 수 있도록 코드를 수정하세요.\n",
    "\n",
    "-------\n",
    "<span style=\"font-weight:bold; color:orange;\">필요조건</span>\n",
    "```python\n",
    "tup = 1, 2, 3, 4, 5, 6, 7, 8, 9\n",
    "\n",
    "print(tup)\n",
    "```\n",
    "-------\n",
    "<span style=\"font-weight:bold; color:orange;\">출력</span>\n",
    "```\n",
    "(3, 4, 5, 6)\n",
    "```"
   ]
  },
  {
   "cell_type": "code",
   "execution_count": null,
   "id": "85f0ea5a",
   "metadata": {
    "id": "e935f67b",
    "outputId": "39fc7788-8d4b-45f4-befd-03f9a4864551",
    "scrolled": true
   },
   "outputs": [],
   "source": []
  },
  {
   "cell_type": "markdown",
   "id": "44cdaead",
   "metadata": {
    "id": "8dc4a75a"
   },
   "source": [
    "## 1-5. 딕셔너리"
   ]
  },
  {
   "cell_type": "markdown",
   "id": "db7087fd",
   "metadata": {
    "id": "770dc757"
   },
   "source": [
    "#### 011 딕셔너리(생성)\n",
    "\n",
    "- 다음의 점수를 딕셔너리로 만드세요. \n",
    "\n",
    "과목|국어|영어|수학|국사|과학\n",
    "----|:--:|:--:|:--:|:--:|:--:\n",
    "점수|77|88|81|63|97\n",
    "\n",
    "-------\n",
    "<span style=\"font-weight:bold; color:orange;\">필요조건</span>\n",
    "```python\n",
    "dic = {}\n",
    "print(dic)\n",
    "```\n",
    "-------\n",
    "<span style=\"font-weight:bold; color:orange;\">출력</span>\n",
    "```\n",
    "{'국어': 77, '영어': 88, '수학': 81, '국사': 63, '과학': 97}\n",
    "```"
   ]
  },
  {
   "cell_type": "code",
   "execution_count": null,
   "id": "502f1498",
   "metadata": {
    "id": "dddd0c0a",
    "outputId": "3ce479c1-8691-483d-e154-5b865cac5036",
    "scrolled": true
   },
   "outputs": [],
   "source": []
  },
  {
   "cell_type": "markdown",
   "id": "22d7a85a",
   "metadata": {
    "id": "ee58488c"
   },
   "source": [
    "#### 012 딕셔너리(쌍 추가) \n",
    "\n",
    "- 다음의 출력값이 나올 수 있도록 쌍을 추가하세요.\n",
    "\n",
    "-------\n",
    "<span style=\"font-weight:bold; color:orange;\">필요조건</span>\n",
    "```python\n",
    "dic = {0: 0, 1: 1}\n",
    "dic[] = \n",
    "\n",
    "print(dic)\n",
    "```\n",
    "-------\n",
    "<span style=\"font-weight:bold; color:orange;\">출력</span>\n",
    "```\n",
    "{0: 0, 1: 1, 'a': 3}\n",
    "```"
   ]
  },
  {
   "cell_type": "code",
   "execution_count": null,
   "id": "81aac1a5",
   "metadata": {
    "id": "4e97909e",
    "outputId": "be247e6e-4aab-480e-829b-a2ce8d370b84",
    "scrolled": true
   },
   "outputs": [],
   "source": []
  },
  {
   "cell_type": "markdown",
   "id": "b4f0895a",
   "metadata": {
    "id": "ad71e074"
   },
   "source": [
    "#### 013 딕셔너리(삭제)\n",
    "\n",
    "- 다음의 출력값이 나올 수 있도록 코드를 수정하세요.\n",
    "- 반드시 del 함수를 사용하세요.\n",
    "\n",
    "-------\n",
    "<span style=\"font-weight:bold; color:orange;\">필요조건</span>\n",
    "```python\n",
    "dic = {0: 0, 1: 1, 'a': 3}\n",
    "dic[]\n",
    "\n",
    "print(dic)\n",
    "```\n",
    "-------\n",
    "<span style=\"font-weight:bold; color:orange;\">출력</span>\n",
    "```\n",
    "{0: 0, 1: 1}\n",
    "```"
   ]
  },
  {
   "cell_type": "code",
   "execution_count": null,
   "id": "2373440f",
   "metadata": {
    "id": "f5352174",
    "outputId": "1dc85b19-2f75-4d45-945c-462c68c9a447",
    "scrolled": true
   },
   "outputs": [],
   "source": []
  },
  {
   "cell_type": "markdown",
   "id": "b0e39f07",
   "metadata": {
    "id": "c9aacaf6"
   },
   "source": [
    "#### 014 딕셔너리(인덱싱)\n",
    "\n",
    "- key값을 이용해 모든 과목의 점수를 리스트로 만들어 출력하세요.\n",
    "\n",
    "-------\n",
    "<span style=\"font-weight:bold; color:orange;\">필요조건</span>\n",
    "```python\n",
    "dic = {'국어': 77, '영어': 88, '수학': 81, '국사': 63, '과학': 97}\n",
    "\n",
    "print()\n",
    "```\n",
    "-------\n",
    "<span style=\"font-weight:bold; color:orange;\">출력</span>\n",
    "```\n",
    "[77, 88, 81, 63, 97]\n",
    "```"
   ]
  },
  {
   "cell_type": "code",
   "execution_count": null,
   "id": "6fa7bc52",
   "metadata": {
    "id": "69d2018a",
    "outputId": "399312db-1d32-4512-a652-afbe2c265d12",
    "scrolled": true
   },
   "outputs": [],
   "source": []
  },
  {
   "cell_type": "markdown",
   "id": "7ed81761",
   "metadata": {
    "id": "40dcb770"
   },
   "source": [
    "#### 015 딕셔너리(Key, Value)\n",
    "\n",
    "- 다음의 출력값이 나올 수 있도록 코드를 수정하세요.\n",
    "- 반드시 딕셔너리 메서드를 활용하세요.\n",
    "\n",
    "-------\n",
    "<span style=\"font-weight:bold; color:orange;\">필요조건</span>\n",
    "```python\n",
    "dic = {'국어': 77, '영어': 88, '수학': 81, '국사': 63, '과학': 97}\n",
    "\n",
    "print()\n",
    "print()\n",
    "```\n",
    "-------\n",
    "<span style=\"font-weight:bold; color:orange;\">출력</span>\n",
    "```\n",
    "['국어', '영어', '수학', '국사', '과학']\n",
    "[77, 88, 81, 63, 97]\n",
    "```"
   ]
  },
  {
   "cell_type": "code",
   "execution_count": null,
   "id": "67e0577e",
   "metadata": {
    "id": "fcac87aa",
    "outputId": "f5a1e696-3df9-4282-86e9-33c3bf4b2c34",
    "scrolled": true
   },
   "outputs": [],
   "source": []
  },
  {
   "cell_type": "markdown",
   "id": "d15ba5f4",
   "metadata": {
    "id": "6d77ce13"
   },
   "source": [
    "#### 016 딕셔너리, zip, dict\n",
    "\n",
    "- 다음의 출력값이 나올 수 있도록 코드를 수정하세요.\n",
    "- 반드시 zip과 dict를 사용하세요.\n",
    "\n",
    "-------\n",
    "<span style=\"font-weight:bold; color:orange;\">필요조건</span>\n",
    "```python\n",
    "keys = ('국어', '영어', '수학', '국사', '과학')\n",
    "values = (77, 88, 81, 63, 97)\n",
    "\n",
    "print()\n",
    "```\n",
    "-------\n",
    "<span style=\"font-weight:bold; color:orange;\">출력</span>\n",
    "```\n",
    "{'국어': 77, '영어': 88, '수학': 81, '국사': 63, '과학': 97}\n",
    "\n",
    "```"
   ]
  },
  {
   "cell_type": "code",
   "execution_count": null,
   "id": "f9297a8e",
   "metadata": {
    "id": "61b849dc",
    "outputId": "4d78914a-b26f-4c94-97d7-1ebe68518477",
    "scrolled": true
   },
   "outputs": [],
   "source": []
  },
  {
   "cell_type": "markdown",
   "id": "19c88bac",
   "metadata": {
    "id": "1d54eb40"
   },
   "source": [
    "## 1-6. 집합"
   ]
  },
  {
   "cell_type": "markdown",
   "id": "8b67a34a",
   "metadata": {
    "id": "b067ab4c"
   },
   "source": [
    "#### 017 집합(합집합)\n",
    "\n",
    "- **set**을 사용하여 다음의 출력값이 나올 수 있도록 코드를 작성하세요.\n",
    "- **list** 타입임에 유의하세요.\n",
    "\n",
    "-------\n",
    "<span style=\"font-weight:bold; color:orange;\">필요조건</span>\n",
    "```python\n",
    "s1 = [1, 2, 3, 4, 5, 6, 7, 8, 9]\n",
    "s2 = [6, 7, 8, 9, 10, 11, 12, 13, 14, 15]\n",
    "\n",
    "print()\n",
    "```\n",
    "-------\n",
    "<span style=\"font-weight:bold; color:orange;\">출력</span>\n",
    "```\n",
    "[1, 2, 3, 4, 5, 6, 7, 8, 9, 10, 11, 12, 13, 14, 15]\n",
    "```"
   ]
  },
  {
   "cell_type": "code",
   "execution_count": null,
   "id": "6076165f",
   "metadata": {
    "id": "e2bae0d7",
    "outputId": "bc556941-1f75-4ad1-8194-3e21f4ed642b",
    "scrolled": true
   },
   "outputs": [],
   "source": []
  },
  {
   "cell_type": "markdown",
   "id": "650cc011",
   "metadata": {
    "id": "b9847531"
   },
   "source": [
    "#### 018 집합(차집합)\n",
    "\n",
    "- **set**을 사용하여 다음의 출력값이 나올 수 있도록 코드를 작성하세요.\n",
    "- **tuple** 타입임에 유의하세요.\n",
    "\n",
    "-------\n",
    "<span style=\"font-weight:bold; color:orange;\">필요조건</span>\n",
    "```python\n",
    "s1 = [1, 2, 3, 4, 5, 6, 7, 8, 9]\n",
    "s2 = [6, 7, 8, 9, 10, 11, 12, 13, 14, 15]\n",
    "\n",
    "print()\n",
    "```\n",
    "-------\n",
    "<span style=\"font-weight:bold; color:orange;\">출력</span>\n",
    "```\n",
    "(10, 11, 12, 13, 14, 15)\n",
    "```"
   ]
  },
  {
   "cell_type": "code",
   "execution_count": null,
   "id": "99dce586",
   "metadata": {
    "id": "fcae7080",
    "outputId": "e149dc53-94f9-4fcb-f3b5-6fca0169cf1d",
    "scrolled": true
   },
   "outputs": [],
   "source": []
  },
  {
   "cell_type": "markdown",
   "id": "4b1fe255",
   "metadata": {
    "id": "27c54a09"
   },
   "source": [
    "#### 019 집합(교집합, add)\n",
    "\n",
    "- 다음의 출력값이 나올 수 있도록 코드를 수정하세요.\n",
    "- 교집합을 구하고 값을 추가하세요.\n",
    "\n",
    "-------\n",
    "<span style=\"font-weight:bold; color:orange;\">필요조건</span>\n",
    "```python\n",
    "s1 = [1, 2, 3, 4, 5, 6, 7, 8, 9]\n",
    "s2 = [6, 7, 8, 9, 10, 11, 12, 13, 14, 15]\n",
    "\n",
    "s3 = set(s1) | set(s2)\n",
    "s3.add([100])\n",
    "print(s3)\n",
    "```\n",
    "-------\n",
    "<span style=\"font-weight:bold; color:orange;\">출력</span>\n",
    "```\n",
    "{100, 6, 7, 8, 9}\n",
    "```"
   ]
  },
  {
   "cell_type": "code",
   "execution_count": null,
   "id": "a46b3bd5",
   "metadata": {
    "id": "2b6fe391",
    "outputId": "bb313fd0-d019-4628-9e33-500bbe99e1c3",
    "scrolled": true
   },
   "outputs": [],
   "source": []
  },
  {
   "cell_type": "markdown",
   "id": "c0ff3a93",
   "metadata": {
    "id": "cccc6610"
   },
   "source": [
    "#### 020 집합\n",
    "\n",
    "- 다음의 출력이 나올 수 있도록 코드를 수정하세요.\n",
    "- list, set 을 활용하세요.\n",
    "- 출력값의 순서는 상관없습니다.\n",
    "\n",
    "-------\n",
    "<span style=\"font-weight:bold; color:orange;\">필요조건</span>\n",
    "```python\n",
    "asciiArt = '''\n",
    "⠀⠀⠀⠀⠀⠀ ⠀⠀⠀⢠⣿⣶⣄⣀⡀⠀⠀⠀⠀⠀⠀⠀⠀⠀⠀⠀⠀⠀⠀⠀\n",
    "⠀⠀⠀⠀⠀ ⠀⠀⢀⣴⣿⣿⣿⣿⣿⣿⣿⣿⣿⣶⣦⣄⣀⡀⣠⣾⠀⠀⠀⠀\n",
    "⠀⠀⠀⠀ ⠀⠀⣴⣿⣿⣿⣿⣿⣿⣿⣿⣿⣿⣿⣿⣿⣿⣿⣿⣿⣿⠀⠀⠀⠀\n",
    "⠀⠀⠀ ⠀⢀⣾⣿⣿⣿⣿⣿⣿⣿⣿⣿⣿⣿⣿⣿⣿⠿⠿⢿⣿⣿⠀⠀⠀⠀\n",
    "⠀⣶⣿⣦⣜⣿⣿⣿⡟⠻⣿⣿⣿⣿⣿⣿⣿⡿⢿⡏⣴⣺⣦⣙⣿⣷⣄⠀⠀⠀\n",
    "⠀⣯⡇⣻⣿⣿⣿⣿⣷⣾⣿⣬⣥⣭⣽⣿⣿⣧⣼⡇⣯⣇⣹⣿⣿⣿⣿⣧⠀⠀\n",
    "⠀⠹⣿⣿⣿⣿⣿⣿⣿⣿⣿⣿⣿⣿⣿⣿⣿⣿⣿⣿⠸⣿⣿⣿⣿⣿⣿⣿⣷⠀\n",
    "'''\n",
    "\n",
    "print()\n",
    "```\n",
    "-------\n",
    "<span style=\"font-weight:bold; color:orange;\">출력</span>\n",
    "```\n",
    "['⢀', '⢿', '⣥', '⡟', '⣜', '⣻', '⣷', '⠀', '⡇', '\\n', '⣬', '⠻', '⣄', '⣦', '⠿', '⠹', '⣾', '⣀', '⣧', '⣇', '⠸', '⣹', '⣺', '⣶', '⣴', ' ', '⣼', '⣭', '⡏', '⡀', '⣽', '⢠', '⣙', '⣯', '⣿', '⣠', '⡿']\n",
    "```"
   ]
  },
  {
   "cell_type": "code",
   "execution_count": null,
   "id": "a13fe658",
   "metadata": {
    "id": "bfc4dd82",
    "outputId": "7a085533-297d-4588-f502-34bfbff8f20b",
    "scrolled": true
   },
   "outputs": [],
   "source": []
  },
  {
   "cell_type": "markdown",
   "id": "cda5994b",
   "metadata": {
    "id": "c1519de7"
   },
   "source": [
    "#### 021 집합(값 여러개 추가하기, 특정 값 제거하기)\n",
    "\n",
    "- 다음의 출력값이 나올 수 있도록 코드를 수정하세요.\n",
    "- 반드시 ```remove```와 ```update```를 사용하세요.\n",
    "\n",
    "-------\n",
    "<span style=\"font-weight:bold; color:orange;\">필요조건</span>\n",
    "```python\n",
    "s = {7, 8, 9, 10}\n",
    "\n",
    "s.\n",
    "s.\n",
    "print(s)\n",
    "```\n",
    "-------\n",
    "<span style=\"font-weight:bold; color:orange;\">출력</span>\n",
    "```\n",
    "{4, 5, 6, 7, 8, 9}\n",
    "```"
   ]
  },
  {
   "cell_type": "code",
   "execution_count": null,
   "id": "b0145e23",
   "metadata": {
    "id": "faa0426c",
    "outputId": "9561a84b-617a-4b2f-f7af-407d2ad42dbc",
    "scrolled": true
   },
   "outputs": [],
   "source": []
  },
  {
   "cell_type": "markdown",
   "id": "7e924c2e",
   "metadata": {
    "id": "708cd390"
   },
   "source": [
    "## 1-7. 부울"
   ]
  },
  {
   "cell_type": "markdown",
   "id": "aa9bdda1",
   "metadata": {
    "id": "92d07a37"
   },
   "source": [
    "#### 022 불 자료형\n",
    "\n",
    "- 다음 코드의 출력값이 어떨지 예상하고 확인해보세요.\n",
    "\n",
    "-------\n",
    "<span style=\"font-weight:bold; color:orange;\">필요조건</span>\n",
    "```python\n",
    "print(bool('a'))\n",
    "print(bool(''))\n",
    "print(bool([1, 2]))\n",
    "print(bool([]))\n",
    "print(bool(1))\n",
    "print(bool(0))\n",
    "print(bool(None))\n",
    "```"
   ]
  },
  {
   "cell_type": "code",
   "execution_count": null,
   "id": "2579dd8a",
   "metadata": {
    "id": "8a7b3656",
    "outputId": "ebfd23f5-c82f-4d26-c627-94952005fc6a",
    "scrolled": true
   },
   "outputs": [],
   "source": []
  },
  {
   "cell_type": "markdown",
   "id": "dc407419",
   "metadata": {
    "id": "24e4b788"
   },
   "source": [
    "#### 023 불 자료형\n",
    "\n",
    "- 다음 코드의 출력값이 어떨지 예상하고 확인해보세요.\n",
    "\n",
    "-------\n",
    "<span style=\"font-weight:bold; color:orange;\">필요조건</span>\n",
    "```python\n",
    "ex0 = list(set([1, 2, 3]))\n",
    "ex1 = {1, 2, 3}\n",
    "\n",
    "ex0 == ex1\n",
    "```"
   ]
  },
  {
   "cell_type": "code",
   "execution_count": null,
   "id": "38c7c93a",
   "metadata": {
    "id": "f5fe7fe9",
    "outputId": "8c65b80d-cb55-4e38-ff68-3dbecabbe2ed",
    "scrolled": true
   },
   "outputs": [],
   "source": []
  }
 ],
 "metadata": {
  "colab": {
   "collapsed_sections": [
    "c5fa9c6f",
    "98da39b9",
    "49da676b",
    "71c41537",
    "8dc4a75a",
    "1d54eb40",
    "708cd390"
   ],
   "provenance": [],
   "toc_visible": true
  },
  "kernelspec": {
   "display_name": "Python 3 (ipykernel)",
   "language": "python",
   "name": "python3"
  },
  "language_info": {
   "codemirror_mode": {
    "name": "ipython",
    "version": 3
   },
   "file_extension": ".py",
   "mimetype": "text/x-python",
   "name": "python",
   "nbconvert_exporter": "python",
   "pygments_lexer": "ipython3",
   "version": "3.9.13"
  }
 },
 "nbformat": 4,
 "nbformat_minor": 5
}
