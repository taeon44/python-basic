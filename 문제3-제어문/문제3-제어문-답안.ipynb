{
 "cells": [
  {
   "cell_type": "markdown",
   "id": "6e38a8cb",
   "metadata": {
    "id": "bbc0ab09"
   },
   "source": [
    "# 2. 제어문"
   ]
  },
  {
   "cell_type": "markdown",
   "id": "98d23339",
   "metadata": {
    "id": "c8ec5373"
   },
   "source": [
    "## 2-1. 조건문"
   ]
  },
  {
   "cell_type": "markdown",
   "id": "8923c87f",
   "metadata": {
    "id": "a717d000"
   },
   "source": [
    "#### 001 if 문\n",
    "\n",
    "- 다음 코드의 출력값이 어떨지 예상하고 확인해보세요.\n",
    "\n",
    "-------\n",
    "<span style=\"font-weight:bold; color:orange;\">필요조건</span>\n",
    "```python\n",
    "print(1)\n",
    "if True:\n",
    "    print(2)\n",
    "    if False:\n",
    "        print(3)\n",
    "    elif False:\n",
    "        print(4)\n",
    "    else:\n",
    "        print(5)\n",
    "else:\n",
    "    print(6)\n",
    "```"
   ]
  },
  {
   "cell_type": "code",
   "execution_count": 1,
   "id": "355cbe76",
   "metadata": {
    "id": "00dab3d4"
   },
   "outputs": [
    {
     "name": "stdout",
     "output_type": "stream",
     "text": [
      "1\n",
      "2\n",
      "5\n"
     ]
    }
   ],
   "source": [
    "print(1)\n",
    "if True:\n",
    "    print(2)\n",
    "    if False:\n",
    "        print(3)\n",
    "    elif False:\n",
    "        print(4)\n",
    "    else:\n",
    "        print(5)\n",
    "else:\n",
    "    print(6)"
   ]
  },
  {
   "cell_type": "markdown",
   "id": "8b0e2483",
   "metadata": {
    "id": "BDXzUNnY0P3u"
   },
   "source": [
    "#### 002 비교연산자\n",
    "\n",
    "- 다음 코드의 출력값이 어떨지 예상하고 확인해보세요.\n",
    "\n",
    "-------\n",
    "<span style=\"font-weight:bold; color:orange;\">필요조건</span>\n",
    "```python\n",
    "li_0 = [1, 2, 3, 1]\n",
    "li_1 = [1, 2, 3, 4]\n",
    "\n",
    "print(li_0 == li_1)\n",
    "print(li_0 > li_1)\n",
    "print(li_0 < li_1)\n",
    "```"
   ]
  },
  {
   "cell_type": "code",
   "execution_count": 2,
   "id": "52edb66e",
   "metadata": {
    "id": "0WjQdRkm0QW8"
   },
   "outputs": [
    {
     "name": "stdout",
     "output_type": "stream",
     "text": [
      "False\n",
      "False\n",
      "True\n"
     ]
    }
   ],
   "source": [
    "li_0 = [1, 2, 3, 1]\n",
    "li_1 = [1, 2, 3, 4]\n",
    "\n",
    "print(li_0 == li_1)\n",
    "print(li_0 > li_1)\n",
    "print(li_0 < li_1)"
   ]
  },
  {
   "cell_type": "markdown",
   "id": "25478b02",
   "metadata": {
    "id": "9EaWdeHS52mK"
   },
   "source": [
    "#### 003 논리연산자\n",
    "\n",
    "- 다음 코드의 출력값이 어떨지 예상하고 확인해보세요.\n",
    "\n",
    "-------\n",
    "<span style=\"font-weight:bold; color:orange;\">필요조건</span>\n",
    "```python\n",
    "print(1 == 1 and 2 != 3)\n",
    "print(1 == 1 and 2 != 2)\n",
    "print(1 == 1 or 2 != 3)\n",
    "print(1 == 1 or 2 != 2)\n",
    "print(not 1 == 1 or 2 != 3)\n",
    "print(not (1 == 1 and 2 != 2))\n",
    "```"
   ]
  },
  {
   "cell_type": "code",
   "execution_count": 3,
   "id": "f4dfbddb",
   "metadata": {
    "id": "vJ7--bbf52Yu"
   },
   "outputs": [
    {
     "name": "stdout",
     "output_type": "stream",
     "text": [
      "True\n",
      "False\n",
      "True\n",
      "True\n",
      "True\n",
      "True\n"
     ]
    }
   ],
   "source": [
    "print(1 == 1 and 2 != 3)\n",
    "print(1 == 1 and 2 != 2)\n",
    "print(1 == 1 or 2 != 3)\n",
    "print(1 == 1 or 2 != 2)\n",
    "print(not 1 == 1 or 2 != 3)\n",
    "print(not (1 == 1 and 2 != 2))"
   ]
  },
  {
   "cell_type": "markdown",
   "id": "fde7f427",
   "metadata": {
    "id": "slm9XZ-22CBj"
   },
   "source": [
    "#### 004 논리연산자\n",
    "\n",
    "- 다음 코드의 출력값이 어떨지 예상하고 확인해보세요.\n",
    "\n",
    "-------\n",
    "<span style=\"font-weight:bold; color:orange;\">필요조건</span>\n",
    "```python\n",
    "a = []\n",
    "b = [1, 2, 3]\n",
    "\n",
    "print(a and b)\n",
    "print(a or b)\n",
    "print(not a and b)\n",
    "print(not a or b)\n",
    "```"
   ]
  },
  {
   "cell_type": "code",
   "execution_count": 27,
   "id": "19b165c2",
   "metadata": {
    "id": "5B1ye9kJ50B3"
   },
   "outputs": [
    {
     "name": "stdout",
     "output_type": "stream",
     "text": [
      "[]\n",
      "[1, 2, 3]\n",
      "[1, 2, 3]\n",
      "True\n"
     ]
    }
   ],
   "source": [
    "a = []\n",
    "b = [1, 2, 3]\n",
    "\n",
    "print(a and b) # []\n",
    "# and 논리연산자는 순서대로 논리를 점검하다가\n",
    "# False의 성질을 띄는 값을 만나는 즉시 해당 값을 return함\n",
    "# 논리적으로 좌변이 False라면 굳이 우변을 검사할 이유가 없기 때문\n",
    "# 좌우변의 값을 검사 후 둘 다 True의 성질을 띌 경우\n",
    "# 최종적으로 검사한 True의 값, 즉 우측 변의 값을 return하게 됨\n",
    "\n",
    "print(a or b) # [1, 2, 3]\n",
    "# or 논리연산자는 순서대로 논리를 점검하다가\n",
    "# True의 성질을 띄는 값을 만나는 즉시 해당 값을 return함\n",
    "# 논리적으로 좌변이 True라면 굳이 우변을 검사할 이유가 없기 때문\n",
    "# 좌우변의 값을 검사 후 둘 다 False의 성질을 띌 경우\n",
    "# 최종적으로 검사한 False의 값, 즉 우측 변의 값을 return하게 됨\n",
    "\n",
    "print(not a and b) # [1, 2, 3]\n",
    "# 좌우변 모두 True이기 때문에 우변의 값을 return\n",
    "\n",
    "print(not a or b) # True\n",
    "# 좌변이 True이기 때문에 not a를 return\n",
    "# 그냥 a였다면 []를 반환했겠지만 not이 붙으며 bool형의 값을 가지게 됨"
   ]
  },
  {
   "cell_type": "markdown",
   "id": "430ed185",
   "metadata": {
    "id": "8B3U-QgQ8ixN"
   },
   "source": [
    "#### 005 포함연산자\n",
    " \n",
    "- 다음 코드의 출력값이 어떨지 예상하고 확인해보세요.\n",
    " \n",
    "-------\n",
    "<span style=\"font-weight:bold; color:orange;\">필요조건</span>\n",
    "```python\n",
    "print(4 in [1, 2, 3])\n",
    "print(\"t\" in \"python\")\n",
    "print(81 in {\"국어\":77, \"영어\":88, \"수학\":81, \"국사\":63, \"과학\":97})\n",
    "print(31 in set([\"apple\", 99, 31, \"banana\", \"orange\"]))\n",
    "```"
   ]
  },
  {
   "cell_type": "code",
   "execution_count": 5,
   "id": "d80e4858",
   "metadata": {
    "id": "LGh0V1MC8jLP"
   },
   "outputs": [
    {
     "name": "stdout",
     "output_type": "stream",
     "text": [
      "False\n",
      "True\n",
      "False\n",
      "True\n"
     ]
    }
   ],
   "source": [
    "print(4 in [1, 2, 3])\n",
    "print(\"t\" in \"python\")\n",
    "print(81 in {\"국어\":77, \"영어\":88, \"수학\":81, \"국사\":63, \"과학\":97})\n",
    "print(31 in set([\"apple\", 99, 31, \"banana\", \"orange\"]))"
   ]
  },
  {
   "cell_type": "markdown",
   "id": "e246ac01",
   "metadata": {},
   "source": [
    "#### 006 if문, 포함연산자\n",
    "\n",
    "- 다음 코드의 출력값이 어떨지 예상하고 확인해보세요.\n",
    "\n",
    "-------\n",
    "<span style=\"font-weight:bold; color:orange;\">필요조건</span>\n",
    "```python\n",
    "li = [0, 1, 2, 3, 4, 5, 6, 7, 8, 9]\n",
    "\n",
    "if 5 in li:\n",
    "    print(\"정답\")\n",
    "    \n",
    "if 10 in li:\n",
    "    print(\"오답\")\n",
    "```"
   ]
  },
  {
   "cell_type": "code",
   "execution_count": 6,
   "id": "ff9e1fc5",
   "metadata": {},
   "outputs": [
    {
     "name": "stdout",
     "output_type": "stream",
     "text": [
      "정답\n"
     ]
    }
   ],
   "source": [
    "li = [0, 1, 2, 3, 4, 5, 6, 7, 8, 9]\n",
    "\n",
    "if 5 in li:\n",
    "    print(\"정답\")\n",
    "\n",
    "if 10 in li:\n",
    "    print(\"오답\")"
   ]
  },
  {
   "cell_type": "markdown",
   "id": "e9687f70",
   "metadata": {
    "id": "06093350"
   },
   "source": [
    "#### 007 if문, 비교연산자\n",
    "\n",
    "- 다음 코드의 출력값이 어떨지 예상하고 확인해보세요.\n",
    "\n",
    "-------\n",
    "<span style=\"font-weight:bold; color:orange;\">필요조건</span>\n",
    "```python\n",
    "dic = {\"국어\":77, \"영어\":88, \"수학\":81, \"국사\":63, \"과학\":97}\n",
    "avg =  sum([77, 88, 81, 63, 97]) / len(dic)\n",
    "\n",
    "\n",
    "if dic[\"국어\"] > avg: print(\"국어\")\n",
    "elif dic[\"영어\"] > avg: print(\"영어\")\n",
    "elif dic[\"수학\"] > avg: print(\"수학\")\n",
    "elif dic[\"국사\"] > avg: print(\"국사\")\n",
    "elif dic[\"과학\"] > avg: print(\"과학\")\n",
    "```"
   ]
  },
  {
   "cell_type": "code",
   "execution_count": 7,
   "id": "809dfa8a",
   "metadata": {
    "id": "66b6ab3a"
   },
   "outputs": [
    {
     "name": "stdout",
     "output_type": "stream",
     "text": [
      "영어\n"
     ]
    }
   ],
   "source": [
    "dic = {\"국어\":77, \"영어\":88, \"수학\":81, \"국사\":63, \"과학\":97}\n",
    "avg =  sum([77, 88, 81, 63, 97]) / len(dic)\n",
    "\n",
    "\n",
    "if dic[\"국어\"] > avg: print(\"국어\")\n",
    "elif dic[\"영어\"] > avg: print(\"영어\")\n",
    "elif dic[\"수학\"] > avg: print(\"수학\")\n",
    "elif dic[\"국사\"] > avg: print(\"국사\")\n",
    "elif dic[\"과학\"] > avg: print(\"과학\")"
   ]
  },
  {
   "cell_type": "markdown",
   "id": "5a6b48e9",
   "metadata": {},
   "source": [
    "#### 008 if문, 논리연산자\n",
    "\n",
    "- 다음 코드의 출력값이 어떨지 예상하고 확인해보세요.\n",
    "\n",
    "-------\n",
    "<span style=\"font-weight:bold; color:orange;\">필요조건</span>\n",
    "```python\n",
    "dic = {\"국어\":77, \"영어\":88, \"국사\":63, \"세계사\":97}\n",
    "\n",
    "if (dic[\"국어\"] > dic[\"영어\"]) and (dic[\"국사\"] > dic[\"세계사\"]):\n",
    "    print(\"내국인\")\n",
    "else :\n",
    "    print(\"외국인\")\n",
    "```"
   ]
  },
  {
   "cell_type": "code",
   "execution_count": 8,
   "id": "d20691cd",
   "metadata": {},
   "outputs": [
    {
     "name": "stdout",
     "output_type": "stream",
     "text": [
      "외국인\n"
     ]
    }
   ],
   "source": [
    "dic = {\"국어\":77, \"영어\":88, \"국사\":63, \"세계사\":97}\n",
    "\n",
    "if (dic[\"국어\"] > dic[\"영어\"]) and (dic[\"국사\"] > dic[\"세계사\"]):\n",
    "    print(\"내국인\")\n",
    "else :\n",
    "    print(\"외국인\")"
   ]
  },
  {
   "cell_type": "markdown",
   "id": "7118c2f5",
   "metadata": {},
   "source": [
    "#### 009 if문\n",
    "\n",
    "- 정수 ```A```와 ```B```를 비교하는 프로그램을 작성하세요.\n",
    "- ```A```가 ```B```보다 크면 ```\"A\"```를 출력\n",
    "- ```B```가 ```A```보다 크면 ```\"B\"```를 출력\n",
    "- ```A```와 ```B```가 같으면 ```\"동일\"```을 출력\n",
    "\n",
    "\n",
    "-------\n",
    "<span style=\"font-weight:bold; color:orange;\">필요조건</span>\n",
    "```python\n",
    "A, B = 50, 100\n",
    "\n",
    "if :\n",
    "    print(\"\")\n",
    "if :\n",
    "    print(\"\")\n",
    "if :\n",
    "    print(\"\")\n",
    "```\n",
    "-------\n",
    "<span style=\"font-weight:bold; color:orange;\">출력</span>\n",
    "```\n",
    "B\n",
    "```"
   ]
  },
  {
   "cell_type": "code",
   "execution_count": 9,
   "id": "3127d598",
   "metadata": {},
   "outputs": [
    {
     "name": "stdout",
     "output_type": "stream",
     "text": [
      "B\n"
     ]
    }
   ],
   "source": [
    "A, B = 50, 100\n",
    "\n",
    "if A > B:\n",
    "    print(\"A\")\n",
    "if A < B:\n",
    "    print(\"B\")\n",
    "if A == B:\n",
    "    print(\"동일\")"
   ]
  },
  {
   "cell_type": "markdown",
   "id": "911fbd6f",
   "metadata": {},
   "source": [
    "#### 010 if 문, 비교연산자\n",
    "\n",
    "- 성적을 나타내는 프로그램을 작성하세요.\n",
    "- 점수가 100~90인 경우 ```\"A\"```를 출력\n",
    "- 점수가 89~80인 경우 ```\"B\"```를 출력\n",
    "- 점수가 79~70인 경우 ```\"C\"```를 출력\n",
    "- 점수가 69~60인 경우 ```\"D\"```를 출력\n",
    "- 점수가 50 아래인 경우 ```\"F\"```를 출력\n",
    "\n",
    "-------\n",
    "<span style=\"font-weight:bold; color:orange;\">필요조건</span>\n",
    "```python\n",
    "score = 67\n",
    "\n",
    "if score >= 90:\n",
    "    print(\"A\")\n",
    "```\n",
    "-------\n",
    "<span style=\"font-weight:bold; color:orange;\">출력</span>\n",
    "```\n",
    "D\n",
    "```"
   ]
  },
  {
   "cell_type": "code",
   "execution_count": 10,
   "id": "ee21fa25",
   "metadata": {},
   "outputs": [
    {
     "name": "stdout",
     "output_type": "stream",
     "text": [
      "D\n"
     ]
    }
   ],
   "source": [
    "score = 67\n",
    "\n",
    "\n",
    "if score >= 90:\n",
    "    print(\"A\")\n",
    "elif score >= 80:\n",
    "    print(\"B\")\n",
    "elif score >= 70:\n",
    "    print(\"C\")\n",
    "elif score >= 60:\n",
    "    print(\"D\")\n",
    "else:\n",
    "    print(\"F\")"
   ]
  },
  {
   "cell_type": "markdown",
   "id": "81ec4012",
   "metadata": {},
   "source": [
    "#### 011 if문\n",
    "\n",
    "- 3개의 변수 ```a```, ```b```, ```c```가 주어졌을 때, 다음의 조건에 맞는 프로그램을 작성하세요.\n",
    "- ```a```, ```b```, ```c```가 같은 수 일때 ```\"모두 같음```출력\n",
    "- ```a```, ```b```, ```c```중 2개가 같은 수 일때 ```\"2개 같음```출력\n",
    "- ```a```, ```b```, ```c```가 모두 다른 수 일때 ```\"모두 다름```출력\n",
    "\n",
    "-------\n",
    "<span style=\"font-weight:bold; color:orange;\">필요조건</span>\n",
    "```python\n",
    "a, b, c = 1, 2, 2\n",
    "\n",
    "if :\n",
    "    print(\"\")\n",
    "elif :\n",
    "    print(\"\")\n",
    "elif :\n",
    "    print(\"\")    \n",
    "```\n",
    "-------\n",
    "<span style=\"font-weight:bold; color:orange;\">출력</span>\n",
    "```\n",
    "2개 같음\n",
    "```"
   ]
  },
  {
   "cell_type": "code",
   "execution_count": 11,
   "id": "c99e5866",
   "metadata": {},
   "outputs": [
    {
     "name": "stdout",
     "output_type": "stream",
     "text": [
      "2개 같음\n"
     ]
    }
   ],
   "source": [
    "a, b, c = 1, 2, 2\n",
    "\n",
    "if a == b and a == c and b == c:\n",
    "    print(\"모두 같음\")\n",
    "elif (a == b and a != c) or (a == c and a != b) or (b == c and b != a):\n",
    "    print(\"2개 같음\")\n",
    "elif a != b and a != c and b != c:\n",
    "    print(\"모두 다름\")    "
   ]
  },
  {
   "cell_type": "markdown",
   "id": "4c62fc2f",
   "metadata": {
    "id": "fe4baae4"
   },
   "source": [
    "## 2-2. 반복문(while)"
   ]
  },
  {
   "cell_type": "markdown",
   "id": "20869529",
   "metadata": {},
   "source": [
    "#### 012 while문, break\n",
    "\n",
    "- 다음은 무한으로 동작하는 while문 입니다.\n",
    "- while문이 한 번 동작할 때 마다 ```count```의 값을 1씩 증가시키는 코드를 추가하세요.\n",
    "- ```count```의 값이 5가 되면 while문을 빠져나오는 코드를 추가하세요. \n",
    "\n",
    "-------\n",
    "<span style=\"font-weight:bold; color:orange;\">필요조건</span>\n",
    "```python\n",
    "count = 0\n",
    "while True:\n",
    "    \n",
    "    \n",
    "print(count)\n",
    "```\n",
    "-------\n",
    "<span style=\"font-weight:bold; color:orange;\">출력</span>\n",
    "```\n",
    "5\n",
    "```"
   ]
  },
  {
   "cell_type": "code",
   "execution_count": 12,
   "id": "020448f8",
   "metadata": {},
   "outputs": [
    {
     "name": "stdout",
     "output_type": "stream",
     "text": [
      "5\n"
     ]
    }
   ],
   "source": [
    "count = 0\n",
    "while True:\n",
    "    count += 1\n",
    "    if count >= 5: break\n",
    "print(count)"
   ]
  },
  {
   "cell_type": "markdown",
   "id": "f4f5e771",
   "metadata": {},
   "source": [
    "#### 013 while문, continue\n",
    "\n",
    "- 다음의 출력값이 나올 수 있도록 5번째 줄에 코드를 추가하세요.\n",
    "\n",
    "-------\n",
    "<span style=\"font-weight:bold; color:orange;\">필요조건</span>\n",
    "```python\n",
    "count = 0\n",
    "while count < 5:\n",
    "    count += 1\n",
    "    print(count)\n",
    "    \n",
    "    count = 5\n",
    "```\n",
    "-------\n",
    "<span style=\"font-weight:bold; color:orange;\">출력</span>\n",
    "```\n",
    "1\n",
    "2\n",
    "3\n",
    "4\n",
    "5\n",
    "```"
   ]
  },
  {
   "cell_type": "code",
   "execution_count": 13,
   "id": "77ac1c31",
   "metadata": {},
   "outputs": [
    {
     "name": "stdout",
     "output_type": "stream",
     "text": [
      "1\n",
      "2\n",
      "3\n",
      "4\n",
      "5\n"
     ]
    }
   ],
   "source": [
    "count = 0\n",
    "while count < 5:\n",
    "    count += 1\n",
    "    print(count)\n",
    "    continue\n",
    "    count = 5"
   ]
  },
  {
   "cell_type": "markdown",
   "id": "dac4001a",
   "metadata": {},
   "source": [
    "#### 014 while, list\n",
    "\n",
    "- 다음의 출력값이 나올 수 있도록 2번, 3번째 줄의 코드를 수정하세요.\n",
    "- 반드시 리스트 관련 함수를 이용하여 문제를 해결하세요\n",
    "\n",
    "-------\n",
    "<span style=\"font-weight:bold; color:orange;\">필요조건</span>\n",
    "```python\n",
    "li = ['p', 'o', 'p', '.', 'i', 'l']\n",
    "while True:\n",
    "    print(li[0])\n",
    "```\n",
    "-------\n",
    "<span style=\"font-weight:bold; color:orange;\">출력</span>\n",
    "```\n",
    "l\n",
    "i\n",
    "s\n",
    "t\n",
    ".\n",
    "p\n",
    "o\n",
    "p\n",
    "```"
   ]
  },
  {
   "cell_type": "code",
   "execution_count": 14,
   "id": "06715e24",
   "metadata": {},
   "outputs": [
    {
     "name": "stdout",
     "output_type": "stream",
     "text": [
      "l\n",
      "i\n",
      ".\n",
      "p\n",
      "o\n",
      "p\n"
     ]
    }
   ],
   "source": [
    "li = ['p', 'o', 'p', '.', 'i', 'l']\n",
    "while li:\n",
    "    print(li.pop())"
   ]
  },
  {
   "cell_type": "markdown",
   "id": "1d32534c",
   "metadata": {},
   "source": [
    "#### 015 while\n",
    "\n",
    "- 임의의 수 n이 주어졌을 때, s부터 n 까지의 합을 구하는 프로그램을 작성하세요.\n",
    "- 반드시 while 문을 사용하세요.\n",
    "- 합은 ```avg``` 변수에 저장하세요.\n",
    "\n",
    "\n",
    "-------\n",
    "<span style=\"font-weight:bold; color:orange;\">필요조건</span>\n",
    "```python\n",
    "s, n = 1, 10\n",
    "avg = 0\n",
    "\n",
    "while :\n",
    "\n",
    "print(avg)\n",
    "```\n",
    "-------\n",
    "<span style=\"font-weight:bold; color:orange;\">출력</span>\n",
    "```\n",
    "55\n",
    "```"
   ]
  },
  {
   "cell_type": "code",
   "execution_count": 16,
   "id": "afbf91c8",
   "metadata": {},
   "outputs": [
    {
     "name": "stdout",
     "output_type": "stream",
     "text": [
      "55\n"
     ]
    }
   ],
   "source": [
    "s, n = 1, 10\n",
    "avg = 0\n",
    "\n",
    "while s <= n:\n",
    "    avg += s\n",
    "    s += 1\n",
    "\n",
    "print(avg)"
   ]
  },
  {
   "cell_type": "markdown",
   "id": "42c83a3e",
   "metadata": {
    "id": "d400f027",
    "scrolled": true
   },
   "source": [
    "#### 016 while문\n",
    "\n",
    "- ```num```이 1씩 증가하는 반복문이 있습니다.\n",
    "- ```count```변수의 값이 5보다 크면 탈출하는 조건문을 while문 조건식에 작성하세요.\n",
    "- while문 안에서 3의 배수만 출력하도록 프로그램을 작성하세요.\n",
    "- 3의 배수가 출력 될 때마다 ```count```변수의 값을 1씩 추가하세요.\n",
    "- ```count```변수의 값이 5가 되면 while문을 탈출하는 조하세요.\n",
    "\n",
    "-------\n",
    "<span style=\"font-weight:bold; color:orange;\">필요조건</span>\n",
    "```python\n",
    "num = 0\n",
    "count = 0\n",
    "\n",
    "while :\n",
    "    num += 1\n",
    "    \n",
    "        \n",
    "print(\"num:\", num)\n",
    "print(\"count:\", count)\n",
    "```\n",
    "-------\n",
    "<span style=\"font-weight:bold; color:orange;\">출력</span>\n",
    "```\n",
    "num: 15\n",
    "count: 5\n",
    "```"
   ]
  },
  {
   "cell_type": "code",
   "execution_count": 15,
   "id": "84545e99",
   "metadata": {},
   "outputs": [
    {
     "name": "stdout",
     "output_type": "stream",
     "text": [
      "num: 15\n",
      "count: 5\n"
     ]
    }
   ],
   "source": [
    "num = 0\n",
    "count = 0\n",
    "\n",
    "while count < 5:\n",
    "    num += 1\n",
    "    if num % 3 == 0:\n",
    "        count += 1\n",
    "        \n",
    "print(\"num:\", num)\n",
    "print(\"count:\", count)"
   ]
  },
  {
   "cell_type": "markdown",
   "id": "95cd58cb",
   "metadata": {
    "id": "fe4baae4"
   },
   "source": [
    "## 2-3. 반복문(for)"
   ]
  },
  {
   "cell_type": "markdown",
   "id": "2b256b01",
   "metadata": {},
   "source": [
    "#### 017 for문\n",
    "\n",
    "- for문을 사용해 다음의 출력값이 나올 수 있도록 프로그램을 작성하세요.\n",
    "\n",
    "-------\n",
    "<span style=\"font-weight:bold; color:orange;\">필요조건</span>\n",
    "```python\n",
    "dic = {\"국어\":77, \"영어\":88, \"수학\":81, \"국사\":63, \"과학\":97}\n",
    "\n",
    "for item in dic:\n",
    "    print(item)\n",
    "```\n",
    "-------\n",
    "<span style=\"font-weight:bold; color:orange;\">출력</span>\n",
    "```\n",
    "77\n",
    "88\n",
    "81\n",
    "63\n",
    "97\n",
    "```"
   ]
  },
  {
   "cell_type": "code",
   "execution_count": 17,
   "id": "f131447a",
   "metadata": {},
   "outputs": [
    {
     "name": "stdout",
     "output_type": "stream",
     "text": [
      "77\n",
      "88\n",
      "81\n",
      "63\n",
      "97\n"
     ]
    }
   ],
   "source": [
    "dic = {\"국어\":77, \"영어\":88, \"수학\":81, \"국사\":63, \"과학\":97}\n",
    "\n",
    "for item in dic.values():\n",
    "    print(item)"
   ]
  },
  {
   "cell_type": "markdown",
   "id": "b26ed241",
   "metadata": {},
   "source": [
    "#### 018 for문\n",
    "\n",
    "- 다음의 출력값이 나올 수 있도록 for문을 사용하여 프로그램을 작성하세요.\n",
    "\n",
    "-------\n",
    "<span style=\"font-weight:bold; color:orange;\">필요조건</span>\n",
    "```python\n",
    "li = [\"A\" \"B\", \"C\", \"D\", \"E\"]\n",
    "for :\n",
    "```\n",
    "-------\n",
    "<span style=\"font-weight:bold; color:orange;\">출력</span>\n",
    "```\n",
    "D\n",
    "E\n",
    "```"
   ]
  },
  {
   "cell_type": "code",
   "execution_count": 18,
   "id": "08c3d7ad",
   "metadata": {},
   "outputs": [
    {
     "name": "stdout",
     "output_type": "stream",
     "text": [
      "D\n",
      "E\n"
     ]
    }
   ],
   "source": [
    "li = [\"A\" \"B\", \"C\", \"D\", \"E\"]\n",
    "for i in li[2:4]:\n",
    "    print(i)"
   ]
  },
  {
   "cell_type": "markdown",
   "id": "908dcb87",
   "metadata": {},
   "source": [
    "#### 019 for문, range\n",
    "\n",
    "- ```numberList```는 0~49까지의 숫자를 담은 열거형 데이터입니다.\n",
    "- 다음의 출력값이 나올 수 있도록 코드를 수정하세요.\n",
    "\n",
    "\n",
    "-------\n",
    "<span style=\"font-weight:bold; color:orange;\">필요조건</span>\n",
    "```python\n",
    "numberList = range(0, 50)\n",
    "for i in :\n",
    "    print(i)\n",
    "```\n",
    "-------\n",
    "<span style=\"font-weight:bold; color:orange;\">출력</span>\n",
    "```\n",
    "0\n",
    "11\n",
    "22\n",
    "33\n",
    "44\n",
    "```"
   ]
  },
  {
   "cell_type": "code",
   "execution_count": 21,
   "id": "8ab95ecc",
   "metadata": {},
   "outputs": [
    {
     "name": "stdout",
     "output_type": "stream",
     "text": [
      "0\n",
      "11\n",
      "22\n",
      "33\n",
      "44\n"
     ]
    }
   ],
   "source": [
    "numberList = range(0, 50)\n",
    "for i in numberList[::11]:\n",
    "    print(i)"
   ]
  },
  {
   "cell_type": "markdown",
   "id": "bd39c890",
   "metadata": {},
   "source": [
    "#### 020 for문, range\n",
    "\n",
    "- 다음의 출력값이 나올 수 있도록 프로그램을 작성하세요.\n",
    "- 반드시 for문과 range 함수를 이용하세요.\n",
    "-------\n",
    "<span style=\"font-weight:bold; color:orange;\">출력</span>\n",
    "```\n",
    "*\n",
    "**\n",
    "***\n",
    "****\n",
    "*****\n",
    "```"
   ]
  },
  {
   "cell_type": "code",
   "execution_count": 22,
   "id": "04af85ae",
   "metadata": {},
   "outputs": [
    {
     "name": "stdout",
     "output_type": "stream",
     "text": [
      "*\n",
      "**\n",
      "***\n",
      "****\n",
      "*****\n"
     ]
    }
   ],
   "source": [
    "for i in range(1, 6):\n",
    "    print(\"*\" * i)"
   ]
  },
  {
   "cell_type": "markdown",
   "id": "ab05ec92",
   "metadata": {},
   "source": [
    "#### 021 for문, range\n",
    "\n",
    "- 다음의 출력값이 나올 수 있도록 프로그램을 작성하세요.\n",
    "- 반드시 for문과 range 함수를 이용하세요.\n",
    "-------\n",
    "<span style=\"font-weight:bold; color:orange;\">출력</span>\n",
    "```\n",
    "    *     \n",
    "   ***    \n",
    "  *****   \n",
    " *******  \n",
    "********* \n",
    "```"
   ]
  },
  {
   "cell_type": "code",
   "execution_count": 28,
   "id": "3b34fa3a",
   "metadata": {},
   "outputs": [
    {
     "name": "stdout",
     "output_type": "stream",
     "text": [
      "    *    \n",
      "   ***   \n",
      "  *****  \n",
      " ******* \n",
      "*********\n"
     ]
    }
   ],
   "source": [
    "for i in range(1, 10, 2):\n",
    "    print(\"{:^9}\".format(\"*\" * i))"
   ]
  },
  {
   "cell_type": "markdown",
   "id": "8fb21bb8",
   "metadata": {},
   "source": [
    "#### 022 list comprehension\n",
    "\n",
    "- 다음의 출력값이 나올 수 있도록 프로그램을 작성하세요.\n",
    "- list comprehension을 활용하여 3의 배수만 출력하도록 하는 코드를 작성하세요.\n",
    "\n",
    "-------\n",
    "<span style=\"font-weight:bold; color:orange;\">필요조건</span>\n",
    "```python\n",
    "num_list = range(1, 31)\n",
    "result = # 주석을 지우고 이곳에 함수를 작성하세요.\n",
    "result\n",
    "```\n",
    "-------\n",
    "<span style=\"font-weight:bold; color:orange;\">출력</span>\n",
    "```\n",
    "[3, 6, 9, 12, 15, 18, 21, 24, 27, 30]\n",
    "```\n"
   ]
  },
  {
   "cell_type": "code",
   "execution_count": 29,
   "id": "aa64a8d8",
   "metadata": {},
   "outputs": [
    {
     "data": {
      "text/plain": [
       "[3, 6, 9, 12, 15, 18, 21, 24, 27, 30]"
      ]
     },
     "execution_count": 29,
     "metadata": {},
     "output_type": "execute_result"
    }
   ],
   "source": [
    "num_list = range(1, 31)\n",
    "result = [x for x in num_list if x % 3 == 0]\n",
    "result"
   ]
  },
  {
   "cell_type": "markdown",
   "id": "225c02db",
   "metadata": {},
   "source": [
    "#### 023 list comprehension\n",
    "\n",
    "- list comprehension을 활용해 1~9의 숫자를 담은 리스트를 생성하고 ```row``` 변수에 할당하세요.\n",
    "\n",
    "-------\n",
    "<span style=\"font-weight:bold; color:orange;\">필요조건</span>\n",
    "```python\n",
    "row = []\n",
    "row\n",
    "```\n",
    "-------\n",
    "<span style=\"font-weight:bold; color:orange;\">출력</span>\n",
    "```\n",
    "[1, 2, 3, 4, 5, 6, 7, 8, 9]\n",
    "```\n"
   ]
  },
  {
   "cell_type": "code",
   "execution_count": 31,
   "id": "9f843b85",
   "metadata": {},
   "outputs": [
    {
     "data": {
      "text/plain": [
       "[1, 2, 3, 4, 5, 6, 7, 8, 9]"
      ]
     },
     "execution_count": 31,
     "metadata": {},
     "output_type": "execute_result"
    }
   ],
   "source": [
    "row = [x for x in range(1,10)]\n",
    "row"
   ]
  },
  {
   "cell_type": "markdown",
   "id": "1507787b",
   "metadata": {},
   "source": [
    "#### 024 list comprehension\n",
    "\n",
    "- 다음은 위에서 계산한 ```row```변수와 list comprehension을 활용해 구구단을 출력하는 프로그램을 만드려다 실패한 코드입니다.\n",
    "- 다음과 같은 output이 나오도록 코드를 수정하세요. \n",
    "\n",
    "-------\n",
    "<span style=\"font-weight:bold; color:orange;\">필요조건</span>\n",
    "```python\n",
    "result = [x*y for x in row\n",
    "          for y in range(2, 10)]\n",
    "result\n",
    "```\n",
    "-------\n",
    "<span style=\"font-weight:bold; color:orange;\">출력</span>\n",
    "```\n",
    "[[2, 4, 6, 8, 10, 12, 14, 16, 18],\n",
    " [3, 6, 9, 12, 15, 18, 21, 24, 27],\n",
    " [4, 8, 12, 16, 20, 24, 28, 32, 36],\n",
    " [5, 10, 15, 20, 25, 30, 35, 40, 45],\n",
    " [6, 12, 18, 24, 30, 36, 42, 48, 54],\n",
    " [7, 14, 21, 28, 35, 42, 49, 56, 63],\n",
    " [8, 16, 24, 32, 40, 48, 56, 64, 72],\n",
    " [9, 18, 27, 36, 45, 54, 63, 72, 81]]\n",
    "```\n"
   ]
  },
  {
   "cell_type": "code",
   "execution_count": 34,
   "id": "b371703c",
   "metadata": {},
   "outputs": [
    {
     "data": {
      "text/plain": [
       "[[2, 4, 6, 8, 10, 12, 14, 16, 18],\n",
       " [3, 6, 9, 12, 15, 18, 21, 24, 27],\n",
       " [4, 8, 12, 16, 20, 24, 28, 32, 36],\n",
       " [5, 10, 15, 20, 25, 30, 35, 40, 45],\n",
       " [6, 12, 18, 24, 30, 36, 42, 48, 54],\n",
       " [7, 14, 21, 28, 35, 42, 49, 56, 63],\n",
       " [8, 16, 24, 32, 40, 48, 56, 64, 72],\n",
       " [9, 18, 27, 36, 45, 54, 63, 72, 81]]"
      ]
     },
     "execution_count": 34,
     "metadata": {},
     "output_type": "execute_result"
    }
   ],
   "source": [
    "result = [[x*y for x in row]\n",
    "          for y in range(2, 10)]\n",
    "result"
   ]
  }
 ],
 "metadata": {
  "kernelspec": {
   "display_name": "Python 3 (ipykernel)",
   "language": "python",
   "name": "python3"
  },
  "language_info": {
   "codemirror_mode": {
    "name": "ipython",
    "version": 3
   },
   "file_extension": ".py",
   "mimetype": "text/x-python",
   "name": "python",
   "nbconvert_exporter": "python",
   "pygments_lexer": "ipython3",
   "version": "3.9.13"
  }
 },
 "nbformat": 4,
 "nbformat_minor": 5
}
