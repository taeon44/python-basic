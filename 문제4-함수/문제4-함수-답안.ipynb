{
 "cells": [
  {
   "cell_type": "markdown",
   "id": "c6dbc0fd",
   "metadata": {
    "id": "ec13c60a"
   },
   "source": [
    "# 3. 데이터 입출력"
   ]
  },
  {
   "cell_type": "markdown",
   "id": "b26142d7",
   "metadata": {
    "id": "d86619fc"
   },
   "source": [
    "## 3-1. 함수"
   ]
  },
  {
   "cell_type": "markdown",
   "id": "a01a08cc",
   "metadata": {
    "id": "501005e6",
    "scrolled": true
   },
   "source": [
    "#### 001 함수\n",
    "\n",
    "- 출력값과 같은 값을 호출하는 함수를 작성하고 호출하세요.\n",
    "\n",
    "-------\n",
    "<span style=\"font-weight:bold; color:orange;\">출력</span>\n",
    "```\n",
    "python\n",
    "```"
   ]
  },
  {
   "cell_type": "code",
   "execution_count": 1,
   "id": "516eb99d",
   "metadata": {},
   "outputs": [
    {
     "name": "stdout",
     "output_type": "stream",
     "text": [
      "python\n"
     ]
    }
   ],
   "source": [
    "def my_def():\n",
    "    print(\"python\")\n",
    "my_def()"
   ]
  },
  {
   "cell_type": "markdown",
   "id": "4a408c3a",
   "metadata": {},
   "source": [
    "#### 002 함수\n",
    "\n",
    "- ```mydef()```함수를 호출하면 보기와 같이 1부터 9까지 출력하는 함수를 작성하세요.\n",
    "\n",
    "-------\n",
    "<span style=\"font-weight:bold; color:orange;\">필요조건</span>\n",
    "```python\n",
    "# 이곳에 함수를 작성하세요\n",
    "my_def()\n",
    "```\n",
    "-------\n",
    "<span style=\"font-weight:bold; color:orange;\">출력</span>\n",
    "```\n",
    "1\n",
    "2\n",
    "3\n",
    "4\n",
    "5\n",
    "6\n",
    "7\n",
    "8\n",
    "9\n",
    "```\n"
   ]
  },
  {
   "cell_type": "code",
   "execution_count": 2,
   "id": "a95c23df",
   "metadata": {},
   "outputs": [
    {
     "name": "stdout",
     "output_type": "stream",
     "text": [
      "1\n",
      "2\n",
      "3\n",
      "4\n",
      "5\n",
      "6\n",
      "7\n",
      "8\n",
      "9\n"
     ]
    }
   ],
   "source": [
    "def my_def():\n",
    "    for i in range(1,10):\n",
    "        print(i)\n",
    "my_def()"
   ]
  },
  {
   "cell_type": "markdown",
   "id": "b15d9a17",
   "metadata": {},
   "source": [
    "#### 003함수\n",
    "\n",
    "- 다음 코드의 출력값을 예측하고 확인하세요.\n",
    "\n",
    "-------\n",
    "<span style=\"font-weight:bold; color:orange;\">필요조건</span>\n",
    "```python\n",
    "def my_def1():\n",
    "    print(\"A\")\n",
    "    \n",
    "def my_def2():\n",
    "    my_def1()\n",
    "    print(\"B\")\n",
    "    \n",
    "def my_def3():\n",
    "    my_def2()\n",
    "    print(\"C\")\n",
    "    \n",
    "my_def3()\n",
    "```"
   ]
  },
  {
   "cell_type": "code",
   "execution_count": 3,
   "id": "500bb810",
   "metadata": {},
   "outputs": [
    {
     "name": "stdout",
     "output_type": "stream",
     "text": [
      "A\n",
      "B\n",
      "C\n"
     ]
    }
   ],
   "source": [
    "def my_def1():\n",
    "    print(\"A\")\n",
    "    \n",
    "def my_def2():\n",
    "    my_def1()\n",
    "    print(\"B\")\n",
    "    \n",
    "def my_def3():\n",
    "    my_def2()\n",
    "    print(\"C\")\n",
    "    \n",
    "my_def3()"
   ]
  },
  {
   "cell_type": "markdown",
   "id": "ace8e54b",
   "metadata": {},
   "source": [
    "#### 004 함수, 전역변수\n",
    "\n",
    "- 다음은 함수를 이용해 변수```glb```의 값을 바꾸는 코드의 일부입니다.\n",
    "- ```glb``` 변수의 값을 출력값과 같도록 만드는 함수를 작성하세요.\n",
    "\n",
    "-------\n",
    "<span style=\"font-weight:bold; color:orange;\">필요조건</span>\n",
    "```python\n",
    "glb = 100\n",
    "\n",
    "\n",
    "my_def()    \n",
    "print(glb)\n",
    "```\n",
    "-------\n",
    "<span style=\"font-weight:bold; color:orange;\">출력</span>\n",
    "```\n",
    "399\n",
    "```\n"
   ]
  },
  {
   "cell_type": "code",
   "execution_count": 4,
   "id": "e590d445",
   "metadata": {},
   "outputs": [
    {
     "name": "stdout",
     "output_type": "stream",
     "text": [
      "399\n"
     ]
    }
   ],
   "source": [
    "glb = 100\n",
    "\n",
    "def my_def():\n",
    "    global glb\n",
    "    glb = 399\n",
    "\n",
    "my_def()    \n",
    "print(glb)"
   ]
  },
  {
   "cell_type": "markdown",
   "id": "70989482",
   "metadata": {},
   "source": [
    "#### 005함수, 전역변수\n",
    "\n",
    "- 다음은 함수 안의 변수 ```i```를 출력하는 프로그램입니다.\n",
    "- 함수 안에서 정의된 변수 ```i```의 값을 출력하기 위해 함수를 수정하세요.\n",
    "\n",
    "-------\n",
    "<span style=\"font-weight:bold; color:orange;\">필요조건</span>\n",
    "```python\n",
    "def my_def():\n",
    "    i = 999\n",
    "    \n",
    "mydef()    \n",
    "print(i)\n",
    "```\n",
    "-------\n",
    "<span style=\"font-weight:bold; color:orange;\">출력</span>\n",
    "```\n",
    "999\n",
    "```\n"
   ]
  },
  {
   "cell_type": "code",
   "execution_count": 4,
   "id": "935f4b84",
   "metadata": {},
   "outputs": [
    {
     "name": "stdout",
     "output_type": "stream",
     "text": [
      "999\n"
     ]
    }
   ],
   "source": [
    "def my_def():\n",
    "    global i\n",
    "    i = 999\n",
    "    \n",
    "my_def()    \n",
    "print(i)"
   ]
  },
  {
   "cell_type": "markdown",
   "id": "7760ccc7",
   "metadata": {},
   "source": [
    "#### 006 함수, 매개변수와 인수\n",
    "\n",
    "- 다음과 같이 입력한 인수를 출력해주는 함수를 작성하세요.\n",
    "\n",
    "-------\n",
    "<span style=\"font-weight:bold; color:orange;\">필요조건</span>\n",
    "```python\n",
    "# 주석을 지우고 이곳에 함수를 작성하세요.\n",
    "\n",
    "my_print(\"hi\")\n",
    "my_print(list(range(10)))\n",
    "```\n",
    "-------\n",
    "<span style=\"font-weight:bold; color:orange;\">출력</span>\n",
    "```\n",
    "hi\n",
    "[0, 1, 2, 3, 4, 5, 6, 7, 8, 9]\n",
    "```"
   ]
  },
  {
   "cell_type": "code",
   "execution_count": 6,
   "id": "7bc1ea72",
   "metadata": {},
   "outputs": [
    {
     "name": "stdout",
     "output_type": "stream",
     "text": [
      "hi\n",
      "[0, 1, 2, 3, 4, 5, 6, 7, 8, 9]\n"
     ]
    }
   ],
   "source": [
    "def my_print(text):\n",
    "    print(text)\n",
    "\n",
    "my_print(\"hi\")\n",
    "my_print(list(range(10)))"
   ]
  },
  {
   "cell_type": "markdown",
   "id": "6dd38863",
   "metadata": {},
   "source": [
    "#### 007 함수\n",
    "\n",
    "- 2개의 인수를 받아 합을 출력하는 함수를 작성하세요.\n",
    "- 작성한 함수에 변수 ```a```, ```b```를 인수로 넣고 호출하세요.\n",
    "\n",
    "-------\n",
    "<span style=\"font-weight:bold; color:orange;\">필요조건</span>\n",
    "```python\n",
    "a, b = 3, 9\n",
    "\n",
    "# 주석을 지우고 이곳에 함수를 작성하세요.\n",
    "\n",
    "my_def(a, b)\n",
    "```\n",
    "-------\n",
    "<span style=\"font-weight:bold; color:orange;\">출력</span>\n",
    "```\n",
    "12\n",
    "```"
   ]
  },
  {
   "cell_type": "code",
   "execution_count": 9,
   "id": "82c1c8f2",
   "metadata": {},
   "outputs": [
    {
     "data": {
      "text/plain": [
       "12"
      ]
     },
     "execution_count": 9,
     "metadata": {},
     "output_type": "execute_result"
    }
   ],
   "source": [
    "a, b = 3, 9\n",
    "\n",
    "def my_def(a, b):\n",
    "    return a + b\n",
    "\n",
    "my_def(a, b)"
   ]
  },
  {
   "cell_type": "markdown",
   "id": "fc040e36",
   "metadata": {},
   "source": [
    "#### 008 함수\n",
    "\n",
    "- 3개의 인수를 받아 사칙연산을 실행하는 함수를 작성하세요.\n",
    "- 보기와 같이 1,2 번째의 인수는 숫자를, 3번째 인수는 연산타입을 받도록 작성하세요.\n",
    "\n",
    "-------\n",
    "<span style=\"font-weight:bold; color:orange;\">필요조건</span>\n",
    "```python\n",
    "a, b = 3, 9\n",
    "\n",
    "# 주석을 지우고 이곳에 함수를 작성하세요.\n",
    "    \n",
    "print(my_def(a, b, \"+\"))\n",
    "print(my_def(a, b, \"-\"))\n",
    "print(my_def(a, b, \"*\"))\n",
    "print(my_def(a, b, \"/\"))\n",
    "```\n",
    "-------\n",
    "<span style=\"font-weight:bold; color:orange;\">출력</span>\n",
    "```\n",
    "12\n",
    "-6\n",
    "27\n",
    "0.3333333333333333\n",
    "```"
   ]
  },
  {
   "cell_type": "code",
   "execution_count": 10,
   "id": "141271f9",
   "metadata": {},
   "outputs": [
    {
     "name": "stdout",
     "output_type": "stream",
     "text": [
      "12\n",
      "-6\n",
      "27\n",
      "0.3333333333333333\n"
     ]
    }
   ],
   "source": [
    "a, b = 3, 9\n",
    "\n",
    "def my_def(a, b, c):\n",
    "    if c == \"+\":\n",
    "        return a + b\n",
    "    elif c == \"-\":\n",
    "        return a - b\n",
    "    elif c == \"*\":\n",
    "        return a * b\n",
    "    elif c == \"/\":\n",
    "        return a / b\n",
    "    \n",
    "print(my_def(a, b, \"+\"))\n",
    "print(my_def(a, b, \"-\"))\n",
    "print(my_def(a, b, \"*\"))\n",
    "print(my_def(a, b, \"/\"))"
   ]
  },
  {
   "cell_type": "markdown",
   "id": "266c8b71",
   "metadata": {},
   "source": [
    "#### 009 함수, 가변인자\n",
    "\n",
    "- 가변적인 문자열 타입의 인수를 입력받아 문장을 출력하는 함수를 작성하세요.\n",
    "\n",
    "-------\n",
    "<span style=\"font-weight:bold; color:orange;\">필요조건</span>\n",
    "```python\n",
    "# 주석을 지우고 이곳에 함수를 작성하세요.\n",
    "\n",
    "my_def(\"We \", \"will \", \"find \", \"a way.\")\n",
    "my_def(\"We \", \"always \", \"have.\")\n",
    "```\n",
    "-------\n",
    "<span style=\"font-weight:bold; color:orange;\">출력</span>\n",
    "```\n",
    "We will find a way.\n",
    "We always have.\n",
    "```"
   ]
  },
  {
   "cell_type": "code",
   "execution_count": 11,
   "id": "fdf7d3d4",
   "metadata": {},
   "outputs": [
    {
     "name": "stdout",
     "output_type": "stream",
     "text": [
      "We will find a way.\n",
      "We always have.\n"
     ]
    }
   ],
   "source": [
    "def my_def(*args):\n",
    "    retval = ''\n",
    "    for i in args:\n",
    "        retval += i\n",
    "    print(retval)\n",
    "    \n",
    "my_def(\"We \", \"will \", \"find \", \"a way.\")\n",
    "my_def(\"We \", \"always \", \"have.\")"
   ]
  },
  {
   "cell_type": "markdown",
   "id": "06d5d2b0",
   "metadata": {},
   "source": [
    "#### 010 함수, 키워드 매개변수\n",
    "\n",
    "- 다음과 같은 인수를 입력받아 딕셔너리 형태로 출력하는 함수를 작성하세요.\n",
    "- 반드시 키워드 매개변수를 활용하세요.\n",
    "\n",
    "-------\n",
    "<span style=\"font-weight:bold; color:orange;\">필요조건</span>\n",
    "```python\n",
    "# 주석을 지우고 이곳에 함수를 작성하세요.\n",
    "\n",
    "my_def(국어=77, 영어=88, 수학=81, 국사=63, 과학=97)\n",
    "```\n",
    "-------\n",
    "<span style=\"font-weight:bold; color:orange;\">출력</span>\n",
    "```\n",
    "{'국어': 77, '영어': 88, '수학': 81, '국사': 63, '과학': 97}\n",
    "```"
   ]
  },
  {
   "cell_type": "code",
   "execution_count": 12,
   "id": "c721bdef",
   "metadata": {},
   "outputs": [
    {
     "name": "stdout",
     "output_type": "stream",
     "text": [
      "{'국어': 77, '영어': 88, '수학': 81, '국사': 63, '과학': 97}\n"
     ]
    }
   ],
   "source": [
    "def my_def(**kwargs):\n",
    "    print(kwargs)\n",
    "    \n",
    "my_def(국어=77, 영어=88, 수학=81, 국사=63, 과학=97)"
   ]
  },
  {
   "cell_type": "markdown",
   "id": "86ec39e3",
   "metadata": {},
   "source": [
    "#### 011 함수, 초기값\n",
    "\n",
    "- 출력값을 참고하여 함수의 초기값을 할당하세요.\n",
    "\n",
    "-------\n",
    "<span style=\"font-weight:bold; color:orange;\">필요조건</span>\n",
    "```python\n",
    "\n",
    "def order_list(name, age, address):\n",
    "    print(\"이름: \" + name)\n",
    "    print(\"나이: \" + str(age))\n",
    "    print(\"주소: \" + address)\n",
    "    print(\"------------\")\n",
    "\n",
    "order_list()\n",
    "order_list(name=\"홍길동\", age=67, address=\"전라도 장성현 아곡리 아치실 마을\")\n",
    "order_list(address=\"조선 경기도 양주군\", age=48, name=\"김립\")\n",
    "\n",
    "```\n",
    "-------\n",
    "<span style=\"font-weight:bold; color:orange;\">출력</span>\n",
    "```\n",
    "이름: 미기재\n",
    "나이: None\n",
    "주소: 미기재\n",
    "------------\n",
    "이름: 홍길동\n",
    "나이: 67\n",
    "주소: 전라도 장성현 아곡리 아치실 마을\n",
    "------------\n",
    "이름: 김립\n",
    "나이: 48\n",
    "주소: 조선 경기도 양주군\n",
    "------------\n",
    "```\n"
   ]
  },
  {
   "cell_type": "code",
   "execution_count": 13,
   "id": "c851c2d1",
   "metadata": {},
   "outputs": [
    {
     "name": "stdout",
     "output_type": "stream",
     "text": [
      "이름: 미기재\n",
      "나이: None\n",
      "주소: 미기재\n",
      "------------\n",
      "이름: 홍길동\n",
      "나이: 67\n",
      "주소: 전라도 장성현 아곡리 아치실 마을\n",
      "------------\n",
      "이름: 김립\n",
      "나이: 48\n",
      "주소: 조선 경기도 양주군\n",
      "------------\n"
     ]
    }
   ],
   "source": [
    "def order_list(name=\"미기재\", age=None, address=\"미기재\"):\n",
    "    print(\"이름: \" + name)\n",
    "    print(\"나이: \" + str(age))\n",
    "    print(\"주소: \" + address)\n",
    "    print(\"------------\")\n",
    "\n",
    "order_list()\n",
    "order_list(name=\"홍길동\", age=67, address=\"전라도 장성현 아곡리 아치실 마을\")\n",
    "order_list(address=\"조선 경기도 양주군\", age=48, name=\"김립\")"
   ]
  },
  {
   "cell_type": "markdown",
   "id": "684b7267",
   "metadata": {},
   "source": [
    "#### 012 함수, 초기값\n",
    "\n",
    "- 다음 예제의 문법적인 오류를 수정하세요.\n",
    "- 매개변수에 대해서만 수정하세요.\n",
    "\n",
    "-------\n",
    "<span style=\"font-weight:bold; color:orange;\">필요조건</span>\n",
    "```python\n",
    "def order_list(*order_list, **food, customer_name=\"미입력\"):\n",
    "    print(customer_name)\n",
    "    print(order_list)    \n",
    "    print(food)    \n",
    " \n",
    "order_list(\"홍길동\", \"짬뽕\", \"짜장\", 짜장면=4000, 짬뽕=5000, 탕수육=15000)\n",
    "```\n",
    "-------\n",
    "<span style=\"font-weight:bold; color:orange;\">출력</span>\n",
    "```\n",
    "홍길동\n",
    "('짬뽕', '짜장')\n",
    "{'짜장면': 4000, '짬뽕': 5000, '탕수육': 15000}\n",
    "```\n"
   ]
  },
  {
   "cell_type": "code",
   "execution_count": 14,
   "id": "fb512de1",
   "metadata": {},
   "outputs": [
    {
     "name": "stdout",
     "output_type": "stream",
     "text": [
      "홍길동\n",
      "('짬뽕', '짜장')\n",
      "{'짜장면': 4000, '짬뽕': 5000, '탕수육': 15000}\n"
     ]
    }
   ],
   "source": [
    "def order_list(customer_name=\"미입력\",*order_list, **food):\n",
    "    print(customer_name)\n",
    "    print(order_list)    \n",
    "    print(food)    \n",
    " \n",
    "order_list(\"홍길동\", \"짬뽕\", \"짜장\", 짜장면=4000, 짬뽕=5000, 탕수육=15000)"
   ]
  },
  {
   "cell_type": "markdown",
   "id": "808c4133",
   "metadata": {},
   "source": [
    "#### 013 람다\n",
    "\n",
    "- 다음의 출력값이 나올 수 있도록 람다식을 이용해 코드를 작성하세요.\n",
    "\n",
    "-------\n",
    "<span style=\"font-weight:bold; color:orange;\">필요조건</span>\n",
    "```python\n",
    "add = # 주석을 지우고 이곳에 코드를 작성하세요.\n",
    "sub = # 주석을 지우고 이곳에 코드를 작성하세요.\n",
    "mul = # 주석을 지우고 이곳에 코드를 작성하세요.\n",
    "div = # 주석을 지우고 이곳에 코드를 작성하세요.\n",
    "\n",
    "print(add(2, 5))\n",
    "print(sub(2, 5))\n",
    "print(mul(2, 5))\n",
    "print(div(2, 5))\n",
    "```\n",
    "-------\n",
    "<span style=\"font-weight:bold; color:orange;\">출력</span>\n",
    "```\n",
    "7\n",
    "-3\n",
    "10\n",
    "0.4\n",
    "```\n"
   ]
  },
  {
   "cell_type": "code",
   "execution_count": 15,
   "id": "a1c0a9fd",
   "metadata": {},
   "outputs": [
    {
     "name": "stdout",
     "output_type": "stream",
     "text": [
      "7\n",
      "-3\n",
      "10\n",
      "0.4\n"
     ]
    }
   ],
   "source": [
    "add = lambda a, b: a + b\n",
    "sub = lambda a, b: a - b\n",
    "mul = lambda a, b: a * b\n",
    "div = lambda a, b: a / b\n",
    "\n",
    "print(add(2, 5))\n",
    "print(sub(2, 5))\n",
    "print(mul(2, 5))\n",
    "print(div(2, 5))"
   ]
  },
  {
   "cell_type": "markdown",
   "id": "5a66352c",
   "metadata": {},
   "source": [
    "#### 014 람다\n",
    "\n",
    "- 다음의 출력값이 나올 수 있도록 람다식을 이용해 코드를 작성하세요.\n",
    "\n",
    "-------\n",
    "<span style=\"font-weight:bold; color:orange;\">필요조건</span>\n",
    "```python\n",
    "result = # 주석을 지우고 이곳에 코드를 작성하세요.\n",
    "result(3)\n",
    "```\n",
    "-------\n",
    "<span style=\"font-weight:bold; color:orange;\">출력</span>\n",
    "```\n",
    "[3, 6, 9, 12, 15, 18, 21, 24, 27]\n",
    "```\n"
   ]
  },
  {
   "cell_type": "code",
   "execution_count": 16,
   "id": "3d3fb680",
   "metadata": {},
   "outputs": [
    {
     "data": {
      "text/plain": [
       "[3, 6, 9, 12, 15, 18, 21, 24, 27]"
      ]
     },
     "execution_count": 16,
     "metadata": {},
     "output_type": "execute_result"
    }
   ],
   "source": [
    "result = lambda a: [a*i for i in range(1,10)]\n",
    "result(3)"
   ]
  },
  {
   "cell_type": "markdown",
   "id": "278be487",
   "metadata": {},
   "source": [
    "#### 015 람다\n",
    "\n",
    "- 입력받은 문자열을 역순으로 리턴하는 함수를 작성하세요.\n",
    "- 반드시 람다식을 이용하세요.\n",
    "\n",
    "-------\n",
    "<span style=\"font-weight:bold; color:orange;\">필요조건</span>\n",
    "```python\n",
    "\n",
    "str_reverse = # 주석을 지우고 이곳에 코드를 작성하세요.\n",
    "str_reverse(\"python\")\n",
    "```\n",
    "-------\n",
    "<span style=\"font-weight:bold; color:orange;\">출력</span>\n",
    "```\n",
    "'nohtyp'\n",
    "```\n"
   ]
  },
  {
   "cell_type": "code",
   "execution_count": 17,
   "id": "e1fd735d",
   "metadata": {},
   "outputs": [
    {
     "data": {
      "text/plain": [
       "'nohtyp'"
      ]
     },
     "execution_count": 17,
     "metadata": {},
     "output_type": "execute_result"
    }
   ],
   "source": [
    "str_reverse = lambda text: text[::-1]\n",
    "str_reverse(\"python\")"
   ]
  },
  {
   "cell_type": "markdown",
   "id": "4356d27d",
   "metadata": {
    "id": "9a9b3fa9"
   },
   "source": [
    "## 3-2. input"
   ]
  },
  {
   "cell_type": "markdown",
   "id": "18fb8b45",
   "metadata": {
    "id": "2e6fd904",
    "scrolled": true
   },
   "source": [
    "#### 016 input\n",
    "\n",
    "- 다음의 출력값이 나올 수 있도록 코드를 수정하세요.\n",
    "\n",
    "-------\n",
    "<span style=\"font-weight:bold; color:orange;\">필요조건</span>\n",
    "```python\n",
    "input_value = # 주석을 지우고 이곳에 코드를 작성하세요.\n",
    "print(input_value * 2)\n",
    "```\n",
    "-------\n",
    "<span style=\"font-weight:bold; color:orange;\">출력</span>\n",
    "```\n",
    "숫자를 입력해주세요:12\n",
    "24\n",
    "```\n"
   ]
  },
  {
   "cell_type": "code",
   "execution_count": 18,
   "id": "0ba873fa",
   "metadata": {},
   "outputs": [
    {
     "name": "stdout",
     "output_type": "stream",
     "text": [
      "숫자를 입력해주세요:12\n",
      "24\n"
     ]
    }
   ],
   "source": [
    "input_value = int(input(\"숫자를 입력해주세요:\"))\n",
    "print(input_value * 2)"
   ]
  },
  {
   "cell_type": "markdown",
   "id": "fa1f38cf",
   "metadata": {},
   "source": [
    "#### 017 input\n",
    "\n",
    "- 한 가지의 메뉴를 입력받아 가격을 출력하는 프로그램을 작성하세요.\n",
    "\n",
    "-------\n",
    "<span style=\"font-weight:bold; color:orange;\">필요조건</span>\n",
    "```python\n",
    "menu = {'짜장면':4000, '짬뽕':5000, '탕수육':15000}\n",
    "price = # 주석을 지우고 이곳에 함수를 작성하세요.\n",
    "print(price)\n",
    "```\n",
    "-------\n",
    "<span style=\"font-weight:bold; color:orange;\">출력</span>\n",
    "```\n",
    "짜장면\n",
    "4000\n",
    "```\n"
   ]
  },
  {
   "cell_type": "code",
   "execution_count": 19,
   "id": "b418f8a0",
   "metadata": {},
   "outputs": [
    {
     "name": "stdout",
     "output_type": "stream",
     "text": [
      "짜장면\n",
      "4000\n"
     ]
    }
   ],
   "source": [
    "menu = {'짜장면':4000, '짬뽕':5000, '탕수육':15000}\n",
    "price = menu[input()]\n",
    "print(price)"
   ]
  },
  {
   "cell_type": "markdown",
   "id": "7f919696",
   "metadata": {
    "id": "6cf9c47d"
   },
   "source": [
    "## 3-3. read, write"
   ]
  },
  {
   "cell_type": "markdown",
   "id": "c1a9fe4e",
   "metadata": {
    "id": "5709aa80",
    "scrolled": true
   },
   "source": [
    "#### 018 write\n",
    "\n",
    "- 현재 경로에 ```empty.txt```파일을 하나 만드세요.\n",
    "\n",
    "-------\n",
    "<span style=\"font-weight:bold; color:orange;\">필요조건</span>\n",
    "```python\n",
    "f = # 주석을 지우고 이곳에 함수를 작성하세요.\n",
    "f.close()\n",
    "```"
   ]
  },
  {
   "cell_type": "code",
   "execution_count": 20,
   "id": "0bfcc8e7",
   "metadata": {},
   "outputs": [],
   "source": [
    "f = open('empty.txt', 'w')\n",
    "f.close()"
   ]
  },
  {
   "cell_type": "markdown",
   "id": "c03c1acc",
   "metadata": {},
   "source": [
    "#### 019 write\n",
    "\n",
    "- 절대경로를 이용해 현재 경로에 ```not_empty.txt```파일을 만드세요.\n",
    "- ```not_empty.txt```파일에 ```is not empty``` 라는 텍스트를 저장하세요.\n"
   ]
  },
  {
   "cell_type": "code",
   "execution_count": null,
   "id": "6840f9e9",
   "metadata": {},
   "outputs": [],
   "source": [
    "f = open('I:/Jupyter Project/PythonBasic/not_empty.txt', 'w')\n",
    "f.write('is not empty')\n",
    "f.close()"
   ]
  },
  {
   "cell_type": "markdown",
   "id": "96fcfa1c",
   "metadata": {},
   "source": [
    "#### 020 write\n",
    "\n",
    "- 현재경로를 이용해 ```not_empty.txt```파일을 열고 다음의 내용을 **추가**하세요.\n",
    "- ```Please write your text```\n",
    "- 추가할 때는 반드시 다음 줄에 입력될 수 있도록 유의하세요.\n",
    "\n",
    "-------\n",
    "<span style=\"font-weight:bold; color:orange;\">필요조건</span>\n",
    "```python\n",
    "# 주석을 지우고 이곳에 함수를 작성하세요.\n",
    "f = \n",
    "f.\n",
    "f.close()\n",
    "```"
   ]
  },
  {
   "cell_type": "code",
   "execution_count": null,
   "id": "4ee68e5c",
   "metadata": {},
   "outputs": [],
   "source": [
    "f = open('not_empty.txt', 'a')\n",
    "f.write('\\n' + 'Please write your text')\n",
    "f.close()"
   ]
  },
  {
   "cell_type": "markdown",
   "id": "523aedda",
   "metadata": {},
   "source": [
    "#### 021 read, with\n",
    "\n",
    "- ```with```문을 활용하여 현재경로의 ```not_empty.txt```파일을 모두 읽어오세요.\n",
    "- 읽어온 내용을 ```text```변수에 할당하세요.\n",
    "\n",
    "-------\n",
    "<span style=\"font-weight:bold; color:orange;\">필요조건</span>\n",
    "```python\n",
    "text = ''\n",
    "# 주석을 지우고 이곳에 코드를 작성하세요.\n",
    "print(text)\n",
    "```\n",
    "-------\n",
    "<span style=\"font-weight:bold; color:orange;\">출력</span>\n",
    "```\n",
    "is not empty\n",
    "Please write your text\n",
    "```\n"
   ]
  },
  {
   "cell_type": "code",
   "execution_count": null,
   "id": "7f6db5c3",
   "metadata": {},
   "outputs": [],
   "source": [
    "text = ''\n",
    "with open('not_empty.txt', 'r') as f:\n",
    "    text = f.read()\n",
    "print(text)"
   ]
  },
  {
   "cell_type": "markdown",
   "id": "ee786999",
   "metadata": {},
   "source": [
    "#### 022 write, with\n",
    "\n",
    "- ```with```문을 활용해 다음의 리스트를 파일로 만들어 저장하세요.\n",
    "- 파일은 현재경로에 ```fruits.txt```이름으로 저장하세요.\n",
    "- 반드시 ```for```문을 사용하세요.\n",
    "- 저장된 내용은 예시와 같아야 합니다.\n",
    "\n",
    "-------\n",
    "<span style=\"font-weight:bold; color:orange;\">필요조건</span>\n",
    "```python\n",
    "li = ['귤', '사과', '복숭아', '바나나', '파인애플']\n",
    "# 주석을 지우고 이곳에 함수를 작성하세요.\n",
    "```\n",
    "-------\n",
    "<span style=\"font-weight:bold; color:orange;\">예시</span>\n",
    "```\n",
    "귤\n",
    "사과\n",
    "복숭아\n",
    "바나나\n",
    "파인애플\n",
    "\n",
    "```\n"
   ]
  },
  {
   "cell_type": "code",
   "execution_count": null,
   "id": "c6da8e5c",
   "metadata": {},
   "outputs": [],
   "source": [
    "li = ['귤', '사과', '복숭아', '바나나', '파인애플']\n",
    "with open('fruits.txt', 'w') as f:\n",
    "    for item in li:\n",
    "        f.write(item + '\\n')"
   ]
  },
  {
   "cell_type": "markdown",
   "id": "eadea0a5",
   "metadata": {},
   "source": [
    "#### 023 read\n",
    "\n",
    "- with문과 for문을 사용하여 ```fruits.txt```파일의 내용을 4줄만 읽어오세요.\n",
    "\n",
    "-------\n",
    "<span style=\"font-weight:bold; color:orange;\">필요조건</span>\n",
    "```python\n",
    "# 주석을 지우고 이곳에 함수를 작성하세요.\n",
    "```\n",
    "-------\n",
    "<span style=\"font-weight:bold; color:orange;\">출력</span>\n",
    "```\n",
    "귤\n",
    "\n",
    "사과\n",
    "\n",
    "복숭아\n",
    "\n",
    "바나나\n",
    "```\n"
   ]
  },
  {
   "cell_type": "code",
   "execution_count": null,
   "id": "d68ec9a1",
   "metadata": {},
   "outputs": [],
   "source": [
    "with open('fruits.txt', 'r') as f:\n",
    "    for i in range(4):\n",
    "        print(f.readline())"
   ]
  },
  {
   "cell_type": "markdown",
   "id": "68cb38a2",
   "metadata": {},
   "source": [
    "#### 024 read, with\n",
    "\n",
    "- ```y```를 입력받으면 ```fruits.txt```파일의 데이터를 한 줄씩 불러오고, ```x```를 입력받으면 입력모드를 중지하는 프로그램을 작성하세요.\n",
    "- with문과 while문을 적절히 활용하세요.\n",
    "\n",
    "-------\n",
    "<span style=\"font-weight:bold; color:orange;\">필요조건</span>\n",
    "```python\n",
    "\n",
    "data = ''\n",
    "# 주석을 지우고 이곳에 코드를 작성하세요.\n",
    "data\n",
    "```\n",
    "-------\n",
    "<span style=\"font-weight:bold; color:orange;\">출력</span>\n",
    "```\n",
    "y\n",
    "y\n",
    "y\n",
    "x\n",
    "```\n",
    "-------\n",
    "<span style=\"font-weight:normal; color:orange;\">Out</span>\n",
    "```\n",
    "'귤\\n사과\\n복숭아\\n'\n",
    "```"
   ]
  },
  {
   "cell_type": "code",
   "execution_count": null,
   "id": "d2fa98a3",
   "metadata": {},
   "outputs": [],
   "source": [
    "data = ''\n",
    "with open('fruits.txt', 'r') as f:\n",
    "    while True:\n",
    "        input_data = input()\n",
    "        if input_data == 'y':\n",
    "            data += f.readline()\n",
    "        elif input_data == 'x':\n",
    "            break\n",
    "data"
   ]
  }
 ],
 "metadata": {
  "kernelspec": {
   "display_name": "Python 3 (ipykernel)",
   "language": "python",
   "name": "python3"
  },
  "language_info": {
   "codemirror_mode": {
    "name": "ipython",
    "version": 3
   },
   "file_extension": ".py",
   "mimetype": "text/x-python",
   "name": "python",
   "nbconvert_exporter": "python",
   "pygments_lexer": "ipython3",
   "version": "3.9.13"
  }
 },
 "nbformat": 4,
 "nbformat_minor": 5
}
