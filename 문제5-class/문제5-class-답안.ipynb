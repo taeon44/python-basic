{
 "cells": [
  {
   "cell_type": "markdown",
   "id": "562b9162",
   "metadata": {
    "id": "4e1ceec8"
   },
   "source": [
    "# 4. 클래스, 모듈, 패키지, 라이브러리 등의 활용"
   ]
  },
  {
   "cell_type": "markdown",
   "id": "6c442a71",
   "metadata": {
    "id": "33c70b94"
   },
   "source": [
    "## 4-1. 클래스"
   ]
  },
  {
   "cell_type": "markdown",
   "id": "6496d6b7",
   "metadata": {
    "id": "1c668b76",
    "scrolled": true
   },
   "source": [
    "#### 001 클래스\n",
    "\n",
    "- 아무 기능도 갖지 않은 클래스를 생성하세요\n",
    "\n",
    "-------\n",
    "<span style=\"font-weight:bold; color:orange;\">필요조건</span>\n",
    "```python\n",
    "# 주석을 지우고 이곳에 코드를 작성하세요.\n",
    "myclass = MyClass()\n",
    "print(type(myclass))\n",
    "```\n",
    "-------\n",
    "<span style=\"font-weight:bold; color:orange;\">출력</span>\n",
    "```\n",
    "<class '__main__.MyClass'>\n",
    "```"
   ]
  },
  {
   "cell_type": "code",
   "execution_count": 2,
   "id": "96dc2b77",
   "metadata": {},
   "outputs": [
    {
     "name": "stdout",
     "output_type": "stream",
     "text": [
      "<class '__main__.MyClass'>\n"
     ]
    }
   ],
   "source": [
    "class MyClass:\n",
    "    pass\n",
    "\n",
    "myclass = MyClass()\n",
    "print(type(myclass))"
   ]
  },
  {
   "cell_type": "markdown",
   "id": "17fd49e0",
   "metadata": {},
   "source": [
    "#### 002 클래스\n",
    "\n",
    "- 객체에 클래스를 할당하면 ```I love python```을 출력하는 클래스를 생성하세요.\n",
    "\n",
    "-------\n",
    "<span style=\"font-weight:bold; color:orange;\">필요조건</span>\n",
    "```python\n",
    "# 주석을 지우고 이곳에 클래스를 작성하세요.    \n",
    "myclass = MyClass()\n",
    "```\n",
    "-------\n",
    "<span style=\"font-weight:bold; color:orange;\">출력</span>\n",
    "```\n",
    "I love python\n",
    "```\n"
   ]
  },
  {
   "cell_type": "code",
   "execution_count": 3,
   "id": "4184027a",
   "metadata": {},
   "outputs": [
    {
     "name": "stdout",
     "output_type": "stream",
     "text": [
      "I love python\n"
     ]
    }
   ],
   "source": [
    "class MyClass():\n",
    "    print(\"I love python\")\n",
    "    \n",
    "myclass = MyClass()"
   ]
  },
  {
   "cell_type": "markdown",
   "id": "fae7773e",
   "metadata": {},
   "source": [
    "#### 003 클래스\n",
    "\n",
    "- 다음의 출력값을 참고하여 클래스를 생성하세요.\n",
    "- 클래스 안에는 ```set_data```함수가 포함되어야 합니다.\n",
    "\n",
    "-------\n",
    "<span style=\"font-weight:bold; color:orange;\">필요조건</span>\n",
    "```python\n",
    "# 주석을 지우고 이곳에 클래스를 생성하세요.\n",
    "\n",
    "myclass = MyClass()\n",
    "myclass.set_data(4)\n",
    "print('first: ' + str(myclass.first))\n",
    "```\n",
    "-------\n",
    "<span style=\"font-weight:bold; color:orange;\">출력</span>\n",
    "```\n",
    "first: 4 \n",
    "```\n"
   ]
  },
  {
   "cell_type": "code",
   "execution_count": 4,
   "id": "10df7c0c",
   "metadata": {},
   "outputs": [
    {
     "name": "stdout",
     "output_type": "stream",
     "text": [
      "first: 4\n"
     ]
    }
   ],
   "source": [
    "class MyClass:\n",
    "    def set_data(self, first):\n",
    "        self.first = first\n",
    "        \n",
    "myclass = MyClass()\n",
    "myclass.set_data(4)\n",
    "print('first: ' + str(myclass.first))"
   ]
  },
  {
   "cell_type": "markdown",
   "id": "c8147926",
   "metadata": {},
   "source": [
    "#### 004 클래스, 생성자\n",
    "\n",
    "- 이전에 작성한 클래스 안에 생성자를 추가하세요.\n",
    "\n",
    "-------\n",
    "<span style=\"font-weight:bold; color:orange;\">필요조건</span>\n",
    "```python\n",
    "# 주석을 지우고 이곳에 코드를 작성하세요.\n",
    "        \n",
    "myclass = MyClass(1)\n",
    "print('first: ' + str(myclass.first))\n",
    "print('-' * 20)\n",
    "myclass.set_data(4)\n",
    "print('first: ' + str(myclass.first))\n",
    "```\n",
    "-------\n",
    "<span style=\"font-weight:bold; color:orange;\">출력</span>\n",
    "```\n",
    "first: 1\n",
    "--------------------\n",
    "first: 4\n",
    "```\n"
   ]
  },
  {
   "cell_type": "code",
   "execution_count": 5,
   "id": "e0da8000",
   "metadata": {},
   "outputs": [
    {
     "name": "stdout",
     "output_type": "stream",
     "text": [
      "first: 1\n",
      "--------------------\n",
      "first: 4\n"
     ]
    }
   ],
   "source": [
    "class MyClass:\n",
    "    def __init__(self, first):\n",
    "        self.first = first       \n",
    "    def set_data(self, first):\n",
    "        self.first = first\n",
    "        \n",
    "myclass = MyClass(1)\n",
    "print('first: ' + str(myclass.first))\n",
    "print('-' * 20)\n",
    "myclass.set_data(4)\n",
    "print('first: ' + str(myclass.first))"
   ]
  },
  {
   "cell_type": "markdown",
   "id": "a29f4300",
   "metadata": {},
   "source": [
    "#### 005 클래스, class 변수\n",
    "\n",
    "- 클래스 내부를 수정하여 출력과 같은 결과물이 나오도록 작성하세요.\n",
    "\n",
    "-------\n",
    "<span style=\"font-weight:bold; color:orange;\">필요조건</span>\n",
    "```python\n",
    "class MyClass:\n",
    "    fruit = '바나나'    \n",
    "    def set_data(self, first):\n",
    "        fruit = first\n",
    "\n",
    "myclass = MyClass()\n",
    "orherclass = MyClass()\n",
    "print(myclass.fruit, orherclass.fruit)\n",
    "\n",
    "myclass.set_data(\"사과\")\n",
    "print(myclass.fruit, orherclass.fruit)\n",
    "print(myclass.fruit, orherclass.fruit)\n",
    "```\n",
    "-------\n",
    "<span style=\"font-weight:bold; color:orange;\">출력</span>\n",
    "```\n",
    "바나나 바나나\n",
    "사과 사과\n",
    "```\n"
   ]
  },
  {
   "cell_type": "code",
   "execution_count": 6,
   "id": "b19a0f40",
   "metadata": {},
   "outputs": [
    {
     "name": "stdout",
     "output_type": "stream",
     "text": [
      "바나나 바나나\n",
      "사과 사과\n"
     ]
    }
   ],
   "source": [
    "class MyClass:\n",
    "    fruit = '바나나'    \n",
    "    def set_data(self, first):\n",
    "        MyClass.fruit = first\n",
    "        \n",
    "myclass = MyClass()\n",
    "orherclass = MyClass()\n",
    "print(myclass.fruit, orherclass.fruit)\n",
    "\n",
    "myclass.set_data(\"사과\")\n",
    "print(myclass.fruit, orherclass.fruit)"
   ]
  },
  {
   "cell_type": "markdown",
   "id": "3d7aaf2e",
   "metadata": {},
   "source": [
    "#### 006 클래스, class변수\n",
    "\n",
    "- class 외부에서 class변수인 ```header```를 수정하여 출력과 같은 결과가 나오도록 코드를 작성하세요.\n",
    "\n",
    "-------\n",
    "<span style=\"font-weight:bold; color:orange;\">필요조건</span>\n",
    "```python\n",
    "class MyClass:\n",
    "    header = '-'\n",
    "    def __init__(self, first, second):\n",
    "        self.first = first\n",
    "        self.second = second\n",
    "    def myprint(self):\n",
    "        print(self.header, str(self.first), str(self.second))\n",
    "\n",
    "myclass = MyClass(1,2)\n",
    "myclass.myprint()\n",
    "# 주석을 지우고 이곳에 코드를 작성하세요.\n",
    "myclass.myprint()\n",
    "```\n",
    "-------\n",
    "<span style=\"font-weight:bold; color:orange;\">출력</span>\n",
    "```\n",
    "- 1 2\n",
    "MyClass 1 2\n",
    "```\n"
   ]
  },
  {
   "cell_type": "code",
   "execution_count": 7,
   "id": "616ba3b5",
   "metadata": {},
   "outputs": [
    {
     "name": "stdout",
     "output_type": "stream",
     "text": [
      "- 1 2\n",
      "MyClass 1 2\n"
     ]
    }
   ],
   "source": [
    "class MyClass:\n",
    "    header = '-'\n",
    "    def __init__(self, first, second):\n",
    "        self.first = first\n",
    "        self.second = second\n",
    "    def myprint(self):\n",
    "        print(self.header, str(self.first), str(self.second))\n",
    "\n",
    "myclass = MyClass(1,2)\n",
    "myclass.myprint()\n",
    "MyClass.header = \"MyClass\"\n",
    "myclass.myprint()"
   ]
  },
  {
   "cell_type": "markdown",
   "id": "fea919b8",
   "metadata": {},
   "source": [
    "#### 007 클래스\n",
    "\n",
    "- 다음의 출력값처럼 사칙연산을 수행하여 결과물을 반환하는 함수를 클래스 내부에 추가하세요.\n",
    "\n",
    "-------\n",
    "<span style=\"font-weight:bold; color:orange;\">필요조건</span>\n",
    "```python\n",
    "# 주석을 지우고 이곳에 코드를 작성하세요.\n",
    "class MyClass:\n",
    "    header = ''\n",
    "    def __init__(self, first, second):\n",
    "        \n",
    "    def add(self):\n",
    "        return self.first + self.second\n",
    "        \n",
    "myclass = MyClass(2,3)\n",
    "print(myclass.header)\n",
    "print(myclass.add())\n",
    "print(myclass.sub())\n",
    "print(myclass.mul())\n",
    "print(myclass.div())\n",
    "```\n",
    "-------\n",
    "<span style=\"font-weight:bold; color:orange;\">출력</span>\n",
    "```\n",
    "사칙연산\n",
    "5\n",
    "-1\n",
    "6\n",
    "0.6666666666666666\n",
    "```\n"
   ]
  },
  {
   "cell_type": "code",
   "execution_count": 8,
   "id": "0667a275",
   "metadata": {},
   "outputs": [
    {
     "name": "stdout",
     "output_type": "stream",
     "text": [
      "사칙연산\n",
      "5\n",
      "-1\n",
      "6\n",
      "0.6666666666666666\n"
     ]
    }
   ],
   "source": [
    "class MyClass:\n",
    "    header = '사칙연산'\n",
    "    def __init__(self, first, second):\n",
    "        self.first = first\n",
    "        self.second = second        \n",
    "    def add(self):\n",
    "        return self.first + self.second\n",
    "    def sub(self):\n",
    "        return self.first - self.second\n",
    "    def mul(self):\n",
    "        return self.first * self.second\n",
    "    def div(self):\n",
    "        return self.first / self.second\n",
    "        \n",
    "myclass = MyClass(2,3)\n",
    "print(myclass.header)\n",
    "print(myclass.add())\n",
    "print(myclass.sub())\n",
    "print(myclass.mul())\n",
    "print(myclass.div())"
   ]
  },
  {
   "cell_type": "markdown",
   "id": "e7e92bc3",
   "metadata": {},
   "source": [
    "#### 008 클래스, 상속\n",
    "\n",
    "- ```Child```라는 이름의 클래스를 생성하고, 위에서 작성했던 MyClass를 상속받으세요.\n",
    "\n",
    "-------\n",
    "<span style=\"font-weight:bold; color:orange;\">필요조건</span>\n",
    "```python\n",
    "# 주석을 지우고 이곳에 클래스를 작성하세요.\n",
    "\n",
    "child = Child(2,3)\n",
    "print(child.add())\n",
    "print(child.sub())\n",
    "```\n",
    "-------\n",
    "<span style=\"font-weight:bold; color:orange;\">출력</span>\n",
    "```\n",
    "5\n",
    "-1\n",
    "```\n"
   ]
  },
  {
   "cell_type": "code",
   "execution_count": 10,
   "id": "a4e9cca2",
   "metadata": {},
   "outputs": [
    {
     "name": "stdout",
     "output_type": "stream",
     "text": [
      "5\n",
      "-1\n"
     ]
    }
   ],
   "source": [
    "class Child(MyClass):\n",
    "    pass\n",
    "\n",
    "child = Child(2,3)\n",
    "print(child.add())\n",
    "print(child.sub())"
   ]
  },
  {
   "cell_type": "markdown",
   "id": "c6d06d58",
   "metadata": {},
   "source": [
    "#### 009 클래스, 상속\n",
    "\n",
    "- ```Child```라는 이름의 클래스를 생성하고, 위에서 작성했던 MyClass를 상속받으세요.\n",
    "- ```Child```클래스에 ```first```와 ```second```변수를 재정의하는 ```set_data```함수를 추가하세요.\n",
    "\n",
    "-------\n",
    "<span style=\"font-weight:bold; color:orange;\">필요조건</span>\n",
    "```python\n",
    "# 주석을 지우고 이곳에 클래스를 작성하세요.\n",
    "\n",
    "child = Child(2,3)\n",
    "child.set_data(1,2)\n",
    "print(child.add())\n",
    "print(child.sub())\n",
    "```\n",
    "-------\n",
    "<span style=\"font-weight:bold; color:orange;\">출력</span>\n",
    "```\n",
    "3\n",
    "-1\n",
    "```\n"
   ]
  },
  {
   "cell_type": "code",
   "execution_count": 11,
   "id": "3d8efd6b",
   "metadata": {},
   "outputs": [
    {
     "name": "stdout",
     "output_type": "stream",
     "text": [
      "3\n",
      "-1\n"
     ]
    }
   ],
   "source": [
    "class Child(MyClass):\n",
    "    def set_data(self, first, second):\n",
    "        self.first = first\n",
    "        self.second = second\n",
    "\n",
    "child = Child(2,3)\n",
    "child.set_data(1,2)\n",
    "print(child.add())\n",
    "print(child.sub())"
   ]
  },
  {
   "cell_type": "markdown",
   "id": "628f91fb",
   "metadata": {},
   "source": [
    "#### 010 클래스, 상속\n",
    "\n",
    "- ```Calculator```라는 이름의 클래스를 생성하고, ```Four```클래스를 상속받으세요.\n",
    "- ```Calculator```클래스에 나머지를 반환하는 함수를 추가하세요.\n",
    "- ```Calculator```클래스에 2개의 인수를 입력받아 제곱을 반환하는 함수를 추가하세요.\n",
    "\n",
    "\n",
    "-------\n",
    "<span style=\"font-weight:bold; color:orange;\">필요조건</span>\n",
    "```python\n",
    "class Four:\n",
    "    def set_data(self, first, second):\n",
    "        self.first = first\n",
    "        self.second = second\n",
    "    def add(self):\n",
    "        return self.first + self.second\n",
    "    def sub(self):\n",
    "        return self.first - self.second\n",
    "    def mul(self):\n",
    "        return self.first * self.second\n",
    "    def div(self):\n",
    "        return self.first / self.second\n",
    "\n",
    "# 주석을 지우고 이곳에 Calculator클래스를 작성하세요.\n",
    "\n",
    "my_calculator = Calculator()\n",
    "my_calculator.set_data(10, 6)\n",
    "print(my_calculator.mod())\n",
    "print(my_calculator.sqr(2, 10))\n",
    "```\n",
    "-------\n",
    "<span style=\"font-weight:bold; color:orange;\">출력</span>\n",
    "```\n",
    "4\n",
    "1024\n",
    "```"
   ]
  },
  {
   "cell_type": "code",
   "execution_count": 12,
   "id": "87e3f3b1",
   "metadata": {},
   "outputs": [
    {
     "name": "stdout",
     "output_type": "stream",
     "text": [
      "4\n",
      "1024\n"
     ]
    }
   ],
   "source": [
    "class Four:\n",
    "    def set_data(self, first, second):\n",
    "        self.first = first\n",
    "        self.second = second\n",
    "    def add(self):\n",
    "        return self.first + self.second\n",
    "    def sub(self):\n",
    "        return self.first - self.second\n",
    "    def mul(self):\n",
    "        return self.first * self.second\n",
    "    def div(self):\n",
    "        return self.first / self.second\n",
    "\n",
    "class Calculator(Four):\n",
    "    def mod(self):\n",
    "        return self.first % self.second\n",
    "    def sqr(self, a, b):\n",
    "        return a**b\n",
    "\n",
    "my_calculator = Calculator()\n",
    "my_calculator.set_data(10, 6)\n",
    "print(my_calculator.mod())\n",
    "print(my_calculator.sqr(2, 10))"
   ]
  },
  {
   "cell_type": "markdown",
   "id": "477d5188",
   "metadata": {
    "id": "b478b036"
   },
   "source": [
    "## 4-2. 모듈"
   ]
  },
  {
   "cell_type": "markdown",
   "id": "17b2921d",
   "metadata": {
    "id": "3fa5954a",
    "scrolled": true
   },
   "source": [
    "#### 011write\n",
    "\n",
    "- 모듈을 사용하기위해 우선 모듈을 만들어 봅시다.\n",
    "\n",
    "-------\n",
    "<span style=\"font-weight:bold; color:orange;\">따라하기</span>\n",
    "```python\n",
    "text = \"\"\"\\\n",
    "def add(a, b):\n",
    "    return a + b\n",
    "def sub(a, b):\n",
    "    return a - b\n",
    "def mul(a, b):\n",
    "    return a * b\n",
    "def div(a, b):\n",
    "    return a / b\\\n",
    "\"\"\"\n",
    "with open('my_first_module.py', 'w') as f:\n",
    "    f.write(text)\n",
    "```"
   ]
  },
  {
   "cell_type": "code",
   "execution_count": null,
   "id": "f6cf5a1c",
   "metadata": {},
   "outputs": [],
   "source": [
    "text = \"\"\"\\\n",
    "def add(a, b):\n",
    "    return a + b\n",
    "def sub(a, b):\n",
    "    return a - b\n",
    "def mul(a, b):\n",
    "    return a * b\n",
    "def div(a, b):\n",
    "    return a / b\n",
    "\"\"\"\n",
    "with open('my_first_module.py', 'w') as f:\n",
    "    f.write(text)"
   ]
  },
  {
   "cell_type": "markdown",
   "id": "efd4838a",
   "metadata": {},
   "source": [
    "#### 012 모듈\n",
    "\n",
    "- ```my_first_module```모듈을 불러오고 사칙연산을 실행해보세요.\n",
    "\n",
    "-------\n",
    "<span style=\"font-weight:bold; color:orange;\">필요조건</span>\n",
    "```python\n",
    "# 주석을 지우고 이곳에 코드를 작성하세요.\n",
    "\n",
    "print(my_first_module.add(3,5))\n",
    "print(my_first_module.sub(3,5))\n",
    "print(my_first_module.mul(3,5))\n",
    "print(my_first_module.div(3,5))\n",
    "```\n",
    "-------\n",
    "<span style=\"font-weight:bold; color:orange;\">출력</span>\n",
    "```\n",
    "8\n",
    "-2\n",
    "15\n",
    "0.6\n",
    "```\n",
    "\n"
   ]
  },
  {
   "cell_type": "code",
   "execution_count": 13,
   "id": "dd3e4f55",
   "metadata": {},
   "outputs": [
    {
     "name": "stdout",
     "output_type": "stream",
     "text": [
      "8\n",
      "-2\n",
      "15\n",
      "0.6\n"
     ]
    }
   ],
   "source": [
    "import my_first_module\n",
    "\n",
    "print(my_first_module.add(3,5))\n",
    "print(my_first_module.sub(3,5))\n",
    "print(my_first_module.mul(3,5))\n",
    "print(my_first_module.div(3,5))"
   ]
  },
  {
   "cell_type": "markdown",
   "id": "0a3a69ed",
   "metadata": {},
   "source": [
    "#### 013 모듈명 생략\n",
    "\n",
    "- ```my_first_module```모듈을 불러오고 모듈명을 생략하여 사칙연산을 실행해보세요.\n",
    "\n",
    "-------\n",
    "<span style=\"font-weight:bold; color:orange;\">필요조건</span>\n",
    "```python\n",
    "# 주석을 지우고 이곳에 코드를 작성하세요.\n",
    "\n",
    "print(add(3,5))\n",
    "print(sub(3,5))\n",
    "print(mul(3,5))\n",
    "print(div(3,5))\n",
    "```\n",
    "-------\n",
    "<span style=\"font-weight:bold; color:orange;\">출력</span>\n",
    "```\n",
    "8\n",
    "-2\n",
    "15\n",
    "0.6\n",
    "```\n"
   ]
  },
  {
   "cell_type": "code",
   "execution_count": 14,
   "id": "4443708a",
   "metadata": {},
   "outputs": [
    {
     "name": "stdout",
     "output_type": "stream",
     "text": [
      "8\n",
      "-2\n",
      "15\n",
      "0.6\n"
     ]
    }
   ],
   "source": [
    "from my_first_module import add, sub, mul, div\n",
    "\n",
    "print(add(3,5))\n",
    "print(sub(3,5))\n",
    "print(mul(3,5))\n",
    "print(div(3,5))"
   ]
  },
  {
   "cell_type": "markdown",
   "id": "c3d2bab9",
   "metadata": {},
   "source": [
    "#### 014 클래스\n",
    "\n",
    "- ```ID_Processor```이름의 클래스를 만드세요.\n",
    "- ```ID_Processor```의 생성자는 2개의 리스트를 받아 딕셔너리 형태로 저장해야 합니다.\n",
    "- ```ID_Processor```에 등록된 모든 인원수를 출력하고 리턴하는 함수를 작성하세요.\n",
    "- ```ID_Processor```에 각 성별로 몇 명의 사람이 있는지 튜플 형태로 출력하고 리턴하는 함수를 작성하세요.(남성 수, 여성 수)\n",
    "- ```ID_Processor```에 21세기 이후의 인원이 몇 명인지 출력하고 리턴하는 함수를 작성하세요.\n",
    "- ```ID_Processor```에 이름을 입력하면 해당하는 사람의 나이를 출력하고 리턴하는 함수를 작성하세요.(서양식 나이 계산법을 사용하세요)\n",
    "\n",
    "-------\n",
    "<span style=\"font-weight:bold; color:orange;\">필요조건</span>\n",
    "```python\n",
    "name_list = ['김말숙', '박영찬', '최영희', '김철수', '이석호', '김아름', '박율', '김이랑']\n",
    "id_number_list = ['600930-2416012', '810221-1023216', '790101-2735319', '550717-1019231', '851119-1031317', '991225-2300701', '050101-3131586', '010505-4319231']\n",
    "\n",
    "class ID_Processor():\n",
    "    def __init__():            \n",
    "    def get_total_id_number():    \n",
    "    def get_gender_count():    \n",
    "    def get_new_millennium_generation_count():    \n",
    "    def get_age():\n",
    "\n",
    "id_processor = ID_Processor(name_list, id_number_list)\n",
    "display(id_processor.id_list)\n",
    "id_processor.get_total_id_number()\n",
    "id_processor.get_gender_count()\n",
    "id_processor.get_new_millennium_generation_count()\n",
    "id_processor.get_age(\"김이랑\")\n",
    "id_processor.get_age(\"김말숙\")\n",
    "```\n",
    "-------\n",
    "<span style=\"font-weight:bold; color:orange;\">출력</span>\n",
    "```\n",
    "{'김말숙': '600930-2416012',\n",
    " '박영찬': '810221-1023216',\n",
    " '최영희': '790101-2735319',\n",
    " '김철수': '550717-1019231',\n",
    " '이석호': '851119-1031317',\n",
    " '김아름': '991225-2300701',\n",
    " '박율': '050101-3131586',\n",
    " '김이랑': '010505-4319231'}\n",
    "총 인원수: 8명\n",
    "남성: 4명, 여성: 4명\n",
    "뉴밀레니엄 수: 2\n",
    "김이랑님의 나이는 21살 입니다.\n",
    "김말숙님의 나이는 62살 입니다.\n",
    "```\n"
   ]
  },
  {
   "cell_type": "code",
   "execution_count": 1,
   "id": "6ca16328",
   "metadata": {},
   "outputs": [
    {
     "data": {
      "text/plain": [
       "{'김말숙': '600930-2416012',\n",
       " '박영찬': '810221-1023216',\n",
       " '최영희': '790101-2735319',\n",
       " '김철수': '550717-1019231',\n",
       " '이석호': '851119-1031317',\n",
       " '김아름': '991225-2300701',\n",
       " '박율': '050101-3131586',\n",
       " '김이랑': '010505-4319231'}"
      ]
     },
     "metadata": {},
     "output_type": "display_data"
    },
    {
     "name": "stdout",
     "output_type": "stream",
     "text": [
      "총 인원수: 8명\n",
      "남성: 4명, 여성: 4명\n",
      "뉴밀레니엄 수: 2\n",
      "김이랑님의 나이는 21살 입니다.\n",
      "김말숙님의 나이는 62살 입니다.\n"
     ]
    },
    {
     "data": {
      "text/plain": [
       "62"
      ]
     },
     "execution_count": 1,
     "metadata": {},
     "output_type": "execute_result"
    }
   ],
   "source": [
    "name_list = ['김말숙', '박영찬', '최영희', '김철수', '이석호', '김아름', '박율', '김이랑']\n",
    "id_number_list = ['600930-2416012', '810221-1023216', '790101-2735319', '550717-1019231', '851119-1031317', '991225-2300701', '050101-3131586', '010505-4319231']\n",
    "\n",
    "class ID_Processor():\n",
    "    def __init__(self, name_list, id_number_list):\n",
    "        self.id_list = {}\n",
    "        for i in range(len(name_list)):\n",
    "            self.id_list[name_list[i]] = id_number_list[i]\n",
    "            \n",
    "    def get_total_id_number(self):\n",
    "        val = len(self.id_list)\n",
    "        print(f\"총 인원수: {val}명\")\n",
    "        return val\n",
    "    \n",
    "    def get_gender_count(self):\n",
    "        man_count = 0\n",
    "        woman_count = 0\n",
    "        for item in self.id_list.values():\n",
    "            if item[7] == '1' or item[7] == '3':\n",
    "                man_count += 1\n",
    "            elif item[7] == '2' or item[7] == '4':\n",
    "                woman_count += 1\n",
    "        print(f\"남성: {man_count}명, 여성: {woman_count}명\")\n",
    "        return (man_count, woman_count)\n",
    "    \n",
    "    def get_new_millennium_generation_count(self):\n",
    "        count = 0\n",
    "        for item in self.id_list.values():\n",
    "            if int(item[7]) > 2:\n",
    "                count += 1\n",
    "        print(f\"뉴밀레니엄 수: {count}\")\n",
    "        return count\n",
    "    \n",
    "    def get_age(self, name):\n",
    "        val = 0\n",
    "        if int(self.id_list[name][7]) <= 2:\n",
    "            val = 122 - int(self.id_list[name][0:2])\n",
    "        else:\n",
    "            val = 22 - int(self.id_list[name][0:2])\n",
    "        print(f\"{name}님의 나이는 {val}살 입니다.\")\n",
    "        return val\n",
    "    \n",
    "    \n",
    "id_processor = ID_Processor(name_list, id_number_list)\n",
    "display(id_processor.id_list)\n",
    "id_processor.get_total_id_number()\n",
    "id_processor.get_gender_count()\n",
    "id_processor.get_new_millennium_generation_count()\n",
    "id_processor.get_age(\"김이랑\")\n",
    "id_processor.get_age(\"김말숙\")"
   ]
  }
 ],
 "metadata": {
  "kernelspec": {
   "display_name": "Python 3 (ipykernel)",
   "language": "python",
   "name": "python3"
  },
  "language_info": {
   "codemirror_mode": {
    "name": "ipython",
    "version": 3
   },
   "file_extension": ".py",
   "mimetype": "text/x-python",
   "name": "python",
   "nbconvert_exporter": "python",
   "pygments_lexer": "ipython3",
   "version": "3.9.13"
  }
 },
 "nbformat": 4,
 "nbformat_minor": 5
}
