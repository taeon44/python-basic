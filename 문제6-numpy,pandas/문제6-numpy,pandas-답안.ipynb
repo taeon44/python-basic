{
 "cells": [
  {
   "cell_type": "markdown",
   "metadata": {},
   "source": [
    "# 1. numpy"
   ]
  },
  {
   "cell_type": "markdown",
   "metadata": {},
   "source": [
    "## 1-1. 배열 및 명령어"
   ]
  },
  {
   "cell_type": "markdown",
   "metadata": {},
   "source": [
    "#### 000 numpy 모듈 불러오기 및 버전 확인\n",
    "\n",
    "- numpy 모듈을 불러오고 버전을 확인해보세요.\n",
    "- numpy 모듈을 np로 줄여 사용할 수 있도록 작성하세요."
   ]
  },
  {
   "cell_type": "code",
   "execution_count": 1,
   "metadata": {},
   "outputs": [
    {
     "data": {
      "text/plain": [
       "'1.21.5'"
      ]
     },
     "execution_count": 1,
     "metadata": {},
     "output_type": "execute_result"
    }
   ],
   "source": [
    "import numpy as np\n",
    "np.__version__"
   ]
  },
  {
   "cell_type": "markdown",
   "metadata": {},
   "source": [
    "#### 001 타입 확인\n",
    "\n",
    "- 다음 ```data```변수의 타입을 확인하세요.\n",
    "\n",
    "-------\n",
    "<span style=\"font-weight:normal; color:#303F9F;\">In</span>\n",
    "```python\n",
    "data = np.array([1, 2, 3])\n",
    "# 주석을 지우고 이곳에 코드를 작성하세요.\n",
    "```\n",
    "-------\n",
    "<span style=\"font-weight:normal; color:red;\">Out</span>\n",
    "```\n",
    "numpy.ndarray\n",
    "```"
   ]
  },
  {
   "cell_type": "code",
   "execution_count": 2,
   "metadata": {},
   "outputs": [
    {
     "data": {
      "text/plain": [
       "numpy.ndarray"
      ]
     },
     "execution_count": 2,
     "metadata": {},
     "output_type": "execute_result"
    }
   ],
   "source": [
    "data = np.array([1, 2, 3])\n",
    "type(data)"
   ]
  },
  {
   "cell_type": "markdown",
   "metadata": {},
   "source": [
    "#### 002 배열생성\n",
    "\n",
    "- data 변수를 생성하고 아래의 출력과 같은 값이 나오도록 배열을 생성하세요.\n",
    "\n",
    "-------\n",
    "<span style=\"font-weight:normal; color:#303F9F;\">In</span>\n",
    "```python\n",
    "# 주석을 지우고 이곳에 코드를 작성하세요.\n",
    "data\n",
    "```\n",
    "-------\n",
    "<span style=\"font-weight:normal; color:red;\">Out</span>\n",
    "```\n",
    "array([3, 1, 7, 9])\n",
    "```"
   ]
  },
  {
   "cell_type": "code",
   "execution_count": 3,
   "metadata": {},
   "outputs": [
    {
     "data": {
      "text/plain": [
       "array([3, 1, 7, 9])"
      ]
     },
     "execution_count": 3,
     "metadata": {},
     "output_type": "execute_result"
    }
   ],
   "source": [
    "data = np.array([3, 1, 7, 9])\n",
    "data"
   ]
  },
  {
   "cell_type": "markdown",
   "metadata": {},
   "source": [
    "#### 003 배열생성\n",
    "\n",
    "- ```data1``` 변수를 생성하고 다음의 출력과 같은 값이 나오도록 배열을 생성하세요.\n",
    "\n",
    "-------\n",
    "<span style=\"font-weight:normal; color:#303F9F;\">In</span>\n",
    "```python\n",
    "# 주석을 지우고 이곳에 코드를 작성하세요.\n",
    "data1\n",
    "```\n",
    "-------\n",
    "<span style=\"font-weight:normal; color:red;\">Out</span>\n",
    "```\n",
    "array([[3.5 , 4.31, 1.12],\n",
    "       [9.  , 1.  , 3.  ]])\n",
    "```"
   ]
  },
  {
   "cell_type": "code",
   "execution_count": 4,
   "metadata": {},
   "outputs": [
    {
     "data": {
      "text/plain": [
       "array([[3.5 , 4.31, 1.12],\n",
       "       [9.  , 1.  , 3.  ]])"
      ]
     },
     "execution_count": 4,
     "metadata": {},
     "output_type": "execute_result"
    }
   ],
   "source": [
    "data1 = np.array([[3.5, 4.31, 1.12], [9, 1, 3]])\n",
    "data1"
   ]
  },
  {
   "cell_type": "markdown",
   "metadata": {},
   "source": [
    "#### 004 차원 확인(ndim)\n",
    "\n",
    "- ```data1```과 ```data2```가 각각 몇 차원인지 예상해보고 확인하세요.\n",
    "\n",
    "-------\n",
    "<span style=\"font-weight:normal; color:#303F9F;\">In</span>\n",
    "```python\n",
    "data1 = np.array([3, 1, 7, 9])\n",
    "data2 = np.array([[3.5, 4.31, 1.12], [9, 1, 3]])\n",
    "\n",
    "print(data1) # 주석을 지우고 print 안에 코드를 작성하세요.\n",
    "print(data2) # 주석을 지우고 print 안에 코드를 작성하세요.\n",
    "```"
   ]
  },
  {
   "cell_type": "code",
   "execution_count": 5,
   "metadata": {},
   "outputs": [
    {
     "name": "stdout",
     "output_type": "stream",
     "text": [
      "1\n",
      "2\n"
     ]
    }
   ],
   "source": [
    "data1 = np.array([3, 1, 7, 9])\n",
    "data2 = np.array([[3.5, 4.31, 1.12], [9, 1, 3]])\n",
    "\n",
    "print(data1.ndim) # 주석을 지우고 print 안에 코드를 작성하세요.\n",
    "print(data2.ndim) # 주석을 지우고 print 안에 코드를 작성하세요."
   ]
  },
  {
   "cell_type": "markdown",
   "metadata": {},
   "source": [
    "#### 005 차원 구조 확인(shape)\n",
    "\n",
    "- ```data1```과 ```data2```의 차원 구조가 어떨지 예상해보고 확인하세요.\n",
    "\n",
    "-------\n",
    "<span style=\"font-weight:normal; color:#303F9F;\">In</span>\n",
    "```python\n",
    "data1 = np.array([3, 1, 7, 9])\n",
    "data2 = np.array([[3.5, 4.31, 1.12], [9, 1, 3]])\n",
    "\n",
    "print(data1) # 주석을 지우고 print 안에 코드를 작성하세요.\n",
    "print(data2) # 주석을 지우고 print 안에 코드를 작성하세요.\n",
    "```"
   ]
  },
  {
   "cell_type": "code",
   "execution_count": 6,
   "metadata": {},
   "outputs": [
    {
     "name": "stdout",
     "output_type": "stream",
     "text": [
      "(4,)\n",
      "(2, 3)\n"
     ]
    }
   ],
   "source": [
    "data1 = np.array([3, 1, 7, 9])\n",
    "data2 = np.array([[3.5, 4.31, 1.12], [9, 1, 3]])\n",
    "\n",
    "print(data1.shape) # 주석을 지우고 print 안에 코드를 작성하세요.\n",
    "print(data2.shape) # 주석을 지우고 print 안에 코드를 작성하세요."
   ]
  },
  {
   "cell_type": "markdown",
   "metadata": {},
   "source": [
    "#### 006 데이터 타입 확인(dtype)\n",
    "\n",
    "- ```data1```과 ```data2```의 데이터 타입을 예상해보고 확인하세요.\n",
    "\n",
    "-------\n",
    "<span style=\"font-weight:normal; color:#303F9F;\">In</span>\n",
    "```python\n",
    "data1 = np.array([3, 1, 7, 9])\n",
    "data2 = np.array([[3.5, 4.31, 1.12], [9, 1, 3]])\n",
    "\n",
    "print(data1) # 주석을 지우고 print 안에 코드를 작성하세요.\n",
    "print(data2) # 주석을 지우고 print 안에 코드를 작성하세요.\n",
    "```"
   ]
  },
  {
   "cell_type": "code",
   "execution_count": 7,
   "metadata": {},
   "outputs": [
    {
     "name": "stdout",
     "output_type": "stream",
     "text": [
      "int32\n",
      "float64\n"
     ]
    }
   ],
   "source": [
    "data1 = np.array([3, 1, 7, 9])\n",
    "data2 = np.array([[3.5, 4.31, 1.12], [9, 1, 3]])\n",
    "\n",
    "print(data1.dtype) # 주석을 지우고 print 안에 코드를 작성하세요.\n",
    "print(data2.dtype) # 주석을 지우고 print 안에 코드를 작성하세요."
   ]
  },
  {
   "cell_type": "markdown",
   "metadata": {},
   "source": [
    "#### 007 데이터 개수 확인(size)\n",
    "\n",
    "- ```data1```과 ```data2```의 데이터 개수를 예상해보고 확인하세요.\n",
    "\n",
    "-------\n",
    "<span style=\"font-weight:normal; color:#303F9F;\">In</span>\n",
    "```python\n",
    "data1 = np.array([3, 1, 7, 9])\n",
    "data2 = np.array([[3.5, 4.31, 1.12], [9, 1, 3]])\n",
    "\n",
    "print(data1) # 주석을 지우고 print 안에 코드를 작성하세요.\n",
    "print(data2) # 주석을 지우고 print 안에 코드를 작성하세요.\n",
    "```"
   ]
  },
  {
   "cell_type": "code",
   "execution_count": 8,
   "metadata": {},
   "outputs": [
    {
     "name": "stdout",
     "output_type": "stream",
     "text": [
      "4\n",
      "6\n"
     ]
    }
   ],
   "source": [
    "data1 = np.array([3, 1, 7, 9])\n",
    "data2 = np.array([[3.5, 4.31, 1.12], [9, 1, 3]])\n",
    "\n",
    "print(data1.size) # 주석을 지우고 print 안에 코드를 작성하세요.\n",
    "print(data2.size) # 주석을 지우고 print 안에 코드를 작성하세요."
   ]
  },
  {
   "cell_type": "markdown",
   "metadata": {},
   "source": [
    "#### 008 데이터 타입 지정(dtype)\n",
    "\n",
    "- ```dtype```이 ```int32```인 ```data```의 타입을 ```float64```로 변경하세요.\n",
    "\n",
    "-------\n",
    "<span style=\"font-weight:normal; color:#303F9F;\">In</span>\n",
    "```python\n",
    "data = np.array([3, 1, 7, 9])\n",
    "print(data.dtype)\n",
    "new_data =  # 주석을 지우고 이곳에 코드를 작성하세요.\n",
    "print(new_data.dtype)\n",
    "```\n",
    "-------\n",
    "<span style=\"font-weight:normal; color:orange;\">Print</span>\n",
    "```\n",
    "int32\n",
    "float64\n",
    "```"
   ]
  },
  {
   "cell_type": "code",
   "execution_count": 9,
   "metadata": {},
   "outputs": [
    {
     "name": "stdout",
     "output_type": "stream",
     "text": [
      "int32\n",
      "float64\n"
     ]
    }
   ],
   "source": [
    "data = np.array([3, 1, 7, 9])\n",
    "print(data.dtype)\n",
    "new_data = np.array(data, dtype='float')\n",
    "print(new_data.dtype)"
   ]
  },
  {
   "cell_type": "markdown",
   "metadata": {},
   "source": [
    "#### 009 행·열의 교환, 전치(Transpose)\n",
    "\n",
    "- ```data```의 행과 열을 교환하세요.\n",
    "\n",
    "-------\n",
    "<span style=\"font-weight:normal; color:#303F9F;\">In</span>\n",
    "```python\n",
    "data = np.array([[3., 4., 1., 5.], [9., 1., 3., 2.]])\n",
    "print(data) # 주석을 지우고 print 안에 코드를 작성하세요.\n",
    "```\n",
    "-------\n",
    "<span style=\"font-weight:normal; color:orange;\">Print</span>\n",
    "```\n",
    "[[3. 9.]\n",
    " [4. 1.]\n",
    " [1. 3.]\n",
    " [5. 2.]]\n",
    "```"
   ]
  },
  {
   "cell_type": "code",
   "execution_count": 55,
   "metadata": {},
   "outputs": [
    {
     "name": "stdout",
     "output_type": "stream",
     "text": [
      "[[3. 9.]\n",
      " [4. 1.]\n",
      " [1. 3.]\n",
      " [5. 2.]]\n"
     ]
    }
   ],
   "source": [
    "data = np.array([[3., 4., 1., 5.], [9., 1., 3., 2.]])\n",
    "print(data.T) # 주석을 지우고 print 안에 코드를 작성하세요."
   ]
  },
  {
   "cell_type": "markdown",
   "metadata": {},
   "source": [
    "#### 010 형태 변경(reshape)\n",
    "\n",
    "- ```data```의 데이터 형태를 보기의 출력값처럼 변경하세요.\n",
    "\n",
    "-------\n",
    "<span style=\"font-weight:normal; color:#303F9F;\">In</span>\n",
    "```python\n",
    "data = np.array([[3., 4., 1., 5.], [9., 1., 3., 2.]])\n",
    "print(data) # 주석을 지우고 print 안에 코드를 작성하세요.\n",
    "```\n",
    "-------\n",
    "<span style=\"font-weight:normal; color:orange;\">Print</span>\n",
    "```\n",
    "[[3.]\n",
    " [4.]\n",
    " [1.]\n",
    " [5.]\n",
    " [9.]\n",
    " [1.]\n",
    " [3.]\n",
    " [2.]]\n",
    "```"
   ]
  },
  {
   "cell_type": "code",
   "execution_count": 74,
   "metadata": {},
   "outputs": [
    {
     "name": "stdout",
     "output_type": "stream",
     "text": [
      "[[3.]\n",
      " [4.]\n",
      " [1.]\n",
      " [5.]\n",
      " [9.]\n",
      " [1.]\n",
      " [3.]\n",
      " [2.]]\n"
     ]
    }
   ],
   "source": [
    "data = np.array([[3., 4., 1., 5.], [9., 1., 3., 2.]])\n",
    "print(data.reshape(8, 1)) # 주석을 지우고 print 안에 코드를 작성하세요."
   ]
  },
  {
   "cell_type": "markdown",
   "metadata": {},
   "source": [
    "#### 011 데이터 생성(arange)\n",
    "\n",
    "- ```arange```를 사용하여 보기와 같은 데이터를 생성하세요.\n",
    "\n",
    "-------\n",
    "<span style=\"font-weight:normal; color:#303F9F;\">In</span>\n",
    "```python\n",
    "data1 = # 주석을 지우고 이곳에 코드를 작성하세요.\n",
    "data2 = # 주석을 지우고 이곳에 코드를 작성하세요.\n",
    "print(data1)\n",
    "print(data2)\n",
    "```\n",
    "-------\n",
    "<span style=\"font-weight:normal; color:orange;\">Print</span>\n",
    "```\n",
    "[0 1 2 3 4]\n",
    "[0 2 4 6 8]\n",
    "```"
   ]
  },
  {
   "cell_type": "code",
   "execution_count": 80,
   "metadata": {},
   "outputs": [
    {
     "name": "stdout",
     "output_type": "stream",
     "text": [
      "[0 1 2 3 4]\n",
      "[0 2 4 6 8]\n"
     ]
    }
   ],
   "source": [
    "data1 = np.arange(5)\n",
    "data2 = np.arange(0, 10, 2)\n",
    "print(data1)\n",
    "print(data2)"
   ]
  },
  {
   "cell_type": "markdown",
   "metadata": {},
   "source": [
    "#### 012 데이터 생성(linspace)\n",
    "\n",
    "- ```linspace```를 사용하여 보기와 같은 데이터를 생성하세요.\n",
    "\n",
    "-------\n",
    "<span style=\"font-weight:normal; color:#303F9F;\">In</span>\n",
    "```python\n",
    "data1 = # 주석을 지우고 이곳에 코드를 작성하세요.\n",
    "data2 = # 주석을 지우고 이곳에 코드를 작성하세요.\n",
    "print(data1)\n",
    "print(data2)\n",
    "```\n",
    "-------\n",
    "<span style=\"font-weight:normal; color:orange;\">Print</span>\n",
    "```\n",
    "[10.  5.  0.]\n",
    "[  0.  25.  50.  75. 100.]\n",
    "```"
   ]
  },
  {
   "cell_type": "code",
   "execution_count": 98,
   "metadata": {},
   "outputs": [
    {
     "name": "stdout",
     "output_type": "stream",
     "text": [
      "[10.  5.  0.]\n",
      "[  0.  25.  50.  75. 100.]\n"
     ]
    }
   ],
   "source": [
    "data1 = np.linspace(10, 0, 3)\n",
    "data2 = np.linspace(0, 100, 5)\n",
    "print(data1)\n",
    "print(data2)"
   ]
  },
  {
   "cell_type": "markdown",
   "metadata": {},
   "source": [
    "#### 013 데이터 생성(eye)\n",
    "\n",
    "- ```eye```를 사용하여 보기와 같은 데이터를 생성하세요.\n",
    "\n",
    "-------\n",
    "<span style=\"font-weight:normal; color:#303F9F;\">In</span>\n",
    "```python\n",
    "data1 = # 주석을 지우고 이곳에 코드를 작성하세요.\n",
    "data2 = # 주석을 지우고 이곳에 코드를 작성하세요.\n",
    "print(data1)\n",
    "print(data2)\n",
    "```\n",
    "-------\n",
    "<span style=\"font-weight:normal; color:orange;\">Print</span>\n",
    "```\n",
    "[[1. 0. 0.]\n",
    " [0. 1. 0.]\n",
    " [0. 0. 1.]]\n",
    "[[1 0 0]\n",
    " [0 1 0]\n",
    " [0 0 1]]\n",
    "```"
   ]
  },
  {
   "cell_type": "code",
   "execution_count": 139,
   "metadata": {},
   "outputs": [
    {
     "name": "stdout",
     "output_type": "stream",
     "text": [
      "[[1. 0. 0.]\n",
      " [0. 1. 0.]\n",
      " [0. 0. 1.]]\n",
      "[[1 0 0]\n",
      " [0 1 0]\n",
      " [0 0 1]]\n"
     ]
    }
   ],
   "source": [
    "data1 = np.eye(3)\n",
    "data2 = np.eye(3, dtype=np.int16)\n",
    "print(data1)\n",
    "print(data2)"
   ]
  },
  {
   "cell_type": "markdown",
   "metadata": {},
   "source": [
    "#### 014 데이터 생성(zeros, ones)\n",
    "\n",
    "- ```zeros```와 ```ones```를 사용하여 보기와 같은 데이터를 생성하세요.\n",
    "\n",
    "-------\n",
    "<span style=\"font-weight:normal; color:#303F9F;\">In</span>\n",
    "```python\n",
    "data1 = # 주석을 지우고 이곳에 코드를 작성하세요.\n",
    "data2 = # 주석을 지우고 이곳에 코드를 작성하세요.\n",
    "print(data1)\n",
    "print(data2)\n",
    "```\n",
    "-------\n",
    "<span style=\"font-weight:normal; color:orange;\">Print</span>\n",
    "```\n",
    "[0. 0. 0. 0. 0.]\n",
    "[[1. 1.]\n",
    " [1. 1.]\n",
    " [1. 1.]]\n",
    "```"
   ]
  },
  {
   "cell_type": "code",
   "execution_count": 136,
   "metadata": {},
   "outputs": [
    {
     "name": "stdout",
     "output_type": "stream",
     "text": [
      "[0. 0. 0. 0. 0.]\n",
      "[[1. 1.]\n",
      " [1. 1.]\n",
      " [1. 1.]]\n"
     ]
    }
   ],
   "source": [
    "data1 = np.zeros(5)\n",
    "data2 = np.ones(shape=(3, 2))\n",
    "print(data1)\n",
    "print(data2)"
   ]
  },
  {
   "cell_type": "markdown",
   "metadata": {},
   "source": [
    "#### 015 데이터 생성(full)\n",
    "\n",
    "- ```full```을 사용하여 보기와 같은 데이터를 생성하세요.\n",
    "\n",
    "-------\n",
    "<span style=\"font-weight:normal; color:#303F9F;\">In</span>\n",
    "```python\n",
    "data = # 주석을 지우고 이곳에 코드를 작성하세요.\n",
    "print(data)\n",
    "```\n",
    "-------\n",
    "<span style=\"font-weight:normal; color:orange;\">Print</span>\n",
    "```\n",
    "[[5 5 5 5]\n",
    " [5 5 5 5]]\n",
    "```"
   ]
  },
  {
   "cell_type": "code",
   "execution_count": 143,
   "metadata": {},
   "outputs": [
    {
     "name": "stdout",
     "output_type": "stream",
     "text": [
      "[[5 5 5 5]\n",
      " [5 5 5 5]]\n"
     ]
    }
   ],
   "source": [
    "data = np.full(shape=(2, 4), fill_value=5)\n",
    "print(data)"
   ]
  },
  {
   "cell_type": "markdown",
   "metadata": {},
   "source": [
    "#### 016 데이터 생성(randn)\n",
    "\n",
    "- ```randn```을 사용하여 보기와 같은 정규(가우시안)분포 범위의 난수를 생성하세요.\n",
    "\n",
    "-------\n",
    "<span style=\"font-weight:normal; color:#303F9F;\">In</span>\n",
    "```python\n",
    "data = # 주석을 지우고 이곳에 코드를 작성하세요.\n",
    "print(data)\n",
    "```\n",
    "-------\n",
    "<span style=\"font-weight:normal; color:orange;\">Print</span>\n",
    "```\n",
    "[[-0.69190273 -0.52112558 -1.72167669 -0.77865483]\n",
    " [ 0.83461144  0.06283456 -0.84170318  1.11110502]]\n",
    "```"
   ]
  },
  {
   "cell_type": "code",
   "execution_count": 157,
   "metadata": {},
   "outputs": [
    {
     "name": "stdout",
     "output_type": "stream",
     "text": [
      "[[-0.69190273 -0.52112558 -1.72167669 -0.77865483]\n",
      " [ 0.83461144  0.06283456 -0.84170318  1.11110502]]\n"
     ]
    }
   ],
   "source": [
    "data = np.random.randn(2, 4)\n",
    "print(data)"
   ]
  },
  {
   "cell_type": "markdown",
   "metadata": {},
   "source": [
    "#### 017 기본 연산\n",
    "\n",
    "- 기본 연산을 활용하여 보기와 같은 값이 나올 수 있도록 코드를 작성하세요.\n",
    "\n",
    "-------\n",
    "<span style=\"font-weight:normal; color:#303F9F;\">In</span>\n",
    "```python\n",
    "data1 = np.array([[3, 1], [2, 6]])\n",
    "data2 = np.array([[4, 0], [6, 6]])\n",
    "print() # 주석을 지우고 print 안에 코드를 작성하세요.\n",
    "print() # 주석을 지우고 print 안에 코드를 작성하세요.\n",
    "```\n",
    "-------\n",
    "<span style=\"font-weight:normal; color:orange;\">Print</span>\n",
    "```\n",
    "[[-1  1]\n",
    " [-4  0]]\n",
    "[[ 7  1]\n",
    " [ 8 12]]\n",
    "```"
   ]
  },
  {
   "cell_type": "code",
   "execution_count": 177,
   "metadata": {},
   "outputs": [
    {
     "name": "stdout",
     "output_type": "stream",
     "text": [
      "[[-1  1]\n",
      " [-4  0]]\n",
      "[[ 7  1]\n",
      " [ 8 12]]\n"
     ]
    }
   ],
   "source": [
    "data1 = np.array([[3, 1], [2, 6]])\n",
    "data2 = np.array([[4, 0], [6, 6]])\n",
    "print(data1 - data2) # 주석을 지우고 print 안에 코드를 작성하세요.\n",
    "print(data1 + data2) # 주석을 지우고 print 안에 코드를 작성하세요."
   ]
  },
  {
   "cell_type": "markdown",
   "metadata": {},
   "source": [
    "#### 018 기본 연산\n",
    "\n",
    "- 기본 연산을 활용하여 보기와 같은 값이 나올 수 있도록 코드를 작성하세요.\n",
    "\n",
    "-------\n",
    "<span style=\"font-weight:normal; color:#303F9F;\">In</span>\n",
    "```python\n",
    "data1 = np.array([[3, 1], [2, 6]])\n",
    "data2 = np.array([[4, 0], [6, 6]])\n",
    "print() # 주석을 지우고 print 안에 코드를 작성하세요.\n",
    "print() # 주석을 지우고 print 안에 코드를 작성하세요.\n",
    "```\n",
    "-------\n",
    "<span style=\"font-weight:normal; color:orange;\">Print</span>\n",
    "```\n",
    "[[12  0]\n",
    " [12 36]]\n",
    "[[1.33333333 0.        ]\n",
    " [3.         1.        ]]\n",
    "```"
   ]
  },
  {
   "cell_type": "code",
   "execution_count": 181,
   "metadata": {},
   "outputs": [
    {
     "name": "stdout",
     "output_type": "stream",
     "text": [
      "[[12  0]\n",
      " [12 36]]\n",
      "[[1.33333333 0.        ]\n",
      " [3.         1.        ]]\n"
     ]
    }
   ],
   "source": [
    "data1 = np.array([[3, 1], [2, 6]])\n",
    "data2 = np.array([[4, 0], [6, 6]])\n",
    "print(data1 * data2)\n",
    "print(data2 / data1)"
   ]
  },
  {
   "cell_type": "markdown",
   "metadata": {},
   "source": [
    "#### 019 기본연산\n",
    "\n",
    "- 다음은 랜덤한 데이터를 생성하고 데이터를 연산하는 코드입니다.\n",
    "- 기본연산 함수를 사용하여 요구하는 값을 print하세요.\n",
    "- 코드는 반드시 print문 안의 중괄호{}에 작성하세요.\n",
    "\n",
    "-------\n",
    "<span style=\"font-weight:normal; color:#303F9F;\">In</span>\n",
    "```python\n",
    "data = np.array(np.random.randn(2, 5) * 10, dtype=int)\n",
    "display(data)\n",
    "print(f'전체 합계: {}') # 주석을 지우고 중괄호 안에 코드를 작성하세요.\n",
    "print(f'행 합계: {}') # 주석을 지우고 중괄호 안에 코드를 작성하세요.\n",
    "print(f'열 합계: {}') # 주석을 지우고 중괄호 안에 코드를 작성하세요.\n",
    "```\n",
    "-------\n",
    "<span style=\"font-weight:normal; color:orange;\">Print</span>\n",
    "```\n",
    "array([[ -3, -16,   8,   1, -13],\n",
    "       [  0,  14,   1,  -1, -11]])\n",
    "전체 합계: -20\n",
    "행 합계: [ -3  -2   9   0 -24]\n",
    "열 합계: [-23   3]\n",
    "```"
   ]
  },
  {
   "cell_type": "code",
   "execution_count": 227,
   "metadata": {},
   "outputs": [
    {
     "data": {
      "text/plain": [
       "array([[ -3, -16,   8,   1, -13],\n",
       "       [  0,  14,   1,  -1, -11]])"
      ]
     },
     "metadata": {},
     "output_type": "display_data"
    },
    {
     "name": "stdout",
     "output_type": "stream",
     "text": [
      "전체 합계: -20\n",
      "행 합계: [ -3  -2   9   0 -24]\n",
      "열 합계: [-23   3]\n"
     ]
    }
   ],
   "source": [
    "data = np.array(np.random.randn(2, 5) * 10, dtype=int)\n",
    "display(data)\n",
    "print(f'전체 합계: {data.sum()}') # 주석을 지우고 중괄호 안에 코드를 작성하세요.\n",
    "print(f'행 합계: {data.sum(axis=0)}') # 주석을 지우고 중괄호 안에 코드를 작성하세요.\n",
    "print(f'열 합계: {data.sum(axis=1)}') # 주석을 지우고 중괄호 안에 코드를 작성하세요."
   ]
  },
  {
   "cell_type": "markdown",
   "metadata": {},
   "source": [
    "#### 020 기본연산\n",
    "\n",
    "- 다음은 랜덤한 데이터를 생성하고 데이터를 연산하는 코드입니다.\n",
    "- 기본연산 함수를 사용하여 요구하는 값을 print하세요.\n",
    "- 코드는 반드시 print문 안의 중괄호{}에 작성하세요.\n",
    "\n",
    "-------\n",
    "<span style=\"font-weight:normal; color:#303F9F;\">In</span>\n",
    "```python\n",
    "data = np.array(np.random.randn(2, 5) * 10, dtype=int)\n",
    "display(data)\n",
    "print(f'평균: {}') # 주석을 지우고 중괄호 안에 코드를 작성하세요.\n",
    "print(f'최대값: {}') # 주석을 지우고 중괄호 안에 코드를 작성하세요.\n",
    "print(f'최소값: {}') # 주석을 지우고 중괄호 안에 코드를 작성하세요.\n",
    "print(f'분산: {}') # 주석을 지우고 중괄호 안에 코드를 작성하세요.\n",
    "```\n",
    "-------\n",
    "<span style=\"font-weight:normal; color:orange;\">Print</span>\n",
    "```\n",
    "array([[  7, -12,   0, -11,  -2],\n",
    "       [  4, -15,  14,   6,   6]])\n",
    "평균: -0.3\n",
    "최대값: 14\n",
    "최소값: -15\n",
    "분산: 82.61000000000001\n",
    "```"
   ]
  },
  {
   "cell_type": "code",
   "execution_count": 224,
   "metadata": {
    "scrolled": true
   },
   "outputs": [
    {
     "data": {
      "text/plain": [
       "array([[  7, -12,   0, -11,  -2],\n",
       "       [  4, -15,  14,   6,   6]])"
      ]
     },
     "metadata": {},
     "output_type": "display_data"
    },
    {
     "name": "stdout",
     "output_type": "stream",
     "text": [
      "평균: -0.3\n",
      "최대값: 14\n",
      "최소값: -15\n",
      "분산: 82.61000000000001\n"
     ]
    }
   ],
   "source": [
    "data = np.array(np.random.randn(2, 5) * 10, dtype=int)\n",
    "display(data)\n",
    "print(f'평균: {data.mean()}') # 주석을 지우고 중괄호 안에 코드를 작성하세요.\n",
    "print(f'최대값: {data.max()}') # 주석을 지우고 중괄호 안에 코드를 작성하세요.\n",
    "print(f'최소값: {data.min()}') # 주석을 지우고 중괄호 안에 코드를 작성하세요.\n",
    "print(f'분산: {data.var()}') # 주석을 지우고 중괄호 안에 코드를 작성하세요."
   ]
  },
  {
   "cell_type": "markdown",
   "metadata": {},
   "source": [
    "# 2. pandas"
   ]
  },
  {
   "cell_type": "markdown",
   "metadata": {},
   "source": [
    "## 2-1. Series"
   ]
  },
  {
   "cell_type": "markdown",
   "metadata": {},
   "source": [
    "#### 021 pandas 모듈 불러오기 및 버전 확인\n",
    "\n",
    "- pandas 모듈을 불러오고 버전을 확인해보세요.\n",
    "- pandas 모듈을 pd 줄여 사용할 수 있도록 작성하세요."
   ]
  },
  {
   "cell_type": "code",
   "execution_count": 5,
   "metadata": {},
   "outputs": [
    {
     "data": {
      "text/plain": [
       "'1.4.4'"
      ]
     },
     "execution_count": 5,
     "metadata": {},
     "output_type": "execute_result"
    }
   ],
   "source": [
    "import pandas as pd\n",
    "pd.__version__"
   ]
  },
  {
   "cell_type": "markdown",
   "metadata": {},
   "source": [
    "#### 022 Series 생성\n",
    "\n",
    "- list 또는 tuple을 활용하여 보기의 출력값과 같은 Series를 생성하세요.\n",
    "\n",
    "-------\n",
    "<span style=\"font-weight:normal; color:#303F9F;\">In</span>\n",
    "```python\n",
    "data = # 주석을 지우고 이곳에 코드를 작성하세요.\n",
    "data\n",
    "```\n",
    "-------\n",
    "<span style=\"font-weight:normal; color:red;\">Out</span>\n",
    "```\n",
    "0    5\n",
    "1    3\n",
    "2    1\n",
    "3    2\n",
    "4    4\n",
    "dtype: int64\n",
    "```"
   ]
  },
  {
   "cell_type": "code",
   "execution_count": 25,
   "metadata": {},
   "outputs": [
    {
     "data": {
      "text/plain": [
       "0    5\n",
       "1    3\n",
       "2    1\n",
       "3    2\n",
       "4    4\n",
       "dtype: int64"
      ]
     },
     "execution_count": 25,
     "metadata": {},
     "output_type": "execute_result"
    }
   ],
   "source": [
    "data = pd.Series([5, 3, 1, 2, 4])\n",
    "data"
   ]
  },
  {
   "cell_type": "markdown",
   "metadata": {},
   "source": [
    "#### 023 Series 생성\n",
    "\n",
    "- numpy.array 활용하여 보기의 출력값과 같은 Series를 생성하세요.\n",
    "\n",
    "-------\n",
    "<span style=\"font-weight:normal; color:#303F9F;\">In</span>\n",
    "```python\n",
    "data = # 주석을 지우고 이곳에 코드를 작성하세요.\n",
    "data\n",
    "```\n",
    "-------\n",
    "<span style=\"font-weight:normal; color:red;\">Out</span>\n",
    "```\n",
    "0    21\n",
    "1    10\n",
    "2    36\n",
    "3    48\n",
    "4    12\n",
    "dtype: int32\n",
    "```"
   ]
  },
  {
   "cell_type": "code",
   "execution_count": 21,
   "metadata": {},
   "outputs": [
    {
     "data": {
      "text/plain": [
       "0    21\n",
       "1    10\n",
       "2    36\n",
       "3    48\n",
       "4    12\n",
       "dtype: int32"
      ]
     },
     "execution_count": 21,
     "metadata": {},
     "output_type": "execute_result"
    }
   ],
   "source": [
    "data = pd.Series(np.array([21, 10, 36, 48, 12]))\n",
    "data"
   ]
  },
  {
   "cell_type": "markdown",
   "metadata": {},
   "source": [
    "#### 024 Series 생성\n",
    "\n",
    "- dict를 활용하여 보기의 출력값과 같은 Series를 생성하세요.\n",
    "\n",
    "-------\n",
    "<span style=\"font-weight:normal; color:#303F9F;\">In</span>\n",
    "```python\n",
    "temp_dict = # 주석을 지우고 이곳에 코드를 작성하세요.\n",
    "data = # 주석을 지우고 이곳에 코드를 작성하세요.\n",
    "data\n",
    "```\n",
    "-------\n",
    "<span style=\"font-weight:normal; color:red;\">Out</span>\n",
    "```\n",
    "일    1\n",
    "이    2\n",
    "삼    3\n",
    "사    4\n",
    "오    5\n",
    "dtype: int64\n",
    "```"
   ]
  },
  {
   "cell_type": "code",
   "execution_count": 28,
   "metadata": {},
   "outputs": [
    {
     "data": {
      "text/plain": [
       "일    1\n",
       "이    2\n",
       "삼    3\n",
       "사    4\n",
       "오    5\n",
       "dtype: int64"
      ]
     },
     "execution_count": 28,
     "metadata": {},
     "output_type": "execute_result"
    }
   ],
   "source": [
    "temp_dict = {'일': 1, '이': 2, '삼': 3, '사': 4, '오': 5}\n",
    "data = pd.Series(temp_dict)\n",
    "data"
   ]
  },
  {
   "cell_type": "markdown",
   "metadata": {},
   "source": [
    "#### 025 데이터 확인\n",
    "\n",
    "- 주어진 데이터의 타입을 예상해보고 확인하세요.\n",
    "\n",
    "-------\n",
    "<span style=\"font-weight:normal; color:#303F9F;\">In</span>\n",
    "```python\n",
    "data1 = pd.Series(np.array([21, 10, 36, 48, 12]))\n",
    "data2 = pd.Series(['A', 'B', 'C', 'D', 'E'])\n",
    "print(data1.dtype)\n",
    "print(data2.dtype)\n",
    "data2.dtype\n",
    "```"
   ]
  },
  {
   "cell_type": "code",
   "execution_count": 43,
   "metadata": {},
   "outputs": [
    {
     "name": "stdout",
     "output_type": "stream",
     "text": [
      "int32\n",
      "object\n"
     ]
    },
    {
     "data": {
      "text/plain": [
       "dtype('O')"
      ]
     },
     "execution_count": 43,
     "metadata": {},
     "output_type": "execute_result"
    }
   ],
   "source": [
    "data1 = pd.Series(np.array([21, 10, 36, 48, 12]))\n",
    "data2 = pd.Series(['A', 'B', 'C', 'D', 'E'])\n",
    "print(data1.dtype)\n",
    "print(data2.dtype)\n",
    "data2.dtype"
   ]
  },
  {
   "cell_type": "markdown",
   "metadata": {},
   "source": [
    "#### 026 데이터 확인\n",
    "\n",
    "- 다음의 출력문과 같이 주어진 Series의 index와 value를 확인하세요.\n",
    "\n",
    "-------\n",
    "<span style=\"font-weight:normal; color:#303F9F;\">In</span>\n",
    "```python\n",
    "data = pd.Series({'일': 1, '이': 2, '삼': 3, '사': 4, '오': 5})\n",
    "print() # 주석을 지우고 print 안에 코드를 작성하세요.\n",
    "print() # 주석을 지우고 print 안에 코드를 작성하세요.\n",
    "```\n",
    "-------\n",
    "<span style=\"font-weight:normal; color:orange;\">Print</span>\n",
    "```\n",
    "Index(['일', '이', '삼', '사', '오'], dtype='object')\n",
    "[1 2 3 4 5]\n",
    "```"
   ]
  },
  {
   "cell_type": "code",
   "execution_count": 35,
   "metadata": {},
   "outputs": [
    {
     "name": "stdout",
     "output_type": "stream",
     "text": [
      "Index(['일', '이', '삼', '사', '오'], dtype='object')\n",
      "[1 2 3 4 5]\n"
     ]
    }
   ],
   "source": [
    "data = pd.Series({'일': 1, '이': 2, '삼': 3, '사': 4, '오': 5})\n",
    "print(data.index) # 주석을 지우고 print 안에 코드를 작성하세요.\n",
    "print(data.values) # 주석을 지우고 print 안에 코드를 작성하세요."
   ]
  },
  {
   "cell_type": "markdown",
   "metadata": {},
   "source": [
    "#### 027 index 수정\n",
    "\n",
    "- ```data```의 Series 값을 다음의 출력값과 동일하도록 하는 코드를 작성하세요.\n",
    "\n",
    "-------\n",
    "<span style=\"font-weight:normal; color:#303F9F;\">In</span>\n",
    "```python\n",
    "data = pd.Series({'일': 1, '이': 2, '삼': 3, '사': 4, '오': 5})\n",
    "# 주석을 지우고 이곳에 코드를 작성하세요.\n",
    "data\n",
    "```\n",
    "-------\n",
    "<span style=\"font-weight:normal; color:red;\">Out</span>\n",
    "```\n",
    "A    1\n",
    "B    2\n",
    "C    3\n",
    "D    4\n",
    "E    5\n",
    "dtype: int64\n",
    "```\n"
   ]
  },
  {
   "cell_type": "code",
   "execution_count": 59,
   "metadata": {},
   "outputs": [
    {
     "data": {
      "text/plain": [
       "A    1\n",
       "B    2\n",
       "C    3\n",
       "D    4\n",
       "E    5\n",
       "dtype: int64"
      ]
     },
     "execution_count": 59,
     "metadata": {},
     "output_type": "execute_result"
    }
   ],
   "source": [
    "data = pd.Series({'일': 1, '이': 2, '삼': 3, '사': 4, '오': 5})\n",
    "#답안1\n",
    "# data = pd.Series(data.values, index=['A', 'B', 'C', 'D', 'E'])\n",
    "#답안2\n",
    "data.index = ['A', 'B', 'C', 'D', 'E']\n",
    "data"
   ]
  },
  {
   "cell_type": "code",
   "execution_count": 61,
   "metadata": {},
   "outputs": [
    {
     "data": {
      "text/plain": [
       "array([1, 2, 3, 4, 5], dtype=int64)"
      ]
     },
     "execution_count": 61,
     "metadata": {},
     "output_type": "execute_result"
    }
   ],
   "source": [
    "data.values"
   ]
  },
  {
   "cell_type": "markdown",
   "metadata": {},
   "source": [
    "#### 028 Series 인덱싱\n",
    "\n",
    "- ```data```의 Series중 출력값과 같이 영어~국사의 데이터에 접근하세요.\n",
    "\n",
    "-------\n",
    "<span style=\"font-weight:normal; color:#303F9F;\">In</span>\n",
    "```python\n",
    "data = pd.Series({'국어': 77, '영어': 88, '수학': 81, '국사': 63, '과학': 97})\n",
    "print() # 주석을 지우고 print 안에 코드를 작성하세요.\n",
    "```\n",
    "-------\n",
    "<span style=\"font-weight:normal; color:orange;\">Print</span>\n",
    "```\n",
    "국어    77\n",
    "영어    88\n",
    "수학    81\n",
    "국사    63\n",
    "dtype: int64\n",
    "```"
   ]
  },
  {
   "cell_type": "code",
   "execution_count": 81,
   "metadata": {},
   "outputs": [
    {
     "name": "stdout",
     "output_type": "stream",
     "text": [
      "국어    77\n",
      "영어    88\n",
      "수학    81\n",
      "국사    63\n",
      "dtype: int64\n"
     ]
    }
   ],
   "source": [
    "data = pd.Series({'국어': 77, '영어': 88, '수학': 81, '국사': 63, '과학': 97})\n",
    "print(data['국어':'국사'])"
   ]
  },
  {
   "cell_type": "markdown",
   "metadata": {},
   "source": [
    "#### 029 Series 인덱싱\n",
    "\n",
    "- 다음의 출력값과 같이 ```data```변수에서 과학 데이터를 조회하세요.\n",
    "- 반드시 ```at```을 사용하세요.\n",
    "\n",
    "-------\n",
    "<span style=\"font-weight:normal; color:#303F9F;\">In</span>\n",
    "```python\n",
    "data = pd.Series({'국어': 77, '영어': 88, '수학': 81, '국사': 63, '과학': 97})\n",
    "print() # 주석을 지우고 print 안에 코드를 작성하세요.\n",
    "```\n",
    "-------\n",
    "<span style=\"font-weight:normal; color:orange;\">Print</span>\n",
    "```\n",
    "97\n",
    "```"
   ]
  },
  {
   "cell_type": "code",
   "execution_count": 82,
   "metadata": {},
   "outputs": [
    {
     "name": "stdout",
     "output_type": "stream",
     "text": [
      "97\n"
     ]
    }
   ],
   "source": [
    "data = pd.Series({'국어': 77, '영어': 88, '수학': 81, '국사': 63, '과학': 97})\n",
    "print(data.at['과학'])"
   ]
  },
  {
   "cell_type": "markdown",
   "metadata": {},
   "source": [
    "#### 030 Series 연산\n",
    "\n",
    "- 다음 세 Series 데이터를 연산하여 보기의 출력값과 같도록 코드를 작성하세요.\n",
    "\n",
    "-------\n",
    "<span style=\"font-weight:normal; color:#303F9F;\">In</span>\n",
    "```python\n",
    "data1 = pd.Series([1, 2, 3, 4, 5])\n",
    "data2 = pd.Series([10, 20, 30, 40, 50])\n",
    "\n",
    "print() # 주석을 지우고 print 안에 코드를 작성하세요.\n",
    "```\n",
    "-------\n",
    "<span style=\"font-weight:normal; color:orange;\">Print</span>\n",
    "```\n",
    "0     10\n",
    "1     40\n",
    "2     90\n",
    "3    160\n",
    "4    250\n",
    "dtype: int64\n",
    "```"
   ]
  },
  {
   "cell_type": "code",
   "execution_count": 90,
   "metadata": {},
   "outputs": [
    {
     "name": "stdout",
     "output_type": "stream",
     "text": [
      "0     10\n",
      "1     40\n",
      "2     90\n",
      "3    160\n",
      "4    250\n",
      "dtype: int64\n"
     ]
    }
   ],
   "source": [
    "data1 = pd.Series([1, 2, 3, 4, 5])\n",
    "data2 = pd.Series([10, 20, 30, 40, 50])\n",
    "\n",
    "print(data1 * data2)"
   ]
  },
  {
   "cell_type": "markdown",
   "metadata": {},
   "source": [
    "#### 031 NaN처리\n",
    "\n",
    "- 다음의 출력값과 같이 변수 ```data```의 NaN을 0으로 처리하는 코드를 작성하세요.\n",
    "- 반드시 ```fillna```를 사용하세요.\n",
    "\n",
    "-------\n",
    "<span style=\"font-weight:normal; color:#303F9F;\">In</span>\n",
    "```python\n",
    "data = pd.Series([10, 20, 30, 40, 50]) * pd.Series([1, 2])\n",
    "# 주석을 지우고 이곳에 코드를 작성하세요.\n",
    "```\n",
    "-------\n",
    "<span style=\"font-weight:normal; color:red;\">Out</span>\n",
    "```\n",
    "0    10.0\n",
    "1    40.0\n",
    "2     0.0\n",
    "3     0.0\n",
    "4     0.0\n",
    "dtype: float64\n",
    "```\n"
   ]
  },
  {
   "cell_type": "code",
   "execution_count": 96,
   "metadata": {},
   "outputs": [
    {
     "data": {
      "text/plain": [
       "0    10.0\n",
       "1    40.0\n",
       "2     0.0\n",
       "3     0.0\n",
       "4     0.0\n",
       "dtype: float64"
      ]
     },
     "execution_count": 96,
     "metadata": {},
     "output_type": "execute_result"
    }
   ],
   "source": [
    "data = pd.Series([10, 20, 30, 40, 50]) * pd.Series([1, 2])\n",
    "data.fillna(0)"
   ]
  },
  {
   "cell_type": "markdown",
   "metadata": {},
   "source": [
    "#### 032 Series 데이터 확인\n",
    "\n",
    "- 다음의 출력값과 같이 Series 데이터의 정보를 확인하는 코드를 작성하세요.\n",
    "\n",
    "-------\n",
    "<span style=\"font-weight:normal; color:#303F9F;\">In</span>\n",
    "```python\n",
    "data = pd.Series([1, 2, 3, 4, 5]) * pd.Series([10, 20, 30, 40, 50])\n",
    "print('mean:', ) # 주석을 지우고 print 안에 코드를 작성하세요.\n",
    "print('std:', ) # 주석을 지우고 print 안에 코드를 작성하세요.\n",
    "print('count:', ) # 주석을 지우고 print 안에 코드를 작성하세요.\n",
    "```\n",
    "-------\n",
    "<span style=\"font-weight:normal; color:orange;\">Print</span>\n",
    "```\n",
    "mean: 110.0\n",
    "std: 96.69539802906858\n",
    "count: 5\n",
    "```"
   ]
  },
  {
   "cell_type": "code",
   "execution_count": 123,
   "metadata": {},
   "outputs": [
    {
     "name": "stdout",
     "output_type": "stream",
     "text": [
      "mean: 110.0\n",
      "std: 96.69539802906858\n",
      "count: 5\n"
     ]
    }
   ],
   "source": [
    "data = pd.Series([1, 2, 3, 4, 5]) * pd.Series([10, 20, 30, 40, 50])\n",
    "print('mean:', data.mean())\n",
    "print('std:', data.std())\n",
    "print('count:', data.count())"
   ]
  },
  {
   "cell_type": "markdown",
   "metadata": {},
   "source": [
    "#### 033 Series 데이터 확인\n",
    "\n",
    "- 다음의 출력값과 같이 Series 데이터의 정보를 확인하는 코드를 작성하세요.\n",
    "\n",
    "-------\n",
    "<span style=\"font-weight:normal; color:#303F9F;\">In</span>\n",
    "```python\n",
    "data = pd.Series([1, 2, 3, 4, 5]) * pd.Series([10, 20, 30, 40, 50])\n",
    "print() # 주석을 지우고 print 안에 코드를 작성하세요.\n",
    "```\n",
    "-------\n",
    "<span style=\"font-weight:normal; color:orange;\">Print</span>\n",
    "```\n",
    "count      5.000000\n",
    "mean     110.000000\n",
    "std       96.695398\n",
    "min       10.000000\n",
    "25%       40.000000\n",
    "50%       90.000000\n",
    "75%      160.000000\n",
    "max      250.000000\n",
    "dtype: float64\n",
    "```"
   ]
  },
  {
   "cell_type": "code",
   "execution_count": 128,
   "metadata": {},
   "outputs": [
    {
     "name": "stdout",
     "output_type": "stream",
     "text": [
      "count      5.000000\n",
      "mean     110.000000\n",
      "std       96.695398\n",
      "min       10.000000\n",
      "25%       40.000000\n",
      "50%       90.000000\n",
      "75%      160.000000\n",
      "max      250.000000\n",
      "dtype: float64\n"
     ]
    }
   ],
   "source": [
    "data = pd.Series([1, 2, 3, 4, 5]) * pd.Series([10, 20, 30, 40, 50])\n",
    "print(data.describe())"
   ]
  },
  {
   "cell_type": "markdown",
   "metadata": {},
   "source": [
    "## 2-2. DataFrame"
   ]
  },
  {
   "cell_type": "markdown",
   "metadata": {},
   "source": [
    "#### 034 DataFrame 생성\n",
    "\n",
    "- list를 활용해 보기의 출력값과 같은 DataFrame을 생성하세요.\n",
    "\n",
    "-------\n",
    "<span style=\"font-weight:normal; color:#303F9F;\">In</span>\n",
    "```python\n",
    "df = # 주석을 지우고 이곳에 코드를 작성하세요.\n",
    "df\n",
    "```\n",
    "-------\n",
    "<span style=\"font-weight:normal; color:red;\">Out</span>\n",
    "\n",
    "||0|1|2|3|\n",
    "|--|--|--|--|--|\n",
    "|**0**|\t0|\t7|\t8|\t1|\n",
    "|**1**|\t1|\t4|\t7|\t3|\n"
   ]
  },
  {
   "cell_type": "code",
   "execution_count": 151,
   "metadata": {},
   "outputs": [
    {
     "data": {
      "text/html": [
       "<div>\n",
       "<style scoped>\n",
       "    .dataframe tbody tr th:only-of-type {\n",
       "        vertical-align: middle;\n",
       "    }\n",
       "\n",
       "    .dataframe tbody tr th {\n",
       "        vertical-align: top;\n",
       "    }\n",
       "\n",
       "    .dataframe thead th {\n",
       "        text-align: right;\n",
       "    }\n",
       "</style>\n",
       "<table border=\"1\" class=\"dataframe\">\n",
       "  <thead>\n",
       "    <tr style=\"text-align: right;\">\n",
       "      <th></th>\n",
       "      <th>0</th>\n",
       "      <th>1</th>\n",
       "      <th>2</th>\n",
       "      <th>3</th>\n",
       "    </tr>\n",
       "  </thead>\n",
       "  <tbody>\n",
       "    <tr>\n",
       "      <th>0</th>\n",
       "      <td>0</td>\n",
       "      <td>7</td>\n",
       "      <td>8</td>\n",
       "      <td>1</td>\n",
       "    </tr>\n",
       "    <tr>\n",
       "      <th>1</th>\n",
       "      <td>1</td>\n",
       "      <td>4</td>\n",
       "      <td>7</td>\n",
       "      <td>3</td>\n",
       "    </tr>\n",
       "  </tbody>\n",
       "</table>\n",
       "</div>"
      ],
      "text/plain": [
       "   0  1  2  3\n",
       "0  0  7  8  1\n",
       "1  1  4  7  3"
      ]
     },
     "execution_count": 151,
     "metadata": {},
     "output_type": "execute_result"
    }
   ],
   "source": [
    "df = pd.DataFrame([[0, 7, 8, 1],[1, 4, 7, 3]])\n",
    "df"
   ]
  },
  {
   "cell_type": "markdown",
   "metadata": {},
   "source": [
    "#### 035 DataFrame 생성\n",
    "\n",
    "- dict를 활용해 보기의 출력값과 같은 DataFrame을 생성하세요.\n",
    "\n",
    "-------\n",
    "<span style=\"font-weight:normal; color:#303F9F;\">In</span>\n",
    "```python\n",
    "df = # 주석을 지우고 이곳에 코드를 작성하세요.\n",
    "df\n",
    "```\n",
    "-------\n",
    "<span style=\"font-weight:normal; color:red;\">Out</span>\n",
    "\n",
    "||학년|수학|영어|\n",
    "|--|--|--|--|\n",
    "|**0**|\t0|\t33|\t98|\n",
    "|**1**|\t1|\t79|\t67|\n",
    "|**2**|\t3|\t81|\t31|\n",
    "|**3**|\t2|\t50|\t49|"
   ]
  },
  {
   "cell_type": "code",
   "execution_count": 152,
   "metadata": {},
   "outputs": [
    {
     "data": {
      "text/html": [
       "<div>\n",
       "<style scoped>\n",
       "    .dataframe tbody tr th:only-of-type {\n",
       "        vertical-align: middle;\n",
       "    }\n",
       "\n",
       "    .dataframe tbody tr th {\n",
       "        vertical-align: top;\n",
       "    }\n",
       "\n",
       "    .dataframe thead th {\n",
       "        text-align: right;\n",
       "    }\n",
       "</style>\n",
       "<table border=\"1\" class=\"dataframe\">\n",
       "  <thead>\n",
       "    <tr style=\"text-align: right;\">\n",
       "      <th></th>\n",
       "      <th>학년</th>\n",
       "      <th>수학</th>\n",
       "      <th>영어</th>\n",
       "    </tr>\n",
       "  </thead>\n",
       "  <tbody>\n",
       "    <tr>\n",
       "      <th>0</th>\n",
       "      <td>1</td>\n",
       "      <td>33</td>\n",
       "      <td>98</td>\n",
       "    </tr>\n",
       "    <tr>\n",
       "      <th>1</th>\n",
       "      <td>1</td>\n",
       "      <td>79</td>\n",
       "      <td>67</td>\n",
       "    </tr>\n",
       "    <tr>\n",
       "      <th>2</th>\n",
       "      <td>3</td>\n",
       "      <td>81</td>\n",
       "      <td>31</td>\n",
       "    </tr>\n",
       "    <tr>\n",
       "      <th>3</th>\n",
       "      <td>2</td>\n",
       "      <td>50</td>\n",
       "      <td>49</td>\n",
       "    </tr>\n",
       "  </tbody>\n",
       "</table>\n",
       "</div>"
      ],
      "text/plain": [
       "   학년  수학  영어\n",
       "0   1  33  98\n",
       "1   1  79  67\n",
       "2   3  81  31\n",
       "3   2  50  49"
      ]
     },
     "execution_count": 152,
     "metadata": {},
     "output_type": "execute_result"
    }
   ],
   "source": [
    "df = pd.DataFrame({'학년':[1,1,3,2], '수학':[33, 79, 81, 50], '영어':[98, 67, 31, 49]})\n",
    "df"
   ]
  },
  {
   "cell_type": "markdown",
   "metadata": {},
   "source": [
    "#### 036 DataFrame 생성\n",
    "\n",
    "- 아래의 출력값과 같이 index와 column이 출력 될 수 있도록 DataFrame을 생성하세요.\n",
    "\n",
    "-------\n",
    "<span style=\"font-weight:normal; color:#303F9F;\">In</span>\n",
    "```python\n",
    "df = # 주석을 지우고 이곳에 DataFrame을 생성하세요.\n",
    "df\n",
    "```\n",
    "-------\n",
    "<span style=\"font-weight:normal; color:red;\">Out</span>\n",
    "\n",
    "||남|여|\n",
    "|--|--|--|\n",
    "|**김xx**|1|0|\n",
    "|**이xx**|0|1|\n",
    "|**박xx**|0|1|\n",
    "|**최xx**|1|0|"
   ]
  },
  {
   "cell_type": "code",
   "execution_count": 48,
   "metadata": {},
   "outputs": [
    {
     "data": {
      "text/html": [
       "<div>\n",
       "<style scoped>\n",
       "    .dataframe tbody tr th:only-of-type {\n",
       "        vertical-align: middle;\n",
       "    }\n",
       "\n",
       "    .dataframe tbody tr th {\n",
       "        vertical-align: top;\n",
       "    }\n",
       "\n",
       "    .dataframe thead th {\n",
       "        text-align: right;\n",
       "    }\n",
       "</style>\n",
       "<table border=\"1\" class=\"dataframe\">\n",
       "  <thead>\n",
       "    <tr style=\"text-align: right;\">\n",
       "      <th></th>\n",
       "      <th>남</th>\n",
       "      <th>여</th>\n",
       "    </tr>\n",
       "  </thead>\n",
       "  <tbody>\n",
       "    <tr>\n",
       "      <th>김xx</th>\n",
       "      <td>1</td>\n",
       "      <td>0</td>\n",
       "    </tr>\n",
       "    <tr>\n",
       "      <th>이xx</th>\n",
       "      <td>0</td>\n",
       "      <td>1</td>\n",
       "    </tr>\n",
       "    <tr>\n",
       "      <th>박xx</th>\n",
       "      <td>0</td>\n",
       "      <td>1</td>\n",
       "    </tr>\n",
       "    <tr>\n",
       "      <th>최xx</th>\n",
       "      <td>1</td>\n",
       "      <td>0</td>\n",
       "    </tr>\n",
       "  </tbody>\n",
       "</table>\n",
       "</div>"
      ],
      "text/plain": [
       "     남  여\n",
       "김xx  1  0\n",
       "이xx  0  1\n",
       "박xx  0  1\n",
       "최xx  1  0"
      ]
     },
     "execution_count": 48,
     "metadata": {},
     "output_type": "execute_result"
    }
   ],
   "source": [
    "df = pd.DataFrame([[1, 0], [0, 1], [0, 1], [1, 0]],\n",
    "                  index=['김xx', '이xx', '박xx', '최xx'],\n",
    "                  columns=['남', '여'])\n",
    "df"
   ]
  },
  {
   "cell_type": "markdown",
   "metadata": {},
   "source": [
    "#### 037 index, column 변경\n",
    "\n",
    "- 다음 데이터 프레임의 index와 column을 보기와 같이 변경하세요.\n",
    "\n",
    "-------\n",
    "<span style=\"font-weight:normal; color:#303F9F;\">In</span>\n",
    "```python\n",
    "df = pd.DataFrame({'a':[37.58945628, 37.60935675, 37.59167275, 37.60935675, 37.60963055],\n",
    "                   'b':[127.0168496, 127.0530356, 127.0122079, 127.0530356, 127.0530544]})\n",
    "# 주석을 지우고 이곳에 코드를 작성하세요.\n",
    "df\n",
    "```\n",
    "-------\n",
    "<span style=\"font-weight:normal; color:red;\">Out</span>\n",
    "\n",
    "||위도|경도|\n",
    "|--|--|--|\n",
    "|**A**|37.58945628|127.0168496|\n",
    "|**B**|37.60935675|127.0530356|\n",
    "|**C**|37.59167275|127.0122079|\n",
    "|**D**|37.60935675|127.0530356|\n",
    "|**E**|37.60963055|127.0530544|\n"
   ]
  },
  {
   "cell_type": "code",
   "execution_count": 55,
   "metadata": {},
   "outputs": [
    {
     "data": {
      "text/html": [
       "<div>\n",
       "<style scoped>\n",
       "    .dataframe tbody tr th:only-of-type {\n",
       "        vertical-align: middle;\n",
       "    }\n",
       "\n",
       "    .dataframe tbody tr th {\n",
       "        vertical-align: top;\n",
       "    }\n",
       "\n",
       "    .dataframe thead th {\n",
       "        text-align: right;\n",
       "    }\n",
       "</style>\n",
       "<table border=\"1\" class=\"dataframe\">\n",
       "  <thead>\n",
       "    <tr style=\"text-align: right;\">\n",
       "      <th></th>\n",
       "      <th>위도</th>\n",
       "      <th>경도</th>\n",
       "    </tr>\n",
       "  </thead>\n",
       "  <tbody>\n",
       "    <tr>\n",
       "      <th>A</th>\n",
       "      <td>37.589456</td>\n",
       "      <td>127.016850</td>\n",
       "    </tr>\n",
       "    <tr>\n",
       "      <th>B</th>\n",
       "      <td>37.609357</td>\n",
       "      <td>127.053036</td>\n",
       "    </tr>\n",
       "    <tr>\n",
       "      <th>C</th>\n",
       "      <td>37.591673</td>\n",
       "      <td>127.012208</td>\n",
       "    </tr>\n",
       "    <tr>\n",
       "      <th>D</th>\n",
       "      <td>37.609357</td>\n",
       "      <td>127.053036</td>\n",
       "    </tr>\n",
       "    <tr>\n",
       "      <th>E</th>\n",
       "      <td>37.609631</td>\n",
       "      <td>127.053054</td>\n",
       "    </tr>\n",
       "  </tbody>\n",
       "</table>\n",
       "</div>"
      ],
      "text/plain": [
       "          위도          경도\n",
       "A  37.589456  127.016850\n",
       "B  37.609357  127.053036\n",
       "C  37.591673  127.012208\n",
       "D  37.609357  127.053036\n",
       "E  37.609631  127.053054"
      ]
     },
     "execution_count": 55,
     "metadata": {},
     "output_type": "execute_result"
    }
   ],
   "source": [
    "df = pd.DataFrame({'a':[37.58945628, 37.60935675, 37.59167275, 37.60935675, 37.60963055],\n",
    "                   'b':[127.0168496, 127.0530356, 127.0122079, 127.0530356, 127.0530544]})\n",
    "df.index = ['A', 'B', 'C', 'D', 'E']\n",
    "df.columns = ['위도', '경도']\n",
    "df"
   ]
  },
  {
   "cell_type": "markdown",
   "metadata": {},
   "source": [
    "#### 038 데이터 조회\n",
    "\n",
    "- 다음 ```df``` 데이터의 1번 행의 값을 조회하세요.\n",
    "\n",
    "-------\n",
    "<span style=\"font-weight:normal; color:#303F9F;\">In</span>\n",
    "```python\n",
    "df = pd.DataFrame({'구분':['일자리','창업','창업','창업','소공인'],\n",
    "                   '시설명':['일자리 플러스 센터','벤처창업지원센터','1인 창조기업 비즈니스센터','시니어 기술창업센터','성북구 패션봉제지원센터(소공인특화지원센터)'],\n",
    "                   '행정동':['삼선동','장위2동','성북동','장위2동','장위2동']})\n",
    "# 주석을 지우고 이곳에 코드를 작성하세요.\n",
    "```\n",
    "-------\n",
    "<span style=\"font-weight:normal; color:red;\">Out</span>\n",
    "```\n",
    "구분           창업\n",
    "시설명    벤처창업지원센터\n",
    "행정동        장위2동\n",
    "Name: 1, dtype: object\n",
    "```"
   ]
  },
  {
   "cell_type": "code",
   "execution_count": 73,
   "metadata": {
    "scrolled": true
   },
   "outputs": [
    {
     "data": {
      "text/plain": [
       "구분           창업\n",
       "시설명    벤처창업지원센터\n",
       "행정동        장위2동\n",
       "Name: 1, dtype: object"
      ]
     },
     "execution_count": 73,
     "metadata": {},
     "output_type": "execute_result"
    }
   ],
   "source": [
    "df = pd.DataFrame({'구분':['일자리','창업','창업','창업','소공인'],\n",
    "                   '시설명':['일자리 플러스 센터','벤처창업지원센터','1인 창조기업 비즈니스센터','시니어 기술창업센터','성북구 패션봉제지원센터(소공인특화지원센터)'],\n",
    "                   '행정동':['삼선동','장위2동','성북동','장위2동','장위2동']})\n",
    "df.loc[1]"
   ]
  },
  {
   "cell_type": "markdown",
   "metadata": {},
   "source": [
    "#### 039 데이터 조회\n",
    "\n",
    "- 다음 ```df``` 데이터의 1~3번을 포함한 행의 값을 조회하세요.\n",
    "\n",
    "-------\n",
    "<span style=\"font-weight:normal; color:#303F9F;\">In</span>\n",
    "```python\n",
    "df = pd.DataFrame({'구분':['일자리','창업','창업','창업','소공인'],\n",
    "                   '시설명':['일자리 플러스 센터','벤처창업지원센터','1인 창조기업 비즈니스센터','시니어 기술창업센터','성북구 패션봉제지원센터(소공인특화지원센터)'],\n",
    "                   '행정동':['삼선동','장위2동','성북동','장위2동','장위2동']})\n",
    "\n",
    "print()# 주석을 지우고 print 안에 코드를 작성하세요.\n",
    "```\n",
    "-------\n",
    "<span style=\"font-weight:normal; color:orange;\">Print</span>\n",
    "\n",
    "```\n",
    "    구분                      시설명   행정동\n",
    "1   창업                 벤처창업지원센터  장위2동\n",
    "2   창업           1인 창조기업 비즈니스센터   성북동\n",
    "3   창업               시니어 기술창업센터  장위2동\n",
    "4  소공인  성북구 패션봉제지원센터(소공인특화지원센터)  장위2동\n",
    "```"
   ]
  },
  {
   "cell_type": "code",
   "execution_count": 77,
   "metadata": {},
   "outputs": [
    {
     "name": "stdout",
     "output_type": "stream",
     "text": [
      "    구분                      시설명   행정동\n",
      "1   창업                 벤처창업지원센터  장위2동\n",
      "2   창업           1인 창조기업 비즈니스센터   성북동\n",
      "3   창업               시니어 기술창업센터  장위2동\n",
      "4  소공인  성북구 패션봉제지원센터(소공인특화지원센터)  장위2동\n"
     ]
    }
   ],
   "source": [
    "df = pd.DataFrame({'구분':['일자리','창업','창업','창업','소공인'],\n",
    "                   '시설명':['일자리 플러스 센터','벤처창업지원센터','1인 창조기업 비즈니스센터','시니어 기술창업센터','성북구 패션봉제지원센터(소공인특화지원센터)'],\n",
    "                   '행정동':['삼선동','장위2동','성북동','장위2동','장위2동']})\n",
    "\n",
    "print(df.loc[1:4])"
   ]
  },
  {
   "cell_type": "markdown",
   "metadata": {},
   "source": [
    "#### 040 데이터 조회\n",
    "\n",
    "- 다음의 출력값 처럼 ```df``` 의 데이터를 조회하세요.\n",
    "- 반드시 인덱스와 컬럼을 동시에 사용하세요.\n",
    "\n",
    "-------\n",
    "<span style=\"font-weight:normal; color:#303F9F;\">In</span>\n",
    "```python\n",
    "df = pd.DataFrame({'구분':['일자리','창업','창업','창업','소공인'],\n",
    "                   '시설명':['일자리 플러스 센터','벤처창업지원센터','1인 창조기업 비즈니스센터','시니어 기술창업센터','성북구 패션봉제지원센터(소공인특화지원센터)'],\n",
    "                   '행정동':['삼선동','장위2동','성북동','장위2동','장위2동']})\n",
    "\n",
    "# 주석을 지우고 이곳에 코드를 작성하세요.\n",
    "```\n",
    "-------\n",
    "<span style=\"font-weight:normal; color:red;\">Out</span>\n",
    "\n",
    "||구분|행정동|\n",
    "|--|--|--|\n",
    "|2|창업|성북동|\n",
    "|3|창업|장위2동|\n",
    "|4|소공인|장위2동|\n"
   ]
  },
  {
   "cell_type": "code",
   "execution_count": 101,
   "metadata": {},
   "outputs": [
    {
     "data": {
      "text/html": [
       "<div>\n",
       "<style scoped>\n",
       "    .dataframe tbody tr th:only-of-type {\n",
       "        vertical-align: middle;\n",
       "    }\n",
       "\n",
       "    .dataframe tbody tr th {\n",
       "        vertical-align: top;\n",
       "    }\n",
       "\n",
       "    .dataframe thead th {\n",
       "        text-align: right;\n",
       "    }\n",
       "</style>\n",
       "<table border=\"1\" class=\"dataframe\">\n",
       "  <thead>\n",
       "    <tr style=\"text-align: right;\">\n",
       "      <th></th>\n",
       "      <th>구분</th>\n",
       "      <th>행정동</th>\n",
       "    </tr>\n",
       "  </thead>\n",
       "  <tbody>\n",
       "    <tr>\n",
       "      <th>2</th>\n",
       "      <td>창업</td>\n",
       "      <td>성북동</td>\n",
       "    </tr>\n",
       "    <tr>\n",
       "      <th>3</th>\n",
       "      <td>창업</td>\n",
       "      <td>장위2동</td>\n",
       "    </tr>\n",
       "    <tr>\n",
       "      <th>4</th>\n",
       "      <td>소공인</td>\n",
       "      <td>장위2동</td>\n",
       "    </tr>\n",
       "  </tbody>\n",
       "</table>\n",
       "</div>"
      ],
      "text/plain": [
       "    구분   행정동\n",
       "2   창업   성북동\n",
       "3   창업  장위2동\n",
       "4  소공인  장위2동"
      ]
     },
     "execution_count": 101,
     "metadata": {},
     "output_type": "execute_result"
    }
   ],
   "source": [
    "df = pd.DataFrame({'구분':['일자리','창업','창업','창업','소공인'],\n",
    "                   '시설명':['일자리 플러스 센터','벤처창업지원센터','1인 창조기업 비즈니스센터','시니어 기술창업센터','성북구 패션봉제지원센터(소공인특화지원센터)'],\n",
    "                   '행정동':['삼선동','장위2동','성북동','장위2동','장위2동']})\n",
    "df.loc[2:5, ['구분','행정동']]"
   ]
  },
  {
   "cell_type": "markdown",
   "metadata": {},
   "source": [
    "#### 041 데이터 조회\n",
    "\n",
    "- 다음 출력값과 같이 위도가 37.6 보다 높은 데이터만 조회하세요.\n",
    "\n",
    "-------\n",
    "<span style=\"font-weight:normal; color:#303F9F;\">In</span>\n",
    "```python\n",
    "df = pd.DataFrame({'위도':[37.58945628, 37.60935675, 37.59167275, 37.60935675, 37.60963055],\n",
    "                   '경도':[127.0168496, 127.0530356, 127.0122079, 127.0530356, 127.0530544]})\n",
    "\n",
    "# 주석을 지우고 이곳에 코드를 작성하세요.\n",
    "```\n",
    "-------\n",
    "<span style=\"font-weight:normal; color:red;\">Out</span>\n",
    "\n",
    "||위도|경도|\n",
    "|--|--|--|\n",
    "|**1**|37.609357|127.053036|\n",
    "|**3**|37.609357|127.053036|\n",
    "|**4**|37.609631|127.053054|\n"
   ]
  },
  {
   "cell_type": "code",
   "execution_count": 107,
   "metadata": {},
   "outputs": [
    {
     "data": {
      "text/html": [
       "<div>\n",
       "<style scoped>\n",
       "    .dataframe tbody tr th:only-of-type {\n",
       "        vertical-align: middle;\n",
       "    }\n",
       "\n",
       "    .dataframe tbody tr th {\n",
       "        vertical-align: top;\n",
       "    }\n",
       "\n",
       "    .dataframe thead th {\n",
       "        text-align: right;\n",
       "    }\n",
       "</style>\n",
       "<table border=\"1\" class=\"dataframe\">\n",
       "  <thead>\n",
       "    <tr style=\"text-align: right;\">\n",
       "      <th></th>\n",
       "      <th>위도</th>\n",
       "      <th>경도</th>\n",
       "    </tr>\n",
       "  </thead>\n",
       "  <tbody>\n",
       "    <tr>\n",
       "      <th>1</th>\n",
       "      <td>37.609357</td>\n",
       "      <td>127.053036</td>\n",
       "    </tr>\n",
       "    <tr>\n",
       "      <th>3</th>\n",
       "      <td>37.609357</td>\n",
       "      <td>127.053036</td>\n",
       "    </tr>\n",
       "    <tr>\n",
       "      <th>4</th>\n",
       "      <td>37.609631</td>\n",
       "      <td>127.053054</td>\n",
       "    </tr>\n",
       "  </tbody>\n",
       "</table>\n",
       "</div>"
      ],
      "text/plain": [
       "          위도          경도\n",
       "1  37.609357  127.053036\n",
       "3  37.609357  127.053036\n",
       "4  37.609631  127.053054"
      ]
     },
     "execution_count": 107,
     "metadata": {},
     "output_type": "execute_result"
    }
   ],
   "source": [
    "df = pd.DataFrame({'위도':[37.58945628, 37.60935675, 37.59167275, 37.60935675, 37.60963055],\n",
    "                   '경도':[127.0168496, 127.0530356, 127.0122079, 127.0530356, 127.0530544]})\n",
    "df[df['위도']>37.6]"
   ]
  },
  {
   "cell_type": "markdown",
   "metadata": {},
   "source": [
    "#### 042 데이터 합치기\n",
    "\n",
    "- 다음의 두 데이터를 index 기준으로 합치세요\n",
    "\n",
    "-------\n",
    "<span style=\"font-weight:normal; color:#303F9F;\">In</span>\n",
    "```python\n",
    "df1 = pd.DataFrame({'위도':[37.58945628, 37.60935675, 37.59167275, 37.60935675, 37.60963055],\n",
    "                    '경도':[127.0168496, 127.0530356, 127.0122079, 127.0530356, 127.0530544]})\n",
    "df2 = pd.DataFrame({'구분':['일자리','창업','창업','창업','소공인'],\n",
    "                    '시설명':['일자리 플러스 센터','벤처창업지원센터','1인 창조기업 비즈니스센터','시니어 기술창업센터','성북구 패션봉제지원센터(소공인특화지원센터)'],\n",
    "                    '행정동':['삼선동','장위2동','성북동','장위2동','장위2동']})\n",
    "\n",
    "# 주석을 지우고 이곳에 코드를 작성하세요.\n",
    "```\n",
    "-------\n",
    "<span style=\"font-weight:normal; color:red;\">Out</span>\n",
    "\n",
    "||위도|경도|구분|시설명|행정동|\n",
    "|--|--|--|--|--|--|\n",
    "|**0**|37.589456|127.016850|일자리|일자리 플러스 센터|삼선동|\n",
    "|**1**|37.609357|127.053036|창업|벤처창업지원센터\t|장위2동|\n",
    "|**2**|37.591673|127.012208|창업|1인 창조기업 비즈니스센터|성북동|\n",
    "|**3**|37.609357|127.053036|창업|시니어 기술창업센터|장위2동|\n",
    "|**4**|37.609631|127.053054|소공인|성북구 패션봉제지원센터(소공인특화지원센터)|장위2동|"
   ]
  },
  {
   "cell_type": "code",
   "execution_count": 151,
   "metadata": {},
   "outputs": [
    {
     "data": {
      "text/html": [
       "<div>\n",
       "<style scoped>\n",
       "    .dataframe tbody tr th:only-of-type {\n",
       "        vertical-align: middle;\n",
       "    }\n",
       "\n",
       "    .dataframe tbody tr th {\n",
       "        vertical-align: top;\n",
       "    }\n",
       "\n",
       "    .dataframe thead th {\n",
       "        text-align: right;\n",
       "    }\n",
       "</style>\n",
       "<table border=\"1\" class=\"dataframe\">\n",
       "  <thead>\n",
       "    <tr style=\"text-align: right;\">\n",
       "      <th></th>\n",
       "      <th>위도</th>\n",
       "      <th>경도</th>\n",
       "      <th>구분</th>\n",
       "      <th>시설명</th>\n",
       "      <th>행정동</th>\n",
       "    </tr>\n",
       "  </thead>\n",
       "  <tbody>\n",
       "    <tr>\n",
       "      <th>0</th>\n",
       "      <td>37.589456</td>\n",
       "      <td>127.016850</td>\n",
       "      <td>일자리</td>\n",
       "      <td>일자리 플러스 센터</td>\n",
       "      <td>삼선동</td>\n",
       "    </tr>\n",
       "    <tr>\n",
       "      <th>1</th>\n",
       "      <td>37.609357</td>\n",
       "      <td>127.053036</td>\n",
       "      <td>창업</td>\n",
       "      <td>벤처창업지원센터</td>\n",
       "      <td>장위2동</td>\n",
       "    </tr>\n",
       "    <tr>\n",
       "      <th>2</th>\n",
       "      <td>37.591673</td>\n",
       "      <td>127.012208</td>\n",
       "      <td>창업</td>\n",
       "      <td>1인 창조기업 비즈니스센터</td>\n",
       "      <td>성북동</td>\n",
       "    </tr>\n",
       "    <tr>\n",
       "      <th>3</th>\n",
       "      <td>37.609357</td>\n",
       "      <td>127.053036</td>\n",
       "      <td>창업</td>\n",
       "      <td>시니어 기술창업센터</td>\n",
       "      <td>장위2동</td>\n",
       "    </tr>\n",
       "    <tr>\n",
       "      <th>4</th>\n",
       "      <td>37.609631</td>\n",
       "      <td>127.053054</td>\n",
       "      <td>소공인</td>\n",
       "      <td>성북구 패션봉제지원센터(소공인특화지원센터)</td>\n",
       "      <td>장위2동</td>\n",
       "    </tr>\n",
       "  </tbody>\n",
       "</table>\n",
       "</div>"
      ],
      "text/plain": [
       "          위도          경도   구분                      시설명   행정동\n",
       "0  37.589456  127.016850  일자리               일자리 플러스 센터   삼선동\n",
       "1  37.609357  127.053036   창업                 벤처창업지원센터  장위2동\n",
       "2  37.591673  127.012208   창업           1인 창조기업 비즈니스센터   성북동\n",
       "3  37.609357  127.053036   창업               시니어 기술창업센터  장위2동\n",
       "4  37.609631  127.053054  소공인  성북구 패션봉제지원센터(소공인특화지원센터)  장위2동"
      ]
     },
     "execution_count": 151,
     "metadata": {},
     "output_type": "execute_result"
    }
   ],
   "source": [
    "df1 = pd.DataFrame({'위도':[37.58945628, 37.60935675, 37.59167275, 37.60935675, 37.60963055],\n",
    "                    '경도':[127.0168496, 127.0530356, 127.0122079, 127.0530356, 127.0530544]})\n",
    "df2 = pd.DataFrame({'구분':['일자리','창업','창업','창업','소공인'],\n",
    "                    '시설명':['일자리 플러스 센터','벤처창업지원센터','1인 창조기업 비즈니스센터','시니어 기술창업센터','성북구 패션봉제지원센터(소공인특화지원센터)'],\n",
    "                    '행정동':['삼선동','장위2동','성북동','장위2동','장위2동']})\n",
    "pd.merge(left=df1, right=df2, left_index=True, right_index=True, how='inner')"
   ]
  },
  {
   "cell_type": "markdown",
   "metadata": {},
   "source": [
    "#### 043 데이터프레임 연산\n",
    "\n",
    "- 두 데이터프레임의 연산 결과를 예상해보고 확인하세요.\n",
    "\n",
    "-------\n",
    "<span style=\"font-weight:normal; color:#303F9F;\">In</span>\n",
    "```python\n",
    "df1 = pd.DataFrame([[12, 6, 3], [4, 12, 9]])\n",
    "df2 = pd.DataFrame([[3, 6], [1, 6]])\n",
    "\n",
    "df1 / df2\n",
    "```"
   ]
  },
  {
   "cell_type": "code",
   "execution_count": 160,
   "metadata": {},
   "outputs": [
    {
     "data": {
      "text/html": [
       "<div>\n",
       "<style scoped>\n",
       "    .dataframe tbody tr th:only-of-type {\n",
       "        vertical-align: middle;\n",
       "    }\n",
       "\n",
       "    .dataframe tbody tr th {\n",
       "        vertical-align: top;\n",
       "    }\n",
       "\n",
       "    .dataframe thead th {\n",
       "        text-align: right;\n",
       "    }\n",
       "</style>\n",
       "<table border=\"1\" class=\"dataframe\">\n",
       "  <thead>\n",
       "    <tr style=\"text-align: right;\">\n",
       "      <th></th>\n",
       "      <th>0</th>\n",
       "      <th>1</th>\n",
       "      <th>2</th>\n",
       "    </tr>\n",
       "  </thead>\n",
       "  <tbody>\n",
       "    <tr>\n",
       "      <th>0</th>\n",
       "      <td>4.0</td>\n",
       "      <td>1.0</td>\n",
       "      <td>NaN</td>\n",
       "    </tr>\n",
       "    <tr>\n",
       "      <th>1</th>\n",
       "      <td>4.0</td>\n",
       "      <td>2.0</td>\n",
       "      <td>NaN</td>\n",
       "    </tr>\n",
       "  </tbody>\n",
       "</table>\n",
       "</div>"
      ],
      "text/plain": [
       "     0    1   2\n",
       "0  4.0  1.0 NaN\n",
       "1  4.0  2.0 NaN"
      ]
     },
     "execution_count": 160,
     "metadata": {},
     "output_type": "execute_result"
    }
   ],
   "source": [
    "df1 = pd.DataFrame([[12, 6, 3], [4, 12, 9]])\n",
    "df2 = pd.DataFrame([[3, 6], [1, 6]])\n",
    "\n",
    "df1 / df2"
   ]
  },
  {
   "cell_type": "markdown",
   "metadata": {},
   "source": [
    "#### 044 csv 불러오기\n",
    "\n",
    "- 다음의 링크로 들어가 공공데이터를 다운받으세요.[[https://www.data.go.kr/data/15040314/fileData.do#/tab-layer-file]](https://www.data.go.kr/data/15040314/fileData.do#/tab-layer-file)\n",
    "- 다운 받은 데이터를 현재 작업경로로 옮기세요.\n",
    "- csv 데이터를 불러와 df 변수에 저장하세요.\n",
    "\n",
    "-------\n",
    "<span style=\"font-weight:normal; color:#303F9F;\">In</span>\n",
    "```python\n",
    "df = # 주석을 지우고 이곳에 코드를 작성하세요.\n",
    "df.head()\n",
    "```"
   ]
  },
  {
   "cell_type": "code",
   "execution_count": 198,
   "metadata": {
    "scrolled": false
   },
   "outputs": [
    {
     "data": {
      "text/html": [
       "<div>\n",
       "<style scoped>\n",
       "    .dataframe tbody tr th:only-of-type {\n",
       "        vertical-align: middle;\n",
       "    }\n",
       "\n",
       "    .dataframe tbody tr th {\n",
       "        vertical-align: top;\n",
       "    }\n",
       "\n",
       "    .dataframe thead th {\n",
       "        text-align: right;\n",
       "    }\n",
       "</style>\n",
       "<table border=\"1\" class=\"dataframe\">\n",
       "  <thead>\n",
       "    <tr style=\"text-align: right;\">\n",
       "      <th></th>\n",
       "      <th>구분</th>\n",
       "      <th>시설명</th>\n",
       "      <th>주소</th>\n",
       "      <th>위도</th>\n",
       "      <th>경도</th>\n",
       "      <th>지원내용_등</th>\n",
       "      <th>전화번호</th>\n",
       "      <th>위탁기관</th>\n",
       "      <th>행정동</th>\n",
       "      <th>비고</th>\n",
       "    </tr>\n",
       "  </thead>\n",
       "  <tbody>\n",
       "    <tr>\n",
       "      <th>0</th>\n",
       "      <td>일자리</td>\n",
       "      <td>일자리 플러스 센터</td>\n",
       "      <td>서울특별시 성북구 보문로 168, 성북구청 2층</td>\n",
       "      <td>37.589456</td>\n",
       "      <td>127.016850</td>\n",
       "      <td>맞춤형 취업상담, 알선 및 구인기업 발굴 등록관리 등</td>\n",
       "      <td>02-2241-3947</td>\n",
       "      <td>NaN</td>\n",
       "      <td>삼선동</td>\n",
       "      <td>NaN</td>\n",
       "    </tr>\n",
       "    <tr>\n",
       "      <th>1</th>\n",
       "      <td>창업</td>\n",
       "      <td>벤처창업지원센터</td>\n",
       "      <td>서울특별시 성북구 화랑로 211</td>\n",
       "      <td>37.609357</td>\n",
       "      <td>127.053036</td>\n",
       "      <td>벤처기업의 창업 공간 및 보육 프로그램 제공</td>\n",
       "      <td>02-941-6639</td>\n",
       "      <td>한성대학교</td>\n",
       "      <td>장위2동</td>\n",
       "      <td>NaN</td>\n",
       "    </tr>\n",
       "    <tr>\n",
       "      <th>2</th>\n",
       "      <td>창업</td>\n",
       "      <td>1인 창조기업 비즈니스센터</td>\n",
       "      <td>서울특별시 성북구 동소문로 63, 드림트리빌딩 6층</td>\n",
       "      <td>37.591673</td>\n",
       "      <td>127.012208</td>\n",
       "      <td>1인 창조 산업 창업자 및 예비 창업자 지원 육성</td>\n",
       "      <td>02-2241-3984</td>\n",
       "      <td>성북구청 직영</td>\n",
       "      <td>성북동</td>\n",
       "      <td>NaN</td>\n",
       "    </tr>\n",
       "    <tr>\n",
       "      <th>3</th>\n",
       "      <td>창업</td>\n",
       "      <td>시니어 기술창업센터</td>\n",
       "      <td>서울특별시 성북구 화랑로 211, 성북구벤처창업지원센터 내 지하1층</td>\n",
       "      <td>37.609357</td>\n",
       "      <td>127.053036</td>\n",
       "      <td>시니어(40세이상) 기술 창업 지원</td>\n",
       "      <td>02-941-7257</td>\n",
       "      <td>한성대학교</td>\n",
       "      <td>장위2동</td>\n",
       "      <td>NaN</td>\n",
       "    </tr>\n",
       "    <tr>\n",
       "      <th>4</th>\n",
       "      <td>소공인</td>\n",
       "      <td>성북구 패션봉제지원센터(소공인특화지원센터)</td>\n",
       "      <td>서울특별시 성북구 돌곶이로25길 73</td>\n",
       "      <td>37.609631</td>\n",
       "      <td>127.053054</td>\n",
       "      <td>봉제산업 소공인 경쟁력 제고를 위한 교육 제공 및 봉제장비 임대지원</td>\n",
       "      <td>02-919-9257</td>\n",
       "      <td>(사)서울패션섬유봉제협회</td>\n",
       "      <td>장위2동</td>\n",
       "      <td>NaN</td>\n",
       "    </tr>\n",
       "  </tbody>\n",
       "</table>\n",
       "</div>"
      ],
      "text/plain": [
       "    구분                      시설명                                     주소  \\\n",
       "0  일자리               일자리 플러스 센터             서울특별시 성북구 보문로 168, 성북구청 2층   \n",
       "1   창업                 벤처창업지원센터                      서울특별시 성북구 화랑로 211   \n",
       "2   창업           1인 창조기업 비즈니스센터           서울특별시 성북구 동소문로 63, 드림트리빌딩 6층   \n",
       "3   창업               시니어 기술창업센터  서울특별시 성북구 화랑로 211, 성북구벤처창업지원센터 내 지하1층   \n",
       "4  소공인  성북구 패션봉제지원센터(소공인특화지원센터)                   서울특별시 성북구 돌곶이로25길 73   \n",
       "\n",
       "          위도          경도                                 지원내용_등          전화번호  \\\n",
       "0  37.589456  127.016850          맞춤형 취업상담, 알선 및 구인기업 발굴 등록관리 등  02-2241-3947   \n",
       "1  37.609357  127.053036               벤처기업의 창업 공간 및 보육 프로그램 제공   02-941-6639   \n",
       "2  37.591673  127.012208            1인 창조 산업 창업자 및 예비 창업자 지원 육성  02-2241-3984   \n",
       "3  37.609357  127.053036                    시니어(40세이상) 기술 창업 지원   02-941-7257   \n",
       "4  37.609631  127.053054  봉제산업 소공인 경쟁력 제고를 위한 교육 제공 및 봉제장비 임대지원   02-919-9257   \n",
       "\n",
       "            위탁기관   행정동   비고  \n",
       "0            NaN   삼선동  NaN  \n",
       "1          한성대학교  장위2동  NaN  \n",
       "2        성북구청 직영   성북동  NaN  \n",
       "3          한성대학교  장위2동  NaN  \n",
       "4  (사)서울패션섬유봉제협회  장위2동  NaN  "
      ]
     },
     "execution_count": 198,
     "metadata": {},
     "output_type": "execute_result"
    }
   ],
   "source": [
    "df = pd.read_csv('서울특별시 성북구_일자리지원관련센터_20210101.csv', encoding='cp949')\n",
    "df.head()"
   ]
  },
  {
   "cell_type": "markdown",
   "metadata": {},
   "source": [
    "#### 045 DataFrame 통계\n",
    "\n",
    "- 다음의 링크로 들어가 공공데이터를 다운받으세요.[[공공데이터]](https://www.data.go.kr/data/15105026/fileData.do)\n",
    "- 다운 받은 데이터를 현재 작업경로로 옮기세요.\n",
    "- ```경기도 여주시_보호수_20220803.csv``` 파일을 불러와 ```df``` 변수에 저장하세요.\n",
    "- ```df```의 통계 요약을 출력하세요.\n",
    "\n",
    "-------\n",
    "<span style=\"font-weight:normal; color:#303F9F;\">In</span>\n",
    "```python\n",
    "df = pd.read_csv('경기도 여주시_보호수_20220803.csv', encoding='cp949')\n",
    "# 주석을 지우고 이곳에 코드를 작성하세요.\n",
    "```"
   ]
  },
  {
   "cell_type": "code",
   "execution_count": 253,
   "metadata": {
    "scrolled": false
   },
   "outputs": [
    {
     "data": {
      "text/html": [
       "<div>\n",
       "<style scoped>\n",
       "    .dataframe tbody tr th:only-of-type {\n",
       "        vertical-align: middle;\n",
       "    }\n",
       "\n",
       "    .dataframe tbody tr th {\n",
       "        vertical-align: top;\n",
       "    }\n",
       "\n",
       "    .dataframe thead th {\n",
       "        text-align: right;\n",
       "    }\n",
       "</style>\n",
       "<table border=\"1\" class=\"dataframe\">\n",
       "  <thead>\n",
       "    <tr style=\"text-align: right;\">\n",
       "      <th></th>\n",
       "      <th>그루수</th>\n",
       "      <th>나무나이</th>\n",
       "      <th>나무높이</th>\n",
       "      <th>가슴높이둘레</th>\n",
       "      <th>나무갓지름</th>\n",
       "      <th>위도</th>\n",
       "      <th>경도</th>\n",
       "    </tr>\n",
       "  </thead>\n",
       "  <tbody>\n",
       "    <tr>\n",
       "      <th>count</th>\n",
       "      <td>209.000000</td>\n",
       "      <td>209.000000</td>\n",
       "      <td>209.000000</td>\n",
       "      <td>209.000000</td>\n",
       "      <td>68.000000</td>\n",
       "      <td>209.000000</td>\n",
       "      <td>209.000000</td>\n",
       "    </tr>\n",
       "    <tr>\n",
       "      <th>mean</th>\n",
       "      <td>1.028708</td>\n",
       "      <td>251.837321</td>\n",
       "      <td>15.258373</td>\n",
       "      <td>182.781866</td>\n",
       "      <td>1.335441</td>\n",
       "      <td>37.326528</td>\n",
       "      <td>127.588454</td>\n",
       "    </tr>\n",
       "    <tr>\n",
       "      <th>std</th>\n",
       "      <td>0.238462</td>\n",
       "      <td>131.792058</td>\n",
       "      <td>5.214646</td>\n",
       "      <td>209.697709</td>\n",
       "      <td>0.613508</td>\n",
       "      <td>0.083628</td>\n",
       "      <td>0.084569</td>\n",
       "    </tr>\n",
       "    <tr>\n",
       "      <th>min</th>\n",
       "      <td>1.000000</td>\n",
       "      <td>100.000000</td>\n",
       "      <td>6.000000</td>\n",
       "      <td>0.330000</td>\n",
       "      <td>0.330000</td>\n",
       "      <td>36.593942</td>\n",
       "      <td>127.033899</td>\n",
       "    </tr>\n",
       "    <tr>\n",
       "      <th>25%</th>\n",
       "      <td>1.000000</td>\n",
       "      <td>150.000000</td>\n",
       "      <td>12.000000</td>\n",
       "      <td>1.700000</td>\n",
       "      <td>0.900000</td>\n",
       "      <td>37.289290</td>\n",
       "      <td>127.537001</td>\n",
       "    </tr>\n",
       "    <tr>\n",
       "      <th>50%</th>\n",
       "      <td>1.000000</td>\n",
       "      <td>200.000000</td>\n",
       "      <td>16.000000</td>\n",
       "      <td>118.000000</td>\n",
       "      <td>1.220000</td>\n",
       "      <td>37.345050</td>\n",
       "      <td>127.596407</td>\n",
       "    </tr>\n",
       "    <tr>\n",
       "      <th>75%</th>\n",
       "      <td>1.000000</td>\n",
       "      <td>300.000000</td>\n",
       "      <td>20.000000</td>\n",
       "      <td>252.000000</td>\n",
       "      <td>1.700000</td>\n",
       "      <td>37.379271</td>\n",
       "      <td>127.653692</td>\n",
       "    </tr>\n",
       "    <tr>\n",
       "      <th>max</th>\n",
       "      <td>3.000000</td>\n",
       "      <td>700.000000</td>\n",
       "      <td>25.000000</td>\n",
       "      <td>982.000000</td>\n",
       "      <td>3.700000</td>\n",
       "      <td>37.423440</td>\n",
       "      <td>127.720102</td>\n",
       "    </tr>\n",
       "  </tbody>\n",
       "</table>\n",
       "</div>"
      ],
      "text/plain": [
       "              그루수        나무나이        나무높이      가슴높이둘레      나무갓지름          위도  \\\n",
       "count  209.000000  209.000000  209.000000  209.000000  68.000000  209.000000   \n",
       "mean     1.028708  251.837321   15.258373  182.781866   1.335441   37.326528   \n",
       "std      0.238462  131.792058    5.214646  209.697709   0.613508    0.083628   \n",
       "min      1.000000  100.000000    6.000000    0.330000   0.330000   36.593942   \n",
       "25%      1.000000  150.000000   12.000000    1.700000   0.900000   37.289290   \n",
       "50%      1.000000  200.000000   16.000000  118.000000   1.220000   37.345050   \n",
       "75%      1.000000  300.000000   20.000000  252.000000   1.700000   37.379271   \n",
       "max      3.000000  700.000000   25.000000  982.000000   3.700000   37.423440   \n",
       "\n",
       "               경도  \n",
       "count  209.000000  \n",
       "mean   127.588454  \n",
       "std      0.084569  \n",
       "min    127.033899  \n",
       "25%    127.537001  \n",
       "50%    127.596407  \n",
       "75%    127.653692  \n",
       "max    127.720102  "
      ]
     },
     "execution_count": 253,
     "metadata": {},
     "output_type": "execute_result"
    }
   ],
   "source": [
    "df = pd.read_csv('경기도 여주시_보호수_20220803.csv', encoding='cp949')\n",
    "df.describe()"
   ]
  },
  {
   "cell_type": "markdown",
   "metadata": {},
   "source": [
    "#### 046 DataFrame 통계\n",
    "\n",
    "- ```경기도 여주시_보호수_20220803.csv``` 파일을 불러와 ```df``` 변수에 저장하세요.\n",
    "- ```df```의 나무나이, 나무높이, 가슴높이둘레, 나무갓지름의 상관계수를 출력하세요.\n",
    "\n",
    "-------\n",
    "<span style=\"font-weight:normal; color:#303F9F;\">In</span>\n",
    "```python\n",
    "df = pd.read_csv('경기도 여주시_보호수_20220803.csv', encoding='cp949')\n",
    "# 주석을 지우고 이곳에 코드를 작성하세요.\n",
    "```"
   ]
  },
  {
   "cell_type": "code",
   "execution_count": 252,
   "metadata": {},
   "outputs": [
    {
     "data": {
      "text/html": [
       "<div>\n",
       "<style scoped>\n",
       "    .dataframe tbody tr th:only-of-type {\n",
       "        vertical-align: middle;\n",
       "    }\n",
       "\n",
       "    .dataframe tbody tr th {\n",
       "        vertical-align: top;\n",
       "    }\n",
       "\n",
       "    .dataframe thead th {\n",
       "        text-align: right;\n",
       "    }\n",
       "</style>\n",
       "<table border=\"1\" class=\"dataframe\">\n",
       "  <thead>\n",
       "    <tr style=\"text-align: right;\">\n",
       "      <th></th>\n",
       "      <th>나무나이</th>\n",
       "      <th>나무높이</th>\n",
       "      <th>가슴높이둘레</th>\n",
       "      <th>나무갓지름</th>\n",
       "    </tr>\n",
       "  </thead>\n",
       "  <tbody>\n",
       "    <tr>\n",
       "      <th>나무나이</th>\n",
       "      <td>1.000000</td>\n",
       "      <td>0.368000</td>\n",
       "      <td>0.196830</td>\n",
       "      <td>0.551295</td>\n",
       "    </tr>\n",
       "    <tr>\n",
       "      <th>나무높이</th>\n",
       "      <td>0.368000</td>\n",
       "      <td>1.000000</td>\n",
       "      <td>0.285285</td>\n",
       "      <td>0.681745</td>\n",
       "    </tr>\n",
       "    <tr>\n",
       "      <th>가슴높이둘레</th>\n",
       "      <td>0.196830</td>\n",
       "      <td>0.285285</td>\n",
       "      <td>1.000000</td>\n",
       "      <td>0.840712</td>\n",
       "    </tr>\n",
       "    <tr>\n",
       "      <th>나무갓지름</th>\n",
       "      <td>0.551295</td>\n",
       "      <td>0.681745</td>\n",
       "      <td>0.840712</td>\n",
       "      <td>1.000000</td>\n",
       "    </tr>\n",
       "  </tbody>\n",
       "</table>\n",
       "</div>"
      ],
      "text/plain": [
       "            나무나이      나무높이    가슴높이둘레     나무갓지름\n",
       "나무나이    1.000000  0.368000  0.196830  0.551295\n",
       "나무높이    0.368000  1.000000  0.285285  0.681745\n",
       "가슴높이둘레  0.196830  0.285285  1.000000  0.840712\n",
       "나무갓지름   0.551295  0.681745  0.840712  1.000000"
      ]
     },
     "execution_count": 252,
     "metadata": {},
     "output_type": "execute_result"
    }
   ],
   "source": [
    "df = pd.read_csv('경기도 여주시_보호수_20220803.csv', encoding='cp949')\n",
    "df[['나무나이', '나무높이', '가슴높이둘레', '나무갓지름']].corr()"
   ]
  },
  {
   "cell_type": "markdown",
   "metadata": {},
   "source": [
    "#### 047 DataFrame 통계\n",
    "\n",
    "- ```경기도 여주시_보호수_20220803.csv``` 파일을 불러와 ```df``` 변수에 저장하세요.\n",
    "- ```df```의 그루수, 나무나이 컬럼의 합을 출력하세요\n",
    "\n",
    "-------\n",
    "<span style=\"font-weight:normal; color:#303F9F;\">In</span>\n",
    "```python\n",
    "df = pd.read_csv('경기도 여주시_보호수_20220803.csv', encoding='cp949')\n",
    "# 주석을 지우고 이곳에 코드를 작성하세요.\n",
    "```"
   ]
  },
  {
   "cell_type": "code",
   "execution_count": 256,
   "metadata": {
    "scrolled": true
   },
   "outputs": [
    {
     "data": {
      "text/plain": [
       "그루수       215\n",
       "나무나이    52634\n",
       "dtype: int64"
      ]
     },
     "execution_count": 256,
     "metadata": {},
     "output_type": "execute_result"
    }
   ],
   "source": [
    "df = pd.read_csv('경기도 여주시_보호수_20220803.csv', encoding='cp949')\n",
    "df[['그루수', '나무나이']].sum()"
   ]
  },
  {
   "cell_type": "markdown",
   "metadata": {},
   "source": [
    "#### 048 DataFrame 통계\n",
    "\n",
    "- ```경기도 여주시_보호수_20220803.csv``` 파일을 불러와 ```df``` 변수에 저장하세요.\n",
    "- ```df```를 나무종류 순서로 정렬하세요.\n",
    "- 내림차순으로 정렬하세요.\n",
    "- 변경된 데이터를 원본 데이터에 덮어 쓸 수 있는 파라미터를 사용하세요.\n",
    "\n",
    "-------\n",
    "<span style=\"font-weight:normal; color:#303F9F;\">In</span>\n",
    "```python\n",
    "df = pd.read_csv('경기도 여주시_보호수_20220803.csv', encoding='cp949')\n",
    "# 주석을 지우고 이곳에 코드를 작성하세요.\n",
    "df.head()\n",
    "```"
   ]
  },
  {
   "cell_type": "code",
   "execution_count": 283,
   "metadata": {
    "scrolled": true
   },
   "outputs": [
    {
     "data": {
      "text/html": [
       "<div>\n",
       "<style scoped>\n",
       "    .dataframe tbody tr th:only-of-type {\n",
       "        vertical-align: middle;\n",
       "    }\n",
       "\n",
       "    .dataframe tbody tr th {\n",
       "        vertical-align: top;\n",
       "    }\n",
       "\n",
       "    .dataframe thead th {\n",
       "        text-align: right;\n",
       "    }\n",
       "</style>\n",
       "<table border=\"1\" class=\"dataframe\">\n",
       "  <thead>\n",
       "    <tr style=\"text-align: right;\">\n",
       "      <th></th>\n",
       "      <th>관리기관명</th>\n",
       "      <th>지정번호</th>\n",
       "      <th>보호수지정일자</th>\n",
       "      <th>보호수유형명</th>\n",
       "      <th>학명</th>\n",
       "      <th>나무종류</th>\n",
       "      <th>그루수</th>\n",
       "      <th>나무나이</th>\n",
       "      <th>나무높이</th>\n",
       "      <th>가슴높이둘레</th>\n",
       "      <th>나무갓지름</th>\n",
       "      <th>나무품격명</th>\n",
       "      <th>나무지목명</th>\n",
       "      <th>소재지지번주소</th>\n",
       "      <th>위도</th>\n",
       "      <th>경도</th>\n",
       "      <th>데이터기준일자</th>\n",
       "    </tr>\n",
       "  </thead>\n",
       "  <tbody>\n",
       "    <tr>\n",
       "      <th>56</th>\n",
       "      <td>경기도 여주시청</td>\n",
       "      <td>여주-65</td>\n",
       "      <td>1982-10-15</td>\n",
       "      <td>노목</td>\n",
       "      <td>Juniperus chinensis L.</td>\n",
       "      <td>향나무</td>\n",
       "      <td>1</td>\n",
       "      <td>500</td>\n",
       "      <td>7</td>\n",
       "      <td>220.00</td>\n",
       "      <td>0.58</td>\n",
       "      <td>마을나무</td>\n",
       "      <td>종교용지</td>\n",
       "      <td>경기도 여주시 천송동 282</td>\n",
       "      <td>37.297760</td>\n",
       "      <td>127.661310</td>\n",
       "      <td>2022-08-03</td>\n",
       "    </tr>\n",
       "    <tr>\n",
       "      <th>81</th>\n",
       "      <td>경기도 여주시청</td>\n",
       "      <td>여주-65</td>\n",
       "      <td>1982-10-15</td>\n",
       "      <td>노목</td>\n",
       "      <td>NaN</td>\n",
       "      <td>향나무</td>\n",
       "      <td>1</td>\n",
       "      <td>500</td>\n",
       "      <td>7</td>\n",
       "      <td>0.58</td>\n",
       "      <td>NaN</td>\n",
       "      <td>마을나무</td>\n",
       "      <td>종교용지</td>\n",
       "      <td>경기도 여주시 천송동 282</td>\n",
       "      <td>37.297760</td>\n",
       "      <td>127.661310</td>\n",
       "      <td>2021-08-30</td>\n",
       "    </tr>\n",
       "    <tr>\n",
       "      <th>121</th>\n",
       "      <td>경기도 여주시청</td>\n",
       "      <td>여주-18</td>\n",
       "      <td>1982-10-15</td>\n",
       "      <td>노목</td>\n",
       "      <td>NaN</td>\n",
       "      <td>향나무</td>\n",
       "      <td>1</td>\n",
       "      <td>160</td>\n",
       "      <td>7</td>\n",
       "      <td>0.50</td>\n",
       "      <td>NaN</td>\n",
       "      <td>마을나무</td>\n",
       "      <td>대</td>\n",
       "      <td>경기도 여주시 능서면 번도리 321-4</td>\n",
       "      <td>37.306140</td>\n",
       "      <td>127.576640</td>\n",
       "      <td>2021-08-30</td>\n",
       "    </tr>\n",
       "    <tr>\n",
       "      <th>150</th>\n",
       "      <td>경기도 여주시청</td>\n",
       "      <td>여주-67</td>\n",
       "      <td>1982-10-15</td>\n",
       "      <td>노목</td>\n",
       "      <td>NaN</td>\n",
       "      <td>향나무</td>\n",
       "      <td>1</td>\n",
       "      <td>120</td>\n",
       "      <td>7</td>\n",
       "      <td>52.00</td>\n",
       "      <td>NaN</td>\n",
       "      <td>마을나무</td>\n",
       "      <td>대</td>\n",
       "      <td>경기도 여주시 천송동 510-37</td>\n",
       "      <td>37.301251</td>\n",
       "      <td>127.653692</td>\n",
       "      <td>2020-07-17</td>\n",
       "    </tr>\n",
       "    <tr>\n",
       "      <th>73</th>\n",
       "      <td>경기도 여주시청</td>\n",
       "      <td>여주-74</td>\n",
       "      <td>1982-10-15</td>\n",
       "      <td>노목</td>\n",
       "      <td>NaN</td>\n",
       "      <td>향나무</td>\n",
       "      <td>1</td>\n",
       "      <td>150</td>\n",
       "      <td>8</td>\n",
       "      <td>1.50</td>\n",
       "      <td>NaN</td>\n",
       "      <td>마을나무</td>\n",
       "      <td>전</td>\n",
       "      <td>경기도 여주시 현암동 320-2</td>\n",
       "      <td>37.314760</td>\n",
       "      <td>127.636750</td>\n",
       "      <td>2021-08-30</td>\n",
       "    </tr>\n",
       "  </tbody>\n",
       "</table>\n",
       "</div>"
      ],
      "text/plain": [
       "        관리기관명   지정번호     보호수지정일자 보호수유형명                      학명 나무종류  그루수  \\\n",
       "56   경기도 여주시청  여주-65  1982-10-15     노목  Juniperus chinensis L.  향나무    1   \n",
       "81   경기도 여주시청  여주-65  1982-10-15     노목                     NaN  향나무    1   \n",
       "121  경기도 여주시청  여주-18  1982-10-15     노목                     NaN  향나무    1   \n",
       "150  경기도 여주시청  여주-67  1982-10-15     노목                     NaN  향나무    1   \n",
       "73   경기도 여주시청  여주-74  1982-10-15     노목                     NaN  향나무    1   \n",
       "\n",
       "     나무나이  나무높이  가슴높이둘레  나무갓지름 나무품격명 나무지목명                소재지지번주소         위도  \\\n",
       "56    500     7  220.00   0.58  마을나무  종교용지        경기도 여주시 천송동 282  37.297760   \n",
       "81    500     7    0.58    NaN  마을나무  종교용지        경기도 여주시 천송동 282  37.297760   \n",
       "121   160     7    0.50    NaN  마을나무     대  경기도 여주시 능서면 번도리 321-4  37.306140   \n",
       "150   120     7   52.00    NaN  마을나무     대     경기도 여주시 천송동 510-37  37.301251   \n",
       "73    150     8    1.50    NaN  마을나무     전      경기도 여주시 현암동 320-2  37.314760   \n",
       "\n",
       "             경도     데이터기준일자  \n",
       "56   127.661310  2022-08-03  \n",
       "81   127.661310  2021-08-30  \n",
       "121  127.576640  2021-08-30  \n",
       "150  127.653692  2020-07-17  \n",
       "73   127.636750  2021-08-30  "
      ]
     },
     "execution_count": 283,
     "metadata": {},
     "output_type": "execute_result"
    }
   ],
   "source": [
    "df = pd.read_csv('경기도 여주시_보호수_20220803.csv', encoding='cp949')\n",
    "df.sort_values(by='나무종류', axis=0, ascending=False, inplace=True)\n",
    "df.head()"
   ]
  },
  {
   "cell_type": "markdown",
   "metadata": {},
   "source": [
    "#### 049 DataFrame 통계\n",
    "\n",
    "- ```경기도 여주시_보호수_20220803.csv``` 파일을 불러와 ```df``` 변수에 저장하세요.\n",
    "- ```df```를 컬럼의 이름 순서로 정렬하세요.\n",
    "\n",
    "-------\n",
    "<span style=\"font-weight:normal; color:#303F9F;\">In</span>\n",
    "```python\n",
    "df = pd.read_csv('경기도 여주시_보호수_20220803.csv', encoding='cp949')\n",
    "# 주석을 지우고 이곳에 코드를 작성하세요.\n",
    "```"
   ]
  },
  {
   "cell_type": "code",
   "execution_count": 284,
   "metadata": {
    "collapsed": true
   },
   "outputs": [
    {
     "data": {
      "text/html": [
       "<div>\n",
       "<style scoped>\n",
       "    .dataframe tbody tr th:only-of-type {\n",
       "        vertical-align: middle;\n",
       "    }\n",
       "\n",
       "    .dataframe tbody tr th {\n",
       "        vertical-align: top;\n",
       "    }\n",
       "\n",
       "    .dataframe thead th {\n",
       "        text-align: right;\n",
       "    }\n",
       "</style>\n",
       "<table border=\"1\" class=\"dataframe\">\n",
       "  <thead>\n",
       "    <tr style=\"text-align: right;\">\n",
       "      <th></th>\n",
       "      <th>가슴높이둘레</th>\n",
       "      <th>경도</th>\n",
       "      <th>관리기관명</th>\n",
       "      <th>그루수</th>\n",
       "      <th>나무갓지름</th>\n",
       "      <th>나무나이</th>\n",
       "      <th>나무높이</th>\n",
       "      <th>나무종류</th>\n",
       "      <th>나무지목명</th>\n",
       "      <th>나무품격명</th>\n",
       "      <th>데이터기준일자</th>\n",
       "      <th>보호수유형명</th>\n",
       "      <th>보호수지정일자</th>\n",
       "      <th>소재지지번주소</th>\n",
       "      <th>위도</th>\n",
       "      <th>지정번호</th>\n",
       "      <th>학명</th>\n",
       "    </tr>\n",
       "  </thead>\n",
       "  <tbody>\n",
       "    <tr>\n",
       "      <th>0</th>\n",
       "      <td>685.0</td>\n",
       "      <td>127.680500</td>\n",
       "      <td>경기도 여주시청</td>\n",
       "      <td>1</td>\n",
       "      <td>2.08</td>\n",
       "      <td>300</td>\n",
       "      <td>18</td>\n",
       "      <td>느티나무</td>\n",
       "      <td>하천</td>\n",
       "      <td>마을나무</td>\n",
       "      <td>2022-08-03</td>\n",
       "      <td>노목</td>\n",
       "      <td>1982-10-15</td>\n",
       "      <td>경기도 여주시 우만동 233</td>\n",
       "      <td>37.255870</td>\n",
       "      <td>여주-1</td>\n",
       "      <td>Zelkova serrata (Thunb.) Makino</td>\n",
       "    </tr>\n",
       "    <tr>\n",
       "      <th>1</th>\n",
       "      <td>320.0</td>\n",
       "      <td>127.628410</td>\n",
       "      <td>경기도 여주시청</td>\n",
       "      <td>1</td>\n",
       "      <td>1.16</td>\n",
       "      <td>200</td>\n",
       "      <td>20</td>\n",
       "      <td>은행나무</td>\n",
       "      <td>대</td>\n",
       "      <td>마을나무</td>\n",
       "      <td>2022-08-03</td>\n",
       "      <td>노목</td>\n",
       "      <td>1982-10-15</td>\n",
       "      <td>경기도 여주시 교동 261-1</td>\n",
       "      <td>37.289250</td>\n",
       "      <td>여주-2</td>\n",
       "      <td>Ginkgo biloba L.</td>\n",
       "    </tr>\n",
       "    <tr>\n",
       "      <th>2</th>\n",
       "      <td>179.0</td>\n",
       "      <td>127.628160</td>\n",
       "      <td>경기도 여주시청</td>\n",
       "      <td>1</td>\n",
       "      <td>0.44</td>\n",
       "      <td>100</td>\n",
       "      <td>6</td>\n",
       "      <td>향나무</td>\n",
       "      <td>대</td>\n",
       "      <td>마을나무</td>\n",
       "      <td>2022-08-03</td>\n",
       "      <td>노목</td>\n",
       "      <td>1982-10-15</td>\n",
       "      <td>경기도 여주시 교동 261-1</td>\n",
       "      <td>37.289240</td>\n",
       "      <td>여주-4</td>\n",
       "      <td>Juniperus chinensis L.</td>\n",
       "    </tr>\n",
       "    <tr>\n",
       "      <th>3</th>\n",
       "      <td>124.0</td>\n",
       "      <td>127.628070</td>\n",
       "      <td>경기도 여주시청</td>\n",
       "      <td>1</td>\n",
       "      <td>0.33</td>\n",
       "      <td>150</td>\n",
       "      <td>6</td>\n",
       "      <td>향나무</td>\n",
       "      <td>대</td>\n",
       "      <td>마을나무</td>\n",
       "      <td>2022-08-03</td>\n",
       "      <td>노목</td>\n",
       "      <td>1982-10-15</td>\n",
       "      <td>경기도 여주시 교동 261-1</td>\n",
       "      <td>37.289290</td>\n",
       "      <td>여주-5</td>\n",
       "      <td>Juniperus chinensis L.</td>\n",
       "    </tr>\n",
       "    <tr>\n",
       "      <th>4</th>\n",
       "      <td>358.0</td>\n",
       "      <td>127.666180</td>\n",
       "      <td>경기도 여주시청</td>\n",
       "      <td>1</td>\n",
       "      <td>1.00</td>\n",
       "      <td>250</td>\n",
       "      <td>7</td>\n",
       "      <td>향나무</td>\n",
       "      <td>도로</td>\n",
       "      <td>마을나무</td>\n",
       "      <td>2022-08-03</td>\n",
       "      <td>노목</td>\n",
       "      <td>1982-10-15</td>\n",
       "      <td>경기도 여주시 멱곡동 492</td>\n",
       "      <td>37.255370</td>\n",
       "      <td>여주-6</td>\n",
       "      <td>Juniperus chinensis L.</td>\n",
       "    </tr>\n",
       "    <tr>\n",
       "      <th>...</th>\n",
       "      <td>...</td>\n",
       "      <td>...</td>\n",
       "      <td>...</td>\n",
       "      <td>...</td>\n",
       "      <td>...</td>\n",
       "      <td>...</td>\n",
       "      <td>...</td>\n",
       "      <td>...</td>\n",
       "      <td>...</td>\n",
       "      <td>...</td>\n",
       "      <td>...</td>\n",
       "      <td>...</td>\n",
       "      <td>...</td>\n",
       "      <td>...</td>\n",
       "      <td>...</td>\n",
       "      <td>...</td>\n",
       "      <td>...</td>\n",
       "    </tr>\n",
       "    <tr>\n",
       "      <th>204</th>\n",
       "      <td>100.0</td>\n",
       "      <td>127.662394</td>\n",
       "      <td>경기도 여주시청</td>\n",
       "      <td>1</td>\n",
       "      <td>NaN</td>\n",
       "      <td>250</td>\n",
       "      <td>7</td>\n",
       "      <td>향나무</td>\n",
       "      <td>도로</td>\n",
       "      <td>마을나무</td>\n",
       "      <td>2020-07-17</td>\n",
       "      <td>노목</td>\n",
       "      <td>1982-10-15</td>\n",
       "      <td>경기도 여주시 멱곡동 492</td>\n",
       "      <td>37.248255</td>\n",
       "      <td>여주-6</td>\n",
       "      <td>NaN</td>\n",
       "    </tr>\n",
       "    <tr>\n",
       "      <th>205</th>\n",
       "      <td>33.0</td>\n",
       "      <td>127.628319</td>\n",
       "      <td>경기도 여주시청</td>\n",
       "      <td>1</td>\n",
       "      <td>NaN</td>\n",
       "      <td>150</td>\n",
       "      <td>6</td>\n",
       "      <td>향나무</td>\n",
       "      <td>대</td>\n",
       "      <td>마을나무</td>\n",
       "      <td>2020-07-17</td>\n",
       "      <td>노목</td>\n",
       "      <td>1982-10-15</td>\n",
       "      <td>경기도 여주시 교동 261-1</td>\n",
       "      <td>37.289136</td>\n",
       "      <td>여주-5</td>\n",
       "      <td>NaN</td>\n",
       "    </tr>\n",
       "    <tr>\n",
       "      <th>206</th>\n",
       "      <td>44.0</td>\n",
       "      <td>127.628319</td>\n",
       "      <td>경기도 여주시청</td>\n",
       "      <td>1</td>\n",
       "      <td>NaN</td>\n",
       "      <td>100</td>\n",
       "      <td>6</td>\n",
       "      <td>향나무</td>\n",
       "      <td>대</td>\n",
       "      <td>마을나무</td>\n",
       "      <td>2020-07-17</td>\n",
       "      <td>노목</td>\n",
       "      <td>1982-10-15</td>\n",
       "      <td>경기도 여주시 교동 261-1</td>\n",
       "      <td>37.289136</td>\n",
       "      <td>여주-4</td>\n",
       "      <td>NaN</td>\n",
       "    </tr>\n",
       "    <tr>\n",
       "      <th>207</th>\n",
       "      <td>116.0</td>\n",
       "      <td>127.628319</td>\n",
       "      <td>경기도 여주시청</td>\n",
       "      <td>1</td>\n",
       "      <td>NaN</td>\n",
       "      <td>200</td>\n",
       "      <td>20</td>\n",
       "      <td>은행나무</td>\n",
       "      <td>대</td>\n",
       "      <td>마을나무</td>\n",
       "      <td>2020-07-17</td>\n",
       "      <td>노목</td>\n",
       "      <td>1982-10-15</td>\n",
       "      <td>경기도 여주시 교동 261-1</td>\n",
       "      <td>37.289136</td>\n",
       "      <td>여주-2</td>\n",
       "      <td>NaN</td>\n",
       "    </tr>\n",
       "    <tr>\n",
       "      <th>208</th>\n",
       "      <td>208.0</td>\n",
       "      <td>127.033899</td>\n",
       "      <td>경기도 여주시청</td>\n",
       "      <td>1</td>\n",
       "      <td>NaN</td>\n",
       "      <td>300</td>\n",
       "      <td>18</td>\n",
       "      <td>느티나무</td>\n",
       "      <td>하천</td>\n",
       "      <td>마을나무</td>\n",
       "      <td>2020-07-17</td>\n",
       "      <td>노목</td>\n",
       "      <td>1982-10-15</td>\n",
       "      <td>경기도 여주시 우만동 233</td>\n",
       "      <td>37.285344</td>\n",
       "      <td>여주-1</td>\n",
       "      <td>NaN</td>\n",
       "    </tr>\n",
       "  </tbody>\n",
       "</table>\n",
       "<p>209 rows × 17 columns</p>\n",
       "</div>"
      ],
      "text/plain": [
       "     가슴높이둘레          경도     관리기관명  그루수  나무갓지름  나무나이  나무높이  나무종류 나무지목명 나무품격명  \\\n",
       "0     685.0  127.680500  경기도 여주시청    1   2.08   300    18  느티나무    하천  마을나무   \n",
       "1     320.0  127.628410  경기도 여주시청    1   1.16   200    20  은행나무     대  마을나무   \n",
       "2     179.0  127.628160  경기도 여주시청    1   0.44   100     6   향나무     대  마을나무   \n",
       "3     124.0  127.628070  경기도 여주시청    1   0.33   150     6   향나무     대  마을나무   \n",
       "4     358.0  127.666180  경기도 여주시청    1   1.00   250     7   향나무    도로  마을나무   \n",
       "..      ...         ...       ...  ...    ...   ...   ...   ...   ...   ...   \n",
       "204   100.0  127.662394  경기도 여주시청    1    NaN   250     7   향나무    도로  마을나무   \n",
       "205    33.0  127.628319  경기도 여주시청    1    NaN   150     6   향나무     대  마을나무   \n",
       "206    44.0  127.628319  경기도 여주시청    1    NaN   100     6   향나무     대  마을나무   \n",
       "207   116.0  127.628319  경기도 여주시청    1    NaN   200    20  은행나무     대  마을나무   \n",
       "208   208.0  127.033899  경기도 여주시청    1    NaN   300    18  느티나무    하천  마을나무   \n",
       "\n",
       "        데이터기준일자 보호수유형명     보호수지정일자           소재지지번주소         위도  지정번호  \\\n",
       "0    2022-08-03     노목  1982-10-15   경기도 여주시 우만동 233  37.255870  여주-1   \n",
       "1    2022-08-03     노목  1982-10-15  경기도 여주시 교동 261-1  37.289250  여주-2   \n",
       "2    2022-08-03     노목  1982-10-15  경기도 여주시 교동 261-1  37.289240  여주-4   \n",
       "3    2022-08-03     노목  1982-10-15  경기도 여주시 교동 261-1  37.289290  여주-5   \n",
       "4    2022-08-03     노목  1982-10-15   경기도 여주시 멱곡동 492  37.255370  여주-6   \n",
       "..          ...    ...         ...               ...        ...   ...   \n",
       "204  2020-07-17     노목  1982-10-15   경기도 여주시 멱곡동 492  37.248255  여주-6   \n",
       "205  2020-07-17     노목  1982-10-15  경기도 여주시 교동 261-1  37.289136  여주-5   \n",
       "206  2020-07-17     노목  1982-10-15  경기도 여주시 교동 261-1  37.289136  여주-4   \n",
       "207  2020-07-17     노목  1982-10-15  경기도 여주시 교동 261-1  37.289136  여주-2   \n",
       "208  2020-07-17     노목  1982-10-15   경기도 여주시 우만동 233  37.285344  여주-1   \n",
       "\n",
       "                                  학명  \n",
       "0    Zelkova serrata (Thunb.) Makino  \n",
       "1                   Ginkgo biloba L.  \n",
       "2             Juniperus chinensis L.  \n",
       "3             Juniperus chinensis L.  \n",
       "4             Juniperus chinensis L.  \n",
       "..                               ...  \n",
       "204                              NaN  \n",
       "205                              NaN  \n",
       "206                              NaN  \n",
       "207                              NaN  \n",
       "208                              NaN  \n",
       "\n",
       "[209 rows x 17 columns]"
      ]
     },
     "execution_count": 284,
     "metadata": {},
     "output_type": "execute_result"
    }
   ],
   "source": [
    "df = pd.read_csv('경기도 여주시_보호수_20220803.csv', encoding='cp949')\n",
    "df.sort_index(axis=1)"
   ]
  },
  {
   "cell_type": "markdown",
   "metadata": {},
   "source": [
    "#### 050 결측치 처리\n",
    "\n",
    "- ```경기도 여주시_보호수_20220803.csv``` 파일을 불러와 ```df``` 변수에 저장하세요.\n",
    "- ```df```의 컬럼 중 나무갓지름의 빈 데이터가 포함된 곳에 나무갓지름의 평균값을 채워넣으세요.\n",
    "\n",
    "-------\n",
    "<span style=\"font-weight:normal; color:#303F9F;\">In</span>\n",
    "```python\n",
    "# 주석을 지우고 이곳에 코드를 작성하세요.\n",
    "```"
   ]
  },
  {
   "cell_type": "code",
   "execution_count": 360,
   "metadata": {
    "scrolled": true
   },
   "outputs": [
    {
     "data": {
      "text/html": [
       "<div>\n",
       "<style scoped>\n",
       "    .dataframe tbody tr th:only-of-type {\n",
       "        vertical-align: middle;\n",
       "    }\n",
       "\n",
       "    .dataframe tbody tr th {\n",
       "        vertical-align: top;\n",
       "    }\n",
       "\n",
       "    .dataframe thead th {\n",
       "        text-align: right;\n",
       "    }\n",
       "</style>\n",
       "<table border=\"1\" class=\"dataframe\">\n",
       "  <thead>\n",
       "    <tr style=\"text-align: right;\">\n",
       "      <th></th>\n",
       "      <th>관리기관명</th>\n",
       "      <th>지정번호</th>\n",
       "      <th>보호수지정일자</th>\n",
       "      <th>보호수유형명</th>\n",
       "      <th>학명</th>\n",
       "      <th>나무종류</th>\n",
       "      <th>그루수</th>\n",
       "      <th>나무나이</th>\n",
       "      <th>나무높이</th>\n",
       "      <th>가슴높이둘레</th>\n",
       "      <th>나무갓지름</th>\n",
       "      <th>나무품격명</th>\n",
       "      <th>나무지목명</th>\n",
       "      <th>소재지지번주소</th>\n",
       "      <th>위도</th>\n",
       "      <th>경도</th>\n",
       "      <th>데이터기준일자</th>\n",
       "    </tr>\n",
       "  </thead>\n",
       "  <tbody>\n",
       "    <tr>\n",
       "      <th>0</th>\n",
       "      <td>경기도 여주시청</td>\n",
       "      <td>여주-1</td>\n",
       "      <td>1982-10-15</td>\n",
       "      <td>노목</td>\n",
       "      <td>Zelkova serrata (Thunb.) Makino</td>\n",
       "      <td>느티나무</td>\n",
       "      <td>1</td>\n",
       "      <td>300</td>\n",
       "      <td>18</td>\n",
       "      <td>685.0</td>\n",
       "      <td>2.080000</td>\n",
       "      <td>마을나무</td>\n",
       "      <td>하천</td>\n",
       "      <td>경기도 여주시 우만동 233</td>\n",
       "      <td>37.255870</td>\n",
       "      <td>127.680500</td>\n",
       "      <td>2022-08-03</td>\n",
       "    </tr>\n",
       "    <tr>\n",
       "      <th>1</th>\n",
       "      <td>경기도 여주시청</td>\n",
       "      <td>여주-2</td>\n",
       "      <td>1982-10-15</td>\n",
       "      <td>노목</td>\n",
       "      <td>Ginkgo biloba L.</td>\n",
       "      <td>은행나무</td>\n",
       "      <td>1</td>\n",
       "      <td>200</td>\n",
       "      <td>20</td>\n",
       "      <td>320.0</td>\n",
       "      <td>1.160000</td>\n",
       "      <td>마을나무</td>\n",
       "      <td>대</td>\n",
       "      <td>경기도 여주시 교동 261-1</td>\n",
       "      <td>37.289250</td>\n",
       "      <td>127.628410</td>\n",
       "      <td>2022-08-03</td>\n",
       "    </tr>\n",
       "    <tr>\n",
       "      <th>2</th>\n",
       "      <td>경기도 여주시청</td>\n",
       "      <td>여주-4</td>\n",
       "      <td>1982-10-15</td>\n",
       "      <td>노목</td>\n",
       "      <td>Juniperus chinensis L.</td>\n",
       "      <td>향나무</td>\n",
       "      <td>1</td>\n",
       "      <td>100</td>\n",
       "      <td>6</td>\n",
       "      <td>179.0</td>\n",
       "      <td>0.440000</td>\n",
       "      <td>마을나무</td>\n",
       "      <td>대</td>\n",
       "      <td>경기도 여주시 교동 261-1</td>\n",
       "      <td>37.289240</td>\n",
       "      <td>127.628160</td>\n",
       "      <td>2022-08-03</td>\n",
       "    </tr>\n",
       "    <tr>\n",
       "      <th>3</th>\n",
       "      <td>경기도 여주시청</td>\n",
       "      <td>여주-5</td>\n",
       "      <td>1982-10-15</td>\n",
       "      <td>노목</td>\n",
       "      <td>Juniperus chinensis L.</td>\n",
       "      <td>향나무</td>\n",
       "      <td>1</td>\n",
       "      <td>150</td>\n",
       "      <td>6</td>\n",
       "      <td>124.0</td>\n",
       "      <td>0.330000</td>\n",
       "      <td>마을나무</td>\n",
       "      <td>대</td>\n",
       "      <td>경기도 여주시 교동 261-1</td>\n",
       "      <td>37.289290</td>\n",
       "      <td>127.628070</td>\n",
       "      <td>2022-08-03</td>\n",
       "    </tr>\n",
       "    <tr>\n",
       "      <th>4</th>\n",
       "      <td>경기도 여주시청</td>\n",
       "      <td>여주-6</td>\n",
       "      <td>1982-10-15</td>\n",
       "      <td>노목</td>\n",
       "      <td>Juniperus chinensis L.</td>\n",
       "      <td>향나무</td>\n",
       "      <td>1</td>\n",
       "      <td>250</td>\n",
       "      <td>7</td>\n",
       "      <td>358.0</td>\n",
       "      <td>1.000000</td>\n",
       "      <td>마을나무</td>\n",
       "      <td>도로</td>\n",
       "      <td>경기도 여주시 멱곡동 492</td>\n",
       "      <td>37.255370</td>\n",
       "      <td>127.666180</td>\n",
       "      <td>2022-08-03</td>\n",
       "    </tr>\n",
       "    <tr>\n",
       "      <th>...</th>\n",
       "      <td>...</td>\n",
       "      <td>...</td>\n",
       "      <td>...</td>\n",
       "      <td>...</td>\n",
       "      <td>...</td>\n",
       "      <td>...</td>\n",
       "      <td>...</td>\n",
       "      <td>...</td>\n",
       "      <td>...</td>\n",
       "      <td>...</td>\n",
       "      <td>...</td>\n",
       "      <td>...</td>\n",
       "      <td>...</td>\n",
       "      <td>...</td>\n",
       "      <td>...</td>\n",
       "      <td>...</td>\n",
       "      <td>...</td>\n",
       "    </tr>\n",
       "    <tr>\n",
       "      <th>204</th>\n",
       "      <td>경기도 여주시청</td>\n",
       "      <td>여주-6</td>\n",
       "      <td>1982-10-15</td>\n",
       "      <td>노목</td>\n",
       "      <td>NaN</td>\n",
       "      <td>향나무</td>\n",
       "      <td>1</td>\n",
       "      <td>250</td>\n",
       "      <td>7</td>\n",
       "      <td>100.0</td>\n",
       "      <td>1.335441</td>\n",
       "      <td>마을나무</td>\n",
       "      <td>도로</td>\n",
       "      <td>경기도 여주시 멱곡동 492</td>\n",
       "      <td>37.248255</td>\n",
       "      <td>127.662394</td>\n",
       "      <td>2020-07-17</td>\n",
       "    </tr>\n",
       "    <tr>\n",
       "      <th>205</th>\n",
       "      <td>경기도 여주시청</td>\n",
       "      <td>여주-5</td>\n",
       "      <td>1982-10-15</td>\n",
       "      <td>노목</td>\n",
       "      <td>NaN</td>\n",
       "      <td>향나무</td>\n",
       "      <td>1</td>\n",
       "      <td>150</td>\n",
       "      <td>6</td>\n",
       "      <td>33.0</td>\n",
       "      <td>1.335441</td>\n",
       "      <td>마을나무</td>\n",
       "      <td>대</td>\n",
       "      <td>경기도 여주시 교동 261-1</td>\n",
       "      <td>37.289136</td>\n",
       "      <td>127.628319</td>\n",
       "      <td>2020-07-17</td>\n",
       "    </tr>\n",
       "    <tr>\n",
       "      <th>206</th>\n",
       "      <td>경기도 여주시청</td>\n",
       "      <td>여주-4</td>\n",
       "      <td>1982-10-15</td>\n",
       "      <td>노목</td>\n",
       "      <td>NaN</td>\n",
       "      <td>향나무</td>\n",
       "      <td>1</td>\n",
       "      <td>100</td>\n",
       "      <td>6</td>\n",
       "      <td>44.0</td>\n",
       "      <td>1.335441</td>\n",
       "      <td>마을나무</td>\n",
       "      <td>대</td>\n",
       "      <td>경기도 여주시 교동 261-1</td>\n",
       "      <td>37.289136</td>\n",
       "      <td>127.628319</td>\n",
       "      <td>2020-07-17</td>\n",
       "    </tr>\n",
       "    <tr>\n",
       "      <th>207</th>\n",
       "      <td>경기도 여주시청</td>\n",
       "      <td>여주-2</td>\n",
       "      <td>1982-10-15</td>\n",
       "      <td>노목</td>\n",
       "      <td>NaN</td>\n",
       "      <td>은행나무</td>\n",
       "      <td>1</td>\n",
       "      <td>200</td>\n",
       "      <td>20</td>\n",
       "      <td>116.0</td>\n",
       "      <td>1.335441</td>\n",
       "      <td>마을나무</td>\n",
       "      <td>대</td>\n",
       "      <td>경기도 여주시 교동 261-1</td>\n",
       "      <td>37.289136</td>\n",
       "      <td>127.628319</td>\n",
       "      <td>2020-07-17</td>\n",
       "    </tr>\n",
       "    <tr>\n",
       "      <th>208</th>\n",
       "      <td>경기도 여주시청</td>\n",
       "      <td>여주-1</td>\n",
       "      <td>1982-10-15</td>\n",
       "      <td>노목</td>\n",
       "      <td>NaN</td>\n",
       "      <td>느티나무</td>\n",
       "      <td>1</td>\n",
       "      <td>300</td>\n",
       "      <td>18</td>\n",
       "      <td>208.0</td>\n",
       "      <td>1.335441</td>\n",
       "      <td>마을나무</td>\n",
       "      <td>하천</td>\n",
       "      <td>경기도 여주시 우만동 233</td>\n",
       "      <td>37.285344</td>\n",
       "      <td>127.033899</td>\n",
       "      <td>2020-07-17</td>\n",
       "    </tr>\n",
       "  </tbody>\n",
       "</table>\n",
       "<p>209 rows × 17 columns</p>\n",
       "</div>"
      ],
      "text/plain": [
       "        관리기관명  지정번호     보호수지정일자 보호수유형명                               학명  나무종류  \\\n",
       "0    경기도 여주시청  여주-1  1982-10-15     노목  Zelkova serrata (Thunb.) Makino  느티나무   \n",
       "1    경기도 여주시청  여주-2  1982-10-15     노목                 Ginkgo biloba L.  은행나무   \n",
       "2    경기도 여주시청  여주-4  1982-10-15     노목           Juniperus chinensis L.   향나무   \n",
       "3    경기도 여주시청  여주-5  1982-10-15     노목           Juniperus chinensis L.   향나무   \n",
       "4    경기도 여주시청  여주-6  1982-10-15     노목           Juniperus chinensis L.   향나무   \n",
       "..        ...   ...         ...    ...                              ...   ...   \n",
       "204  경기도 여주시청  여주-6  1982-10-15     노목                              NaN   향나무   \n",
       "205  경기도 여주시청  여주-5  1982-10-15     노목                              NaN   향나무   \n",
       "206  경기도 여주시청  여주-4  1982-10-15     노목                              NaN   향나무   \n",
       "207  경기도 여주시청  여주-2  1982-10-15     노목                              NaN  은행나무   \n",
       "208  경기도 여주시청  여주-1  1982-10-15     노목                              NaN  느티나무   \n",
       "\n",
       "     그루수  나무나이  나무높이  가슴높이둘레     나무갓지름 나무품격명 나무지목명           소재지지번주소  \\\n",
       "0      1   300    18   685.0  2.080000  마을나무    하천   경기도 여주시 우만동 233   \n",
       "1      1   200    20   320.0  1.160000  마을나무     대  경기도 여주시 교동 261-1   \n",
       "2      1   100     6   179.0  0.440000  마을나무     대  경기도 여주시 교동 261-1   \n",
       "3      1   150     6   124.0  0.330000  마을나무     대  경기도 여주시 교동 261-1   \n",
       "4      1   250     7   358.0  1.000000  마을나무    도로   경기도 여주시 멱곡동 492   \n",
       "..   ...   ...   ...     ...       ...   ...   ...               ...   \n",
       "204    1   250     7   100.0  1.335441  마을나무    도로   경기도 여주시 멱곡동 492   \n",
       "205    1   150     6    33.0  1.335441  마을나무     대  경기도 여주시 교동 261-1   \n",
       "206    1   100     6    44.0  1.335441  마을나무     대  경기도 여주시 교동 261-1   \n",
       "207    1   200    20   116.0  1.335441  마을나무     대  경기도 여주시 교동 261-1   \n",
       "208    1   300    18   208.0  1.335441  마을나무    하천   경기도 여주시 우만동 233   \n",
       "\n",
       "            위도          경도     데이터기준일자  \n",
       "0    37.255870  127.680500  2022-08-03  \n",
       "1    37.289250  127.628410  2022-08-03  \n",
       "2    37.289240  127.628160  2022-08-03  \n",
       "3    37.289290  127.628070  2022-08-03  \n",
       "4    37.255370  127.666180  2022-08-03  \n",
       "..         ...         ...         ...  \n",
       "204  37.248255  127.662394  2020-07-17  \n",
       "205  37.289136  127.628319  2020-07-17  \n",
       "206  37.289136  127.628319  2020-07-17  \n",
       "207  37.289136  127.628319  2020-07-17  \n",
       "208  37.285344  127.033899  2020-07-17  \n",
       "\n",
       "[209 rows x 17 columns]"
      ]
     },
     "execution_count": 360,
     "metadata": {},
     "output_type": "execute_result"
    }
   ],
   "source": [
    "df = pd.read_csv('경기도 여주시_보호수_20220803.csv', encoding='cp949')\n",
    "df['나무갓지름'].fillna(df['나무갓지름'].mean(), inplace=True)\n",
    "df"
   ]
  },
  {
   "cell_type": "markdown",
   "metadata": {},
   "source": [
    "#### 051 데이터 조회 및 변경\n",
    "\n",
    "- ```경기도 여주시_보호수_20220803.csv``` 파일을 불러와 ```df``` 변수에 저장하세요.\n",
    "- ```df```의 컬럼 중 학명의 빈 데이터가 포함된 알맞는 데이터를 채워 넣으세요.\n",
    "\n",
    "\n",
    "- ```느티나무```의 학명은 ```Zelkova serrata (Thunb.) Makino``` 입니다.\n",
    "- ```물푸레나무```의 학명은 ```Fraxinus rhynchophylla``` 입니다.\n",
    "- ```아까시나무```의 학명은 ```Robinia pseudoacacia``` 입니다.\n",
    "- ```오리나무```의 학명은 ```Alnus japonica (Thunb.) Steudel``` 입니다.\n",
    "- ```은행나무```의 학명은 ```Ginkgo biloba L.``` 입니다.\n",
    "- ```향나무```의 학명은 ```Juniperus chinensis``` 입니다.\n",
    "\n",
    "-------\n",
    "<span style=\"font-weight:normal; color:#303F9F;\">In</span>\n",
    "```python\n",
    "df = pd.read_csv('경기도 여주시_보호수_20220803.csv', encoding='cp949')\n",
    "# 주석을 지우고 이곳에 코드를 작성하세요.\n",
    "df\n",
    "```"
   ]
  },
  {
   "cell_type": "code",
   "execution_count": 359,
   "metadata": {
    "scrolled": true
   },
   "outputs": [
    {
     "data": {
      "text/html": [
       "<div>\n",
       "<style scoped>\n",
       "    .dataframe tbody tr th:only-of-type {\n",
       "        vertical-align: middle;\n",
       "    }\n",
       "\n",
       "    .dataframe tbody tr th {\n",
       "        vertical-align: top;\n",
       "    }\n",
       "\n",
       "    .dataframe thead th {\n",
       "        text-align: right;\n",
       "    }\n",
       "</style>\n",
       "<table border=\"1\" class=\"dataframe\">\n",
       "  <thead>\n",
       "    <tr style=\"text-align: right;\">\n",
       "      <th></th>\n",
       "      <th>관리기관명</th>\n",
       "      <th>지정번호</th>\n",
       "      <th>보호수지정일자</th>\n",
       "      <th>보호수유형명</th>\n",
       "      <th>학명</th>\n",
       "      <th>나무종류</th>\n",
       "      <th>그루수</th>\n",
       "      <th>나무나이</th>\n",
       "      <th>나무높이</th>\n",
       "      <th>가슴높이둘레</th>\n",
       "      <th>나무갓지름</th>\n",
       "      <th>나무품격명</th>\n",
       "      <th>나무지목명</th>\n",
       "      <th>소재지지번주소</th>\n",
       "      <th>위도</th>\n",
       "      <th>경도</th>\n",
       "      <th>데이터기준일자</th>\n",
       "    </tr>\n",
       "  </thead>\n",
       "  <tbody>\n",
       "    <tr>\n",
       "      <th>0</th>\n",
       "      <td>경기도 여주시청</td>\n",
       "      <td>여주-1</td>\n",
       "      <td>1982-10-15</td>\n",
       "      <td>노목</td>\n",
       "      <td>Zelkova serrata (Thunb.) Makino</td>\n",
       "      <td>느티나무</td>\n",
       "      <td>1</td>\n",
       "      <td>300</td>\n",
       "      <td>18</td>\n",
       "      <td>685.0</td>\n",
       "      <td>2.08</td>\n",
       "      <td>마을나무</td>\n",
       "      <td>하천</td>\n",
       "      <td>경기도 여주시 우만동 233</td>\n",
       "      <td>37.255870</td>\n",
       "      <td>127.680500</td>\n",
       "      <td>2022-08-03</td>\n",
       "    </tr>\n",
       "    <tr>\n",
       "      <th>1</th>\n",
       "      <td>경기도 여주시청</td>\n",
       "      <td>여주-2</td>\n",
       "      <td>1982-10-15</td>\n",
       "      <td>노목</td>\n",
       "      <td>Ginkgo biloba L.</td>\n",
       "      <td>은행나무</td>\n",
       "      <td>1</td>\n",
       "      <td>200</td>\n",
       "      <td>20</td>\n",
       "      <td>320.0</td>\n",
       "      <td>1.16</td>\n",
       "      <td>마을나무</td>\n",
       "      <td>대</td>\n",
       "      <td>경기도 여주시 교동 261-1</td>\n",
       "      <td>37.289250</td>\n",
       "      <td>127.628410</td>\n",
       "      <td>2022-08-03</td>\n",
       "    </tr>\n",
       "    <tr>\n",
       "      <th>2</th>\n",
       "      <td>경기도 여주시청</td>\n",
       "      <td>여주-4</td>\n",
       "      <td>1982-10-15</td>\n",
       "      <td>노목</td>\n",
       "      <td>Juniperus chinensis</td>\n",
       "      <td>향나무</td>\n",
       "      <td>1</td>\n",
       "      <td>100</td>\n",
       "      <td>6</td>\n",
       "      <td>179.0</td>\n",
       "      <td>0.44</td>\n",
       "      <td>마을나무</td>\n",
       "      <td>대</td>\n",
       "      <td>경기도 여주시 교동 261-1</td>\n",
       "      <td>37.289240</td>\n",
       "      <td>127.628160</td>\n",
       "      <td>2022-08-03</td>\n",
       "    </tr>\n",
       "    <tr>\n",
       "      <th>3</th>\n",
       "      <td>경기도 여주시청</td>\n",
       "      <td>여주-5</td>\n",
       "      <td>1982-10-15</td>\n",
       "      <td>노목</td>\n",
       "      <td>Juniperus chinensis</td>\n",
       "      <td>향나무</td>\n",
       "      <td>1</td>\n",
       "      <td>150</td>\n",
       "      <td>6</td>\n",
       "      <td>124.0</td>\n",
       "      <td>0.33</td>\n",
       "      <td>마을나무</td>\n",
       "      <td>대</td>\n",
       "      <td>경기도 여주시 교동 261-1</td>\n",
       "      <td>37.289290</td>\n",
       "      <td>127.628070</td>\n",
       "      <td>2022-08-03</td>\n",
       "    </tr>\n",
       "    <tr>\n",
       "      <th>4</th>\n",
       "      <td>경기도 여주시청</td>\n",
       "      <td>여주-6</td>\n",
       "      <td>1982-10-15</td>\n",
       "      <td>노목</td>\n",
       "      <td>Juniperus chinensis</td>\n",
       "      <td>향나무</td>\n",
       "      <td>1</td>\n",
       "      <td>250</td>\n",
       "      <td>7</td>\n",
       "      <td>358.0</td>\n",
       "      <td>1.00</td>\n",
       "      <td>마을나무</td>\n",
       "      <td>도로</td>\n",
       "      <td>경기도 여주시 멱곡동 492</td>\n",
       "      <td>37.255370</td>\n",
       "      <td>127.666180</td>\n",
       "      <td>2022-08-03</td>\n",
       "    </tr>\n",
       "    <tr>\n",
       "      <th>...</th>\n",
       "      <td>...</td>\n",
       "      <td>...</td>\n",
       "      <td>...</td>\n",
       "      <td>...</td>\n",
       "      <td>...</td>\n",
       "      <td>...</td>\n",
       "      <td>...</td>\n",
       "      <td>...</td>\n",
       "      <td>...</td>\n",
       "      <td>...</td>\n",
       "      <td>...</td>\n",
       "      <td>...</td>\n",
       "      <td>...</td>\n",
       "      <td>...</td>\n",
       "      <td>...</td>\n",
       "      <td>...</td>\n",
       "      <td>...</td>\n",
       "    </tr>\n",
       "    <tr>\n",
       "      <th>204</th>\n",
       "      <td>경기도 여주시청</td>\n",
       "      <td>여주-6</td>\n",
       "      <td>1982-10-15</td>\n",
       "      <td>노목</td>\n",
       "      <td>Juniperus chinensis</td>\n",
       "      <td>향나무</td>\n",
       "      <td>1</td>\n",
       "      <td>250</td>\n",
       "      <td>7</td>\n",
       "      <td>100.0</td>\n",
       "      <td>NaN</td>\n",
       "      <td>마을나무</td>\n",
       "      <td>도로</td>\n",
       "      <td>경기도 여주시 멱곡동 492</td>\n",
       "      <td>37.248255</td>\n",
       "      <td>127.662394</td>\n",
       "      <td>2020-07-17</td>\n",
       "    </tr>\n",
       "    <tr>\n",
       "      <th>205</th>\n",
       "      <td>경기도 여주시청</td>\n",
       "      <td>여주-5</td>\n",
       "      <td>1982-10-15</td>\n",
       "      <td>노목</td>\n",
       "      <td>Juniperus chinensis</td>\n",
       "      <td>향나무</td>\n",
       "      <td>1</td>\n",
       "      <td>150</td>\n",
       "      <td>6</td>\n",
       "      <td>33.0</td>\n",
       "      <td>NaN</td>\n",
       "      <td>마을나무</td>\n",
       "      <td>대</td>\n",
       "      <td>경기도 여주시 교동 261-1</td>\n",
       "      <td>37.289136</td>\n",
       "      <td>127.628319</td>\n",
       "      <td>2020-07-17</td>\n",
       "    </tr>\n",
       "    <tr>\n",
       "      <th>206</th>\n",
       "      <td>경기도 여주시청</td>\n",
       "      <td>여주-4</td>\n",
       "      <td>1982-10-15</td>\n",
       "      <td>노목</td>\n",
       "      <td>Juniperus chinensis</td>\n",
       "      <td>향나무</td>\n",
       "      <td>1</td>\n",
       "      <td>100</td>\n",
       "      <td>6</td>\n",
       "      <td>44.0</td>\n",
       "      <td>NaN</td>\n",
       "      <td>마을나무</td>\n",
       "      <td>대</td>\n",
       "      <td>경기도 여주시 교동 261-1</td>\n",
       "      <td>37.289136</td>\n",
       "      <td>127.628319</td>\n",
       "      <td>2020-07-17</td>\n",
       "    </tr>\n",
       "    <tr>\n",
       "      <th>207</th>\n",
       "      <td>경기도 여주시청</td>\n",
       "      <td>여주-2</td>\n",
       "      <td>1982-10-15</td>\n",
       "      <td>노목</td>\n",
       "      <td>Ginkgo biloba L.</td>\n",
       "      <td>은행나무</td>\n",
       "      <td>1</td>\n",
       "      <td>200</td>\n",
       "      <td>20</td>\n",
       "      <td>116.0</td>\n",
       "      <td>NaN</td>\n",
       "      <td>마을나무</td>\n",
       "      <td>대</td>\n",
       "      <td>경기도 여주시 교동 261-1</td>\n",
       "      <td>37.289136</td>\n",
       "      <td>127.628319</td>\n",
       "      <td>2020-07-17</td>\n",
       "    </tr>\n",
       "    <tr>\n",
       "      <th>208</th>\n",
       "      <td>경기도 여주시청</td>\n",
       "      <td>여주-1</td>\n",
       "      <td>1982-10-15</td>\n",
       "      <td>노목</td>\n",
       "      <td>Zelkova serrata (Thunb.) Makino</td>\n",
       "      <td>느티나무</td>\n",
       "      <td>1</td>\n",
       "      <td>300</td>\n",
       "      <td>18</td>\n",
       "      <td>208.0</td>\n",
       "      <td>NaN</td>\n",
       "      <td>마을나무</td>\n",
       "      <td>하천</td>\n",
       "      <td>경기도 여주시 우만동 233</td>\n",
       "      <td>37.285344</td>\n",
       "      <td>127.033899</td>\n",
       "      <td>2020-07-17</td>\n",
       "    </tr>\n",
       "  </tbody>\n",
       "</table>\n",
       "<p>209 rows × 17 columns</p>\n",
       "</div>"
      ],
      "text/plain": [
       "        관리기관명  지정번호     보호수지정일자 보호수유형명                               학명  나무종류  \\\n",
       "0    경기도 여주시청  여주-1  1982-10-15     노목  Zelkova serrata (Thunb.) Makino  느티나무   \n",
       "1    경기도 여주시청  여주-2  1982-10-15     노목                 Ginkgo biloba L.  은행나무   \n",
       "2    경기도 여주시청  여주-4  1982-10-15     노목              Juniperus chinensis   향나무   \n",
       "3    경기도 여주시청  여주-5  1982-10-15     노목              Juniperus chinensis   향나무   \n",
       "4    경기도 여주시청  여주-6  1982-10-15     노목              Juniperus chinensis   향나무   \n",
       "..        ...   ...         ...    ...                              ...   ...   \n",
       "204  경기도 여주시청  여주-6  1982-10-15     노목              Juniperus chinensis   향나무   \n",
       "205  경기도 여주시청  여주-5  1982-10-15     노목              Juniperus chinensis   향나무   \n",
       "206  경기도 여주시청  여주-4  1982-10-15     노목              Juniperus chinensis   향나무   \n",
       "207  경기도 여주시청  여주-2  1982-10-15     노목                 Ginkgo biloba L.  은행나무   \n",
       "208  경기도 여주시청  여주-1  1982-10-15     노목  Zelkova serrata (Thunb.) Makino  느티나무   \n",
       "\n",
       "     그루수  나무나이  나무높이  가슴높이둘레  나무갓지름 나무품격명 나무지목명           소재지지번주소         위도  \\\n",
       "0      1   300    18   685.0   2.08  마을나무    하천   경기도 여주시 우만동 233  37.255870   \n",
       "1      1   200    20   320.0   1.16  마을나무     대  경기도 여주시 교동 261-1  37.289250   \n",
       "2      1   100     6   179.0   0.44  마을나무     대  경기도 여주시 교동 261-1  37.289240   \n",
       "3      1   150     6   124.0   0.33  마을나무     대  경기도 여주시 교동 261-1  37.289290   \n",
       "4      1   250     7   358.0   1.00  마을나무    도로   경기도 여주시 멱곡동 492  37.255370   \n",
       "..   ...   ...   ...     ...    ...   ...   ...               ...        ...   \n",
       "204    1   250     7   100.0    NaN  마을나무    도로   경기도 여주시 멱곡동 492  37.248255   \n",
       "205    1   150     6    33.0    NaN  마을나무     대  경기도 여주시 교동 261-1  37.289136   \n",
       "206    1   100     6    44.0    NaN  마을나무     대  경기도 여주시 교동 261-1  37.289136   \n",
       "207    1   200    20   116.0    NaN  마을나무     대  경기도 여주시 교동 261-1  37.289136   \n",
       "208    1   300    18   208.0    NaN  마을나무    하천   경기도 여주시 우만동 233  37.285344   \n",
       "\n",
       "             경도     데이터기준일자  \n",
       "0    127.680500  2022-08-03  \n",
       "1    127.628410  2022-08-03  \n",
       "2    127.628160  2022-08-03  \n",
       "3    127.628070  2022-08-03  \n",
       "4    127.666180  2022-08-03  \n",
       "..          ...         ...  \n",
       "204  127.662394  2020-07-17  \n",
       "205  127.628319  2020-07-17  \n",
       "206  127.628319  2020-07-17  \n",
       "207  127.628319  2020-07-17  \n",
       "208  127.033899  2020-07-17  \n",
       "\n",
       "[209 rows x 17 columns]"
      ]
     },
     "execution_count": 359,
     "metadata": {},
     "output_type": "execute_result"
    }
   ],
   "source": [
    "df = pd.read_csv('경기도 여주시_보호수_20220803.csv', encoding='cp949')\n",
    "df.loc[df['나무종류']=='느티나무', '학명'] = 'Zelkova serrata (Thunb.) Makino'\n",
    "df.loc[df['나무종류']=='물푸레나무', '학명'] = 'Fraxinus rhynchophylla'\n",
    "df.loc[df['나무종류']=='아까시나무', '학명'] = 'Robinia pseudoacacia'\n",
    "df.loc[df['나무종류']=='오리나무', '학명'] = 'Alnus japonica (Thunb.) Steudel'\n",
    "df.loc[df['나무종류']=='은행나무', '학명'] = 'Ginkgo biloba L.'\n",
    "df.loc[df['나무종류']=='향나무', '학명'] = 'Juniperus chinensis'\n",
    "df"
   ]
  }
 ],
 "metadata": {
  "kernelspec": {
   "display_name": "Python 3 (ipykernel)",
   "language": "python",
   "name": "python3"
  },
  "language_info": {
   "codemirror_mode": {
    "name": "ipython",
    "version": 3
   },
   "file_extension": ".py",
   "mimetype": "text/x-python",
   "name": "python",
   "nbconvert_exporter": "python",
   "pygments_lexer": "ipython3",
   "version": "3.9.13"
  }
 },
 "nbformat": 4,
 "nbformat_minor": 2
}
