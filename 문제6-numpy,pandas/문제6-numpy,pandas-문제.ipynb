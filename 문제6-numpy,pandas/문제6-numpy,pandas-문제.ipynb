{
 "cells": [
  {
   "cell_type": "markdown",
   "metadata": {},
   "source": [
    "# 1. numpy"
   ]
  },
  {
   "cell_type": "markdown",
   "metadata": {},
   "source": [
    "## 1-1. 배열 및 명령어"
   ]
  },
  {
   "cell_type": "markdown",
   "metadata": {},
   "source": [
    "#### 000 numpy 모듈 불러오기 및 버전 확인\n",
    "\n",
    "- numpy 모듈을 불러오고 버전을 확인해보세요.\n",
    "- numpy 모듈을 np로 줄여 사용할 수 있도록 작성하세요."
   ]
  },
  {
   "cell_type": "code",
   "execution_count": 4,
   "metadata": {},
   "outputs": [
    {
     "data": {
      "text/plain": [
       "'1.21.5'"
      ]
     },
     "execution_count": 4,
     "metadata": {},
     "output_type": "execute_result"
    }
   ],
   "source": [
    "import numpy as np\n",
    "np.__version__"
   ]
  },
  {
   "cell_type": "markdown",
   "metadata": {},
   "source": [
    "#### 001 타입 확인\n",
    "\n",
    "- 다음 ```data```변수의 타입을 확인하세요.\n",
    "\n",
    "-------\n",
    "<span style=\"font-weight:normal; color:#303F9F;\">In</span>\n",
    "```python\n",
    "data = np.array([1, 2, 3])\n",
    "# 주석을 지우고 이곳에 코드를 작성하세요.\n",
    "```\n",
    "-------\n",
    "<span style=\"font-weight:normal; color:red;\">Out</span>\n",
    "```\n",
    "numpy.ndarray\n",
    "```"
   ]
  },
  {
   "cell_type": "code",
   "execution_count": null,
   "metadata": {},
   "outputs": [],
   "source": [
    "data = np.array([1, 2, 3])\n",
    "# 주석을 지우고 이곳에 코드를 작성하세요."
   ]
  },
  {
   "cell_type": "markdown",
   "metadata": {},
   "source": [
    "#### 002 배열생성\n",
    "\n",
    "- data 변수를 생성하고 아래의 출력과 같은 값이 나오도록 배열을 생성하세요.\n",
    "\n",
    "-------\n",
    "<span style=\"font-weight:normal; color:#303F9F;\">In</span>\n",
    "```python\n",
    "# 주석을 지우고 이곳에 코드를 작성하세요.\n",
    "data\n",
    "```\n",
    "-------\n",
    "<span style=\"font-weight:normal; color:red;\">Out</span>\n",
    "```\n",
    "array([3, 1, 7, 9])\n",
    "```"
   ]
  },
  {
   "cell_type": "code",
   "execution_count": null,
   "metadata": {},
   "outputs": [],
   "source": [
    "# 주석을 지우고 이곳에 코드를 작성하세요.\n",
    "data"
   ]
  },
  {
   "cell_type": "markdown",
   "metadata": {},
   "source": [
    "#### 003 배열생성\n",
    "\n",
    "- ```data1``` 변수를 생성하고 다음의 출력과 같은 값이 나오도록 배열을 생성하세요.\n",
    "\n",
    "-------\n",
    "<span style=\"font-weight:normal; color:#303F9F;\">In</span>\n",
    "```python\n",
    "# 주석을 지우고 이곳에 코드를 작성하세요.\n",
    "data1\n",
    "```\n",
    "-------\n",
    "<span style=\"font-weight:normal; color:red;\">Out</span>\n",
    "```\n",
    "array([[3.5 , 4.31, 1.12],\n",
    "       [9.  , 1.  , 3.  ]])\n",
    "```"
   ]
  },
  {
   "cell_type": "code",
   "execution_count": null,
   "metadata": {},
   "outputs": [],
   "source": [
    "# 주석을 지우고 이곳에 코드를 작성하세요.\n",
    "data1"
   ]
  },
  {
   "cell_type": "markdown",
   "metadata": {},
   "source": [
    "#### 004 차원 확인(ndim)\n",
    "\n",
    "- ```data1```과 ```data2```가 각각 몇 차원인지 예상해보고 확인하세요.\n",
    "\n",
    "-------\n",
    "<span style=\"font-weight:normal; color:#303F9F;\">In</span>\n",
    "```python\n",
    "data1 = np.array([3, 1, 7, 9])\n",
    "data2 = np.array([[3.5, 4.31, 1.12], [9, 1, 3]])\n",
    "\n",
    "print(data1) # 주석을 지우고 print 안에 코드를 작성하세요.\n",
    "print(data2) # 주석을 지우고 print 안에 코드를 작성하세요.\n",
    "```"
   ]
  },
  {
   "cell_type": "code",
   "execution_count": null,
   "metadata": {},
   "outputs": [],
   "source": [
    "data1 = np.array([3, 1, 7, 9])\n",
    "data2 = np.array([[3.5, 4.31, 1.12], [9, 1, 3]])\n",
    "\n",
    "print(data1) # 주석을 지우고 print 안에 코드를 작성하세요.\n",
    "print(data2) # 주석을 지우고 print 안에 코드를 작성하세요."
   ]
  },
  {
   "cell_type": "markdown",
   "metadata": {},
   "source": [
    "#### 005 차원 구조 확인(shape)\n",
    "\n",
    "- ```data1```과 ```data2```의 차원 구조가 어떨지 예상해보고 확인하세요.\n",
    "\n",
    "-------\n",
    "<span style=\"font-weight:normal; color:#303F9F;\">In</span>\n",
    "```python\n",
    "data1 = np.array([3, 1, 7, 9])\n",
    "data2 = np.array([[3.5, 4.31, 1.12], [9, 1, 3]])\n",
    "\n",
    "print(data1) # 주석을 지우고 print 안에 코드를 작성하세요.\n",
    "print(data2) # 주석을 지우고 print 안에 코드를 작성하세요.\n",
    "```"
   ]
  },
  {
   "cell_type": "code",
   "execution_count": null,
   "metadata": {},
   "outputs": [],
   "source": [
    "data1 = np.array([3, 1, 7, 9])\n",
    "data2 = np.array([[3.5, 4.31, 1.12], [9, 1, 3]])\n",
    "\n",
    "print(data1) # 주석을 지우고 print 안에 코드를 작성하세요.\n",
    "print(data2) # 주석을 지우고 print 안에 코드를 작성하세요."
   ]
  },
  {
   "cell_type": "markdown",
   "metadata": {},
   "source": [
    "#### 006 데이터 타입 확인(dtype)\n",
    "\n",
    "- ```data1```과 ```data2```의 데이터 타입을 예상해보고 확인하세요.\n",
    "\n",
    "-------\n",
    "<span style=\"font-weight:normal; color:#303F9F;\">In</span>\n",
    "```python\n",
    "data1 = np.array([3, 1, 7, 9])\n",
    "data2 = np.array([[3.5, 4.31, 1.12], [9, 1, 3]])\n",
    "\n",
    "print(data1) # 주석을 지우고 print 안에 코드를 작성하세요.\n",
    "print(data2) # 주석을 지우고 print 안에 코드를 작성하세요.\n",
    "```"
   ]
  },
  {
   "cell_type": "code",
   "execution_count": null,
   "metadata": {},
   "outputs": [],
   "source": [
    "data1 = np.array([3, 1, 7, 9])\n",
    "data2 = np.array([[3.5, 4.31, 1.12], [9, 1, 3]])\n",
    "\n",
    "print(data1) # 주석을 지우고 print 안에 코드를 작성하세요.\n",
    "print(data2) # 주석을 지우고 print 안에 코드를 작성하세요."
   ]
  },
  {
   "cell_type": "markdown",
   "metadata": {},
   "source": [
    "#### 007 데이터 개수 확인(size)\n",
    "\n",
    "- ```data1```과 ```data2```의 데이터 개수를 예상해보고 확인하세요.\n",
    "\n",
    "-------\n",
    "<span style=\"font-weight:normal; color:#303F9F;\">In</span>\n",
    "```python\n",
    "data1 = np.array([3, 1, 7, 9])\n",
    "data2 = np.array([[3.5, 4.31, 1.12], [9, 1, 3]])\n",
    "\n",
    "print(data1) # 주석을 지우고 print 안에 코드를 작성하세요.\n",
    "print(data2) # 주석을 지우고 print 안에 코드를 작성하세요.\n",
    "```"
   ]
  },
  {
   "cell_type": "code",
   "execution_count": null,
   "metadata": {},
   "outputs": [],
   "source": [
    "data1 = np.array([3, 1, 7, 9])\n",
    "data2 = np.array([[3.5, 4.31, 1.12], [9, 1, 3]])\n",
    "\n",
    "print(data1) # 주석을 지우고 print 안에 코드를 작성하세요.\n",
    "print(data2) # 주석을 지우고 print 안에 코드를 작성하세요."
   ]
  },
  {
   "cell_type": "markdown",
   "metadata": {},
   "source": [
    "#### 008 데이터 타입 지정(dtype)\n",
    "\n",
    "- ```dtype```이 ```int32```인 ```data```의 타입을 ```float64```로 변경하세요.\n",
    "\n",
    "-------\n",
    "<span style=\"font-weight:normal; color:#303F9F;\">In</span>\n",
    "```python\n",
    "data = np.array([3, 1, 7, 9])\n",
    "print(data.dtype)\n",
    "new_data =  # 주석을 지우고 이곳에 코드를 작성하세요.\n",
    "print(new_data.dtype)\n",
    "```\n",
    "-------\n",
    "<span style=\"font-weight:normal; color:orange;\">Print</span>\n",
    "```\n",
    "int32\n",
    "float64\n",
    "```"
   ]
  },
  {
   "cell_type": "code",
   "execution_count": null,
   "metadata": {},
   "outputs": [],
   "source": [
    "data = np.array([3, 1, 7, 9])\n",
    "print(data.dtype)\n",
    "new_data =  # 주석을 지우고 이곳에 코드를 작성하세요.\n",
    "print(new_data.dtype)"
   ]
  },
  {
   "cell_type": "markdown",
   "metadata": {},
   "source": [
    "#### 009 행·열의 교환, 전치(Transpose)\n",
    "\n",
    "- ```data```의 행과 열을 교환하세요.\n",
    "\n",
    "-------\n",
    "<span style=\"font-weight:normal; color:#303F9F;\">In</span>\n",
    "```python\n",
    "data = np.array([[3., 4., 1., 5.], [9., 1., 3., 2.]])\n",
    "print(data) # 주석을 지우고 print 안에 코드를 작성하세요.\n",
    "```\n",
    "-------\n",
    "<span style=\"font-weight:normal; color:orange;\">Print</span>\n",
    "```\n",
    "[[3. 9.]\n",
    " [4. 1.]\n",
    " [1. 3.]\n",
    " [5. 2.]]\n",
    "```"
   ]
  },
  {
   "cell_type": "code",
   "execution_count": null,
   "metadata": {},
   "outputs": [],
   "source": [
    "data = np.array([[3., 4., 1., 5.], [9., 1., 3., 2.]])\n",
    "print(data) # 주석을 지우고 print 안에 코드를 작성하세요."
   ]
  },
  {
   "cell_type": "markdown",
   "metadata": {},
   "source": [
    "#### 010 형태 변경(reshape)\n",
    "\n",
    "- ```data```의 데이터 형태를 보기의 출력값처럼 변경하세요.\n",
    "\n",
    "-------\n",
    "<span style=\"font-weight:normal; color:#303F9F;\">In</span>\n",
    "```python\n",
    "data = np.array([[3., 4., 1., 5.], [9., 1., 3., 2.]])\n",
    "print(data) # 주석을 지우고 print 안에 코드를 작성하세요.\n",
    "```\n",
    "-------\n",
    "<span style=\"font-weight:normal; color:orange;\">Print</span>\n",
    "```\n",
    "[[3.]\n",
    " [4.]\n",
    " [1.]\n",
    " [5.]\n",
    " [9.]\n",
    " [1.]\n",
    " [3.]\n",
    " [2.]]\n",
    "```"
   ]
  },
  {
   "cell_type": "code",
   "execution_count": null,
   "metadata": {},
   "outputs": [],
   "source": [
    "data = np.array([[3., 4., 1., 5.], [9., 1., 3., 2.]])\n",
    "print(data.reshape(8, 1)) # 주석을 지우고 print 안에 코드를 작성하세요."
   ]
  },
  {
   "cell_type": "markdown",
   "metadata": {},
   "source": [
    "#### 011 데이터 생성(arange)\n",
    "\n",
    "- ```arange```를 사용하여 보기와 같은 데이터를 생성하세요.\n",
    "\n",
    "-------\n",
    "<span style=\"font-weight:normal; color:#303F9F;\">In</span>\n",
    "```python\n",
    "data1 = # 주석을 지우고 이곳에 코드를 작성하세요.\n",
    "data2 = # 주석을 지우고 이곳에 코드를 작성하세요.\n",
    "print(data1)\n",
    "print(data2)\n",
    "```\n",
    "-------\n",
    "<span style=\"font-weight:normal; color:orange;\">Print</span>\n",
    "```\n",
    "[0 1 2 3 4]\n",
    "[0 2 4 6 8]\n",
    "```"
   ]
  },
  {
   "cell_type": "code",
   "execution_count": null,
   "metadata": {},
   "outputs": [],
   "source": [
    "data1 = # 주석을 지우고 이곳에 코드를 작성하세요.\n",
    "data2 = # 주석을 지우고 이곳에 코드를 작성하세요.\n",
    "print(data1)\n",
    "print(data2)"
   ]
  },
  {
   "cell_type": "markdown",
   "metadata": {},
   "source": [
    "#### 012 데이터 생성(linspace)\n",
    "\n",
    "- ```linspace```를 사용하여 보기와 같은 데이터를 생성하세요.\n",
    "\n",
    "-------\n",
    "<span style=\"font-weight:normal; color:#303F9F;\">In</span>\n",
    "```python\n",
    "data1 = # 주석을 지우고 이곳에 코드를 작성하세요.\n",
    "data2 = # 주석을 지우고 이곳에 코드를 작성하세요.\n",
    "print(data1)\n",
    "print(data2)\n",
    "```\n",
    "-------\n",
    "<span style=\"font-weight:normal; color:orange;\">Print</span>\n",
    "```\n",
    "[10.  5.  0.]\n",
    "[  0.  25.  50.  75. 100.]\n",
    "```"
   ]
  },
  {
   "cell_type": "code",
   "execution_count": null,
   "metadata": {},
   "outputs": [],
   "source": [
    "data1 = # 주석을 지우고 이곳에 코드를 작성하세요.\n",
    "data2 = # 주석을 지우고 이곳에 코드를 작성하세요.\n",
    "print(data1)\n",
    "print(data2)"
   ]
  },
  {
   "cell_type": "markdown",
   "metadata": {},
   "source": [
    "#### 013 데이터 생성(eye)\n",
    "\n",
    "- ```eye```를 사용하여 보기와 같은 데이터를 생성하세요.\n",
    "\n",
    "-------\n",
    "<span style=\"font-weight:normal; color:#303F9F;\">In</span>\n",
    "```python\n",
    "data1 = # 주석을 지우고 이곳에 코드를 작성하세요.\n",
    "data2 = # 주석을 지우고 이곳에 코드를 작성하세요.\n",
    "print(data1)\n",
    "print(data2)\n",
    "```\n",
    "-------\n",
    "<span style=\"font-weight:normal; color:orange;\">Print</span>\n",
    "```\n",
    "[[1. 0. 0.]\n",
    " [0. 1. 0.]\n",
    " [0. 0. 1.]]\n",
    "[[1 0 0]\n",
    " [0 1 0]\n",
    " [0 0 1]]\n",
    "```"
   ]
  },
  {
   "cell_type": "code",
   "execution_count": null,
   "metadata": {},
   "outputs": [],
   "source": [
    "data1 = # 주석을 지우고 이곳에 코드를 작성하세요.\n",
    "data2 = # 주석을 지우고 이곳에 코드를 작성하세요.\n",
    "print(data1)\n",
    "print(data2)"
   ]
  },
  {
   "cell_type": "markdown",
   "metadata": {},
   "source": [
    "#### 014 데이터 생성(zeros, ones)\n",
    "\n",
    "- ```zeros```와 ```ones```를 사용하여 보기와 같은 데이터를 생성하세요.\n",
    "\n",
    "-------\n",
    "<span style=\"font-weight:normal; color:#303F9F;\">In</span>\n",
    "```python\n",
    "data1 = # 주석을 지우고 이곳에 코드를 작성하세요.\n",
    "data2 = # 주석을 지우고 이곳에 코드를 작성하세요.\n",
    "print(data1)\n",
    "print(data2)\n",
    "```\n",
    "-------\n",
    "<span style=\"font-weight:normal; color:orange;\">Print</span>\n",
    "```\n",
    "[0. 0. 0. 0. 0.]\n",
    "[[1. 1.]\n",
    " [1. 1.]\n",
    " [1. 1.]]\n",
    "```"
   ]
  },
  {
   "cell_type": "code",
   "execution_count": null,
   "metadata": {},
   "outputs": [],
   "source": [
    "data1 = # 주석을 지우고 이곳에 코드를 작성하세요.\n",
    "data2 = # 주석을 지우고 이곳에 코드를 작성하세요.\n",
    "print(data1)\n",
    "print(data2)"
   ]
  },
  {
   "cell_type": "markdown",
   "metadata": {},
   "source": [
    "#### 015 데이터 생성(full)\n",
    "\n",
    "- ```full```을 사용하여 보기와 같은 데이터를 생성하세요.\n",
    "\n",
    "-------\n",
    "<span style=\"font-weight:normal; color:#303F9F;\">In</span>\n",
    "```python\n",
    "data = # 주석을 지우고 이곳에 코드를 작성하세요.\n",
    "print(data)\n",
    "```\n",
    "-------\n",
    "<span style=\"font-weight:normal; color:orange;\">Print</span>\n",
    "```\n",
    "[[5 5 5 5]\n",
    " [5 5 5 5]]\n",
    "```"
   ]
  },
  {
   "cell_type": "code",
   "execution_count": null,
   "metadata": {},
   "outputs": [],
   "source": [
    "data = # 주석을 지우고 이곳에 코드를 작성하세요.\n",
    "print(data)"
   ]
  },
  {
   "cell_type": "markdown",
   "metadata": {},
   "source": [
    "#### 016 데이터 생성(randn)\n",
    "\n",
    "- ```randn```을 사용하여 보기와 같은 정규(가우시안)분포 범위의 난수를 생성하세요.\n",
    "\n",
    "-------\n",
    "<span style=\"font-weight:normal; color:#303F9F;\">In</span>\n",
    "```python\n",
    "data = # 주석을 지우고 이곳에 코드를 작성하세요.\n",
    "print(data)\n",
    "```\n",
    "-------\n",
    "<span style=\"font-weight:normal; color:orange;\">Print</span>\n",
    "```\n",
    "[[-0.69190273 -0.52112558 -1.72167669 -0.77865483]\n",
    " [ 0.83461144  0.06283456 -0.84170318  1.11110502]]\n",
    "```"
   ]
  },
  {
   "cell_type": "code",
   "execution_count": null,
   "metadata": {},
   "outputs": [],
   "source": [
    "data = # 주석을 지우고 이곳에 코드를 작성하세요.\n",
    "print(data)"
   ]
  },
  {
   "cell_type": "markdown",
   "metadata": {},
   "source": [
    "#### 017 기본 연산\n",
    "\n",
    "- 기본 연산을 활용하여 보기와 같은 값이 나올 수 있도록 코드를 작성하세요.\n",
    "\n",
    "-------\n",
    "<span style=\"font-weight:normal; color:#303F9F;\">In</span>\n",
    "```python\n",
    "data1 = np.array([[3, 1], [2, 6]])\n",
    "data2 = np.array([[4, 0], [6, 6]])\n",
    "print() # 주석을 지우고 print 안에 코드를 작성하세요.\n",
    "print() # 주석을 지우고 print 안에 코드를 작성하세요.\n",
    "```\n",
    "-------\n",
    "<span style=\"font-weight:normal; color:orange;\">Print</span>\n",
    "```\n",
    "[[-1  1]\n",
    " [-4  0]]\n",
    "[[ 7  1]\n",
    " [ 8 12]]\n",
    "```"
   ]
  },
  {
   "cell_type": "code",
   "execution_count": null,
   "metadata": {},
   "outputs": [],
   "source": [
    "data1 = np.array([[3, 1], [2, 6]])\n",
    "data2 = np.array([[4, 0], [6, 6]])\n",
    "print() # 주석을 지우고 print 안에 코드를 작성하세요.\n",
    "print() # 주석을 지우고 print 안에 코드를 작성하세요."
   ]
  },
  {
   "cell_type": "markdown",
   "metadata": {},
   "source": [
    "#### 018 기본 연산\n",
    "\n",
    "- 기본 연산을 활용하여 보기와 같은 값이 나올 수 있도록 코드를 작성하세요.\n",
    "\n",
    "-------\n",
    "<span style=\"font-weight:normal; color:#303F9F;\">In</span>\n",
    "```python\n",
    "data1 = np.array([[3, 1], [2, 6]])\n",
    "data2 = np.array([[4, 0], [6, 6]])\n",
    "print() # 주석을 지우고 print 안에 코드를 작성하세요.\n",
    "print() # 주석을 지우고 print 안에 코드를 작성하세요.\n",
    "```\n",
    "-------\n",
    "<span style=\"font-weight:normal; color:orange;\">Print</span>\n",
    "```\n",
    "[[12  0]\n",
    " [12 36]]\n",
    "[[1.33333333 0.        ]\n",
    " [3.         1.        ]]\n",
    "```"
   ]
  },
  {
   "cell_type": "code",
   "execution_count": null,
   "metadata": {},
   "outputs": [],
   "source": [
    "data1 = np.array([[3, 1], [2, 6]])\n",
    "data2 = np.array([[4, 0], [6, 6]])\n",
    "print() # 주석을 지우고 print 안에 코드를 작성하세요.\n",
    "print() # 주석을 지우고 print 안에 코드를 작성하세요."
   ]
  },
  {
   "cell_type": "markdown",
   "metadata": {},
   "source": [
    "#### 019 기본연산\n",
    "\n",
    "- 다음은 랜덤한 데이터를 생성하고 데이터를 연산하는 코드입니다.\n",
    "- 기본연산 함수를 사용하여 요구하는 값을 print하세요.\n",
    "- 코드는 반드시 print문 안의 중괄호{}에 작성하세요.\n",
    "\n",
    "-------\n",
    "<span style=\"font-weight:normal; color:#303F9F;\">In</span>\n",
    "```python\n",
    "data = np.array(np.random.randn(2, 5) * 10, dtype=int)\n",
    "display(data)\n",
    "print(f'전체 합계: {}') # 주석을 지우고 중괄호 안에 코드를 작성하세요.\n",
    "print(f'행 합계: {}') # 주석을 지우고 중괄호 안에 코드를 작성하세요.\n",
    "print(f'열 합계: {}') # 주석을 지우고 중괄호 안에 코드를 작성하세요.\n",
    "```\n",
    "-------\n",
    "<span style=\"font-weight:normal; color:orange;\">Print</span>\n",
    "```\n",
    "array([[ -3, -16,   8,   1, -13],\n",
    "       [  0,  14,   1,  -1, -11]])\n",
    "전체 합계: -20\n",
    "행 합계: [ -3  -2   9   0 -24]\n",
    "열 합계: [-23   3]\n",
    "```"
   ]
  },
  {
   "cell_type": "code",
   "execution_count": null,
   "metadata": {},
   "outputs": [],
   "source": [
    "data = np.array(np.random.randn(2, 5) * 10, dtype=int)\n",
    "display(data)\n",
    "print(f'전체 합계: {}') # 주석을 지우고 중괄호 안에 코드를 작성하세요.\n",
    "print(f'행 합계: {}') # 주석을 지우고 중괄호 안에 코드를 작성하세요.\n",
    "print(f'열 합계: {}') # 주석을 지우고 중괄호 안에 코드를 작성하세요."
   ]
  },
  {
   "cell_type": "markdown",
   "metadata": {},
   "source": [
    "#### 020 기본연산\n",
    "\n",
    "- 다음은 랜덤한 데이터를 생성하고 데이터를 연산하는 코드입니다.\n",
    "- 기본연산 함수를 사용하여 요구하는 값을 print하세요.\n",
    "- 코드는 반드시 print문 안의 중괄호{}에 작성하세요.\n",
    "\n",
    "-------\n",
    "<span style=\"font-weight:normal; color:#303F9F;\">In</span>\n",
    "```python\n",
    "data = np.array(np.random.randn(2, 5) * 10, dtype=int)\n",
    "display(data)\n",
    "print(f'평균: {}') # 주석을 지우고 중괄호 안에 코드를 작성하세요.\n",
    "print(f'최대값: {}') # 주석을 지우고 중괄호 안에 코드를 작성하세요.\n",
    "print(f'최소값: {}') # 주석을 지우고 중괄호 안에 코드를 작성하세요.\n",
    "print(f'분산: {}') # 주석을 지우고 중괄호 안에 코드를 작성하세요.\n",
    "```\n",
    "-------\n",
    "<span style=\"font-weight:normal; color:orange;\">Print</span>\n",
    "```\n",
    "array([[  7, -12,   0, -11,  -2],\n",
    "       [  4, -15,  14,   6,   6]])\n",
    "평균: -0.3\n",
    "최대값: 14\n",
    "최소값: -15\n",
    "분산: 82.61000000000001\n",
    "```"
   ]
  },
  {
   "cell_type": "code",
   "execution_count": null,
   "metadata": {},
   "outputs": [],
   "source": [
    "data = np.array(np.random.randn(2, 5) * 10, dtype=int)\n",
    "display(data)\n",
    "print(f'평균: {}') # 주석을 지우고 중괄호 안에 코드를 작성하세요.\n",
    "print(f'최대값: {}') # 주석을 지우고 중괄호 안에 코드를 작성하세요.\n",
    "print(f'최소값: {}') # 주석을 지우고 중괄호 안에 코드를 작성하세요.\n",
    "print(f'분산: {}') # 주석을 지우고 중괄호 안에 코드를 작성하세요."
   ]
  },
  {
   "cell_type": "markdown",
   "metadata": {},
   "source": [
    "# 2. pandas"
   ]
  },
  {
   "cell_type": "markdown",
   "metadata": {},
   "source": [
    "## 2-1. Series"
   ]
  },
  {
   "cell_type": "markdown",
   "metadata": {},
   "source": [
    "#### 021 pandas 모듈 불러오기 및 버전 확인\n",
    "\n",
    "- pandas 모듈을 불러오고 버전을 확인해보세요.\n",
    "- pandas 모듈을 pd 줄여 사용할 수 있도록 작성하세요."
   ]
  },
  {
   "cell_type": "code",
   "execution_count": 5,
   "metadata": {},
   "outputs": [
    {
     "data": {
      "text/plain": [
       "'1.4.4'"
      ]
     },
     "execution_count": 5,
     "metadata": {},
     "output_type": "execute_result"
    }
   ],
   "source": [
    "import pandas as pd\n",
    "pd.__version__"
   ]
  },
  {
   "cell_type": "markdown",
   "metadata": {},
   "source": [
    "#### 022 Series 생성\n",
    "\n",
    "- list 또는 tuple을 활용하여 보기의 출력값과 같은 Series를 생성하세요.\n",
    "\n",
    "-------\n",
    "<span style=\"font-weight:normal; color:#303F9F;\">In</span>\n",
    "```python\n",
    "data = # 주석을 지우고 이곳에 코드를 작성하세요.\n",
    "data\n",
    "```\n",
    "-------\n",
    "<span style=\"font-weight:normal; color:red;\">Out</span>\n",
    "```\n",
    "0    5\n",
    "1    3\n",
    "2    1\n",
    "3    2\n",
    "4    4\n",
    "dtype: int64\n",
    "```"
   ]
  },
  {
   "cell_type": "code",
   "execution_count": null,
   "metadata": {},
   "outputs": [],
   "source": [
    "data = # 주석을 지우고 이곳에 코드를 작성하세요.\n",
    "data"
   ]
  },
  {
   "cell_type": "markdown",
   "metadata": {},
   "source": [
    "#### 023 Series 생성\n",
    "\n",
    "- numpy.array 활용하여 보기의 출력값과 같은 Series를 생성하세요.\n",
    "\n",
    "-------\n",
    "<span style=\"font-weight:normal; color:#303F9F;\">In</span>\n",
    "```python\n",
    "data = # 주석을 지우고 이곳에 코드를 작성하세요.\n",
    "data\n",
    "```\n",
    "-------\n",
    "<span style=\"font-weight:normal; color:red;\">Out</span>\n",
    "```\n",
    "0    21\n",
    "1    10\n",
    "2    36\n",
    "3    48\n",
    "4    12\n",
    "dtype: int32\n",
    "```"
   ]
  },
  {
   "cell_type": "code",
   "execution_count": null,
   "metadata": {},
   "outputs": [],
   "source": [
    "data = # 주석을 지우고 이곳에 코드를 작성하세요.\n",
    "data"
   ]
  },
  {
   "cell_type": "markdown",
   "metadata": {},
   "source": [
    "#### 024 Series 생성\n",
    "\n",
    "- dict를 활용하여 보기의 출력값과 같은 Series를 생성하세요.\n",
    "\n",
    "-------\n",
    "<span style=\"font-weight:normal; color:#303F9F;\">In</span>\n",
    "```python\n",
    "temp_dict = # 주석을 지우고 이곳에 코드를 작성하세요.\n",
    "data = # 주석을 지우고 이곳에 코드를 작성하세요.\n",
    "data\n",
    "```\n",
    "-------\n",
    "<span style=\"font-weight:normal; color:red;\">Out</span>\n",
    "```\n",
    "일    1\n",
    "이    2\n",
    "삼    3\n",
    "사    4\n",
    "오    5\n",
    "dtype: int64\n",
    "```"
   ]
  },
  {
   "cell_type": "code",
   "execution_count": null,
   "metadata": {},
   "outputs": [],
   "source": [
    "temp_dict = # 주석을 지우고 이곳에 코드를 작성하세요.\n",
    "data = # 주석을 지우고 이곳에 코드를 작성하세요.\n",
    "data"
   ]
  },
  {
   "cell_type": "markdown",
   "metadata": {},
   "source": [
    "#### 025 데이터 확인\n",
    "\n",
    "- 주어진 데이터의 타입을 예상해보고 확인하세요.\n",
    "\n",
    "-------\n",
    "<span style=\"font-weight:normal; color:#303F9F;\">In</span>\n",
    "```python\n",
    "data1 = pd.Series(np.array([21, 10, 36, 48, 12]))\n",
    "data2 = pd.Series(['A', 'B', 'C', 'D', 'E'])\n",
    "print(data1.dtype)\n",
    "print(data2.dtype)\n",
    "data2.dtype\n",
    "```"
   ]
  },
  {
   "cell_type": "code",
   "execution_count": null,
   "metadata": {},
   "outputs": [],
   "source": [
    "data1 = pd.Series(np.array([21, 10, 36, 48, 12]))\n",
    "data2 = pd.Series(['A', 'B', 'C', 'D', 'E'])\n",
    "print(data1.dtype)\n",
    "print(data2.dtype)\n",
    "data2.dtype"
   ]
  },
  {
   "cell_type": "markdown",
   "metadata": {},
   "source": [
    "#### 026 데이터 확인\n",
    "\n",
    "- 다음의 출력문과 같이 주어진 Series의 index와 value를 확인하세요.\n",
    "\n",
    "-------\n",
    "<span style=\"font-weight:normal; color:#303F9F;\">In</span>\n",
    "```python\n",
    "data = pd.Series({'일': 1, '이': 2, '삼': 3, '사': 4, '오': 5})\n",
    "print() # 주석을 지우고 print 안에 코드를 작성하세요.\n",
    "print() # 주석을 지우고 print 안에 코드를 작성하세요.\n",
    "```\n",
    "-------\n",
    "<span style=\"font-weight:normal; color:orange;\">Print</span>\n",
    "```\n",
    "Index(['일', '이', '삼', '사', '오'], dtype='object')\n",
    "[1 2 3 4 5]\n",
    "```"
   ]
  },
  {
   "cell_type": "code",
   "execution_count": null,
   "metadata": {},
   "outputs": [],
   "source": [
    "data = pd.Series({'일': 1, '이': 2, '삼': 3, '사': 4, '오': 5})\n",
    "print() # 주석을 지우고 print 안에 코드를 작성하세요.\n",
    "print() # 주석을 지우고 print 안에 코드를 작성하세요."
   ]
  },
  {
   "cell_type": "markdown",
   "metadata": {},
   "source": [
    "#### 027 index 수정\n",
    "\n",
    "- ```data```의 Series 값을 다음의 출력값과 동일하도록 하는 코드를 작성하세요.\n",
    "\n",
    "-------\n",
    "<span style=\"font-weight:normal; color:#303F9F;\">In</span>\n",
    "```python\n",
    "data = pd.Series({'일': 1, '이': 2, '삼': 3, '사': 4, '오': 5})\n",
    "# 주석을 지우고 이곳에 코드를 작성하세요.\n",
    "data\n",
    "```\n",
    "-------\n",
    "<span style=\"font-weight:normal; color:red;\">Out</span>\n",
    "```\n",
    "A    1\n",
    "B    2\n",
    "C    3\n",
    "D    4\n",
    "E    5\n",
    "dtype: int64\n",
    "```\n"
   ]
  },
  {
   "cell_type": "code",
   "execution_count": null,
   "metadata": {},
   "outputs": [],
   "source": [
    "data = pd.Series({'일': 1, '이': 2, '삼': 3, '사': 4, '오': 5})\n",
    "# 주석을 지우고 이곳에 코드를 작성하세요.\n",
    "data"
   ]
  },
  {
   "cell_type": "markdown",
   "metadata": {},
   "source": [
    "#### 028 Series 인덱싱\n",
    "\n",
    "- ```data```의 Series중 출력값과 같이 영어~국사의 데이터에 접근하세요.\n",
    "\n",
    "-------\n",
    "<span style=\"font-weight:normal; color:#303F9F;\">In</span>\n",
    "```python\n",
    "data = pd.Series({'국어': 77, '영어': 88, '수학': 81, '국사': 63, '과학': 97})\n",
    "print() # 주석을 지우고 print 안에 코드를 작성하세요.\n",
    "```\n",
    "-------\n",
    "<span style=\"font-weight:normal; color:orange;\">Print</span>\n",
    "```\n",
    "국어    77\n",
    "영어    88\n",
    "수학    81\n",
    "국사    63\n",
    "dtype: int64\n",
    "```"
   ]
  },
  {
   "cell_type": "code",
   "execution_count": null,
   "metadata": {},
   "outputs": [],
   "source": [
    "data = pd.Series({'국어': 77, '영어': 88, '수학': 81, '국사': 63, '과학': 97})\n",
    "print() # 주석을 지우고 print 안에 코드를 작성하세요."
   ]
  },
  {
   "cell_type": "markdown",
   "metadata": {},
   "source": [
    "#### 029 Series 인덱싱\n",
    "\n",
    "- 다음의 출력값과 같이 ```data```변수에서 과학 데이터를 조회하세요.\n",
    "- 반드시 ```at```을 사용하세요.\n",
    "\n",
    "-------\n",
    "<span style=\"font-weight:normal; color:#303F9F;\">In</span>\n",
    "```python\n",
    "data = pd.Series({'국어': 77, '영어': 88, '수학': 81, '국사': 63, '과학': 97})\n",
    "print() # 주석을 지우고 print 안에 코드를 작성하세요.\n",
    "```\n",
    "-------\n",
    "<span style=\"font-weight:normal; color:orange;\">Print</span>\n",
    "```\n",
    "97\n",
    "```"
   ]
  },
  {
   "cell_type": "code",
   "execution_count": null,
   "metadata": {},
   "outputs": [],
   "source": [
    "data = pd.Series({'국어': 77, '영어': 88, '수학': 81, '국사': 63, '과학': 97})\n",
    "print() # 주석을 지우고 print 안에 코드를 작성하세요."
   ]
  },
  {
   "cell_type": "markdown",
   "metadata": {},
   "source": [
    "#### 030 Series 연산\n",
    "\n",
    "- 다음 세 Series 데이터를 연산하여 보기의 출력값과 같도록 코드를 작성하세요.\n",
    "\n",
    "-------\n",
    "<span style=\"font-weight:normal; color:#303F9F;\">In</span>\n",
    "```python\n",
    "data1 = pd.Series([1, 2, 3, 4, 5])\n",
    "data2 = pd.Series([10, 20, 30, 40, 50])\n",
    "\n",
    "print() # 주석을 지우고 print 안에 코드를 작성하세요.\n",
    "```\n",
    "-------\n",
    "<span style=\"font-weight:normal; color:orange;\">Print</span>\n",
    "```\n",
    "0     10\n",
    "1     40\n",
    "2     90\n",
    "3    160\n",
    "4    250\n",
    "dtype: int64\n",
    "```"
   ]
  },
  {
   "cell_type": "code",
   "execution_count": null,
   "metadata": {},
   "outputs": [],
   "source": [
    "data1 = pd.Series([1, 2, 3, 4, 5])\n",
    "data2 = pd.Series([10, 20, 30, 40, 50])\n",
    "\n",
    "print(data1 * data2) # 주석을 지우고 print 안에 코드를 작성하세요."
   ]
  },
  {
   "cell_type": "markdown",
   "metadata": {},
   "source": [
    "#### 031 NaN처리\n",
    "\n",
    "- 다음의 출력값과 같이 변수 ```data```의 NaN을 0으로 처리하는 코드를 작성하세요.\n",
    "- 반드시 ```fillna```를 사용하세요.\n",
    "\n",
    "-------\n",
    "<span style=\"font-weight:normal; color:#303F9F;\">In</span>\n",
    "```python\n",
    "data = pd.Series([10, 20, 30, 40, 50]) * pd.Series([1, 2])\n",
    "# 주석을 지우고 이곳에 코드를 작성하세요.\n",
    "```\n",
    "-------\n",
    "<span style=\"font-weight:normal; color:red;\">Out</span>\n",
    "```\n",
    "0    10.0\n",
    "1    40.0\n",
    "2     0.0\n",
    "3     0.0\n",
    "4     0.0\n",
    "dtype: float64\n",
    "```\n"
   ]
  },
  {
   "cell_type": "code",
   "execution_count": null,
   "metadata": {},
   "outputs": [],
   "source": [
    "data = pd.Series([10, 20, 30, 40, 50]) * pd.Series([1, 2])\n",
    "# 주석을 지우고 이곳에 코드를 작성하세요."
   ]
  },
  {
   "cell_type": "markdown",
   "metadata": {},
   "source": [
    "#### 032 Series 데이터 확인\n",
    "\n",
    "- 다음의 출력값과 같이 Series 데이터의 정보를 확인하는 코드를 작성하세요.\n",
    "\n",
    "-------\n",
    "<span style=\"font-weight:normal; color:#303F9F;\">In</span>\n",
    "```python\n",
    "data = pd.Series([1, 2, 3, 4, 5]) * pd.Series([10, 20, 30, 40, 50])\n",
    "print('mean:', ) # 주석을 지우고 print 안에 코드를 작성하세요.\n",
    "print('std:', ) # 주석을 지우고 print 안에 코드를 작성하세요.\n",
    "print('count:', ) # 주석을 지우고 print 안에 코드를 작성하세요.\n",
    "```\n",
    "-------\n",
    "<span style=\"font-weight:normal; color:orange;\">Print</span>\n",
    "```\n",
    "mean: 110.0\n",
    "std: 96.69539802906858\n",
    "count: 5\n",
    "```"
   ]
  },
  {
   "cell_type": "code",
   "execution_count": null,
   "metadata": {},
   "outputs": [],
   "source": [
    "data = pd.Series([1, 2, 3, 4, 5]) * pd.Series([10, 20, 30, 40, 50])\n",
    "print('mean:', ) # 주석을 지우고 print 안에 코드를 작성하세요.\n",
    "print('std:', ) # 주석을 지우고 print 안에 코드를 작성하세요.\n",
    "print('count:', ) # 주석을 지우고 print 안에 코드를 작성하세요."
   ]
  },
  {
   "cell_type": "markdown",
   "metadata": {},
   "source": [
    "#### 033 Series 데이터 확인\n",
    "\n",
    "- 다음의 출력값과 같이 Series 데이터의 정보를 확인하는 코드를 작성하세요.\n",
    "\n",
    "-------\n",
    "<span style=\"font-weight:normal; color:#303F9F;\">In</span>\n",
    "```python\n",
    "data = pd.Series([1, 2, 3, 4, 5]) * pd.Series([10, 20, 30, 40, 50])\n",
    "print() # 주석을 지우고 print 안에 코드를 작성하세요.\n",
    "```\n",
    "-------\n",
    "<span style=\"font-weight:normal; color:orange;\">Print</span>\n",
    "```\n",
    "count      5.000000\n",
    "mean     110.000000\n",
    "std       96.695398\n",
    "min       10.000000\n",
    "25%       40.000000\n",
    "50%       90.000000\n",
    "75%      160.000000\n",
    "max      250.000000\n",
    "dtype: float64\n",
    "```"
   ]
  },
  {
   "cell_type": "code",
   "execution_count": null,
   "metadata": {},
   "outputs": [],
   "source": [
    "data = pd.Series([1, 2, 3, 4, 5]) * pd.Series([10, 20, 30, 40, 50])\n",
    "print() # 주석을 지우고 print 안에 코드를 작성하세요."
   ]
  },
  {
   "cell_type": "markdown",
   "metadata": {},
   "source": [
    "## 2-2. DataFrame"
   ]
  },
  {
   "cell_type": "markdown",
   "metadata": {},
   "source": [
    "#### 034 DataFrame 생성\n",
    "\n",
    "- list를 활용해 보기의 출력값과 같은 DataFrame을 생성하세요.\n",
    "\n",
    "-------\n",
    "<span style=\"font-weight:normal; color:#303F9F;\">In</span>\n",
    "```python\n",
    "df = # 주석을 지우고 이곳에 코드를 작성하세요.\n",
    "df\n",
    "```\n",
    "-------\n",
    "<span style=\"font-weight:normal; color:red;\">Out</span>\n",
    "\n",
    "||0|1|2|3|\n",
    "|--|--|--|--|--|\n",
    "|**0**|\t0|\t7|\t8|\t1|\n",
    "|**1**|\t1|\t4|\t7|\t3|\n"
   ]
  },
  {
   "cell_type": "code",
   "execution_count": null,
   "metadata": {},
   "outputs": [],
   "source": [
    "df = # 주석을 지우고 이곳에 코드를 작성하세요.\n",
    "df"
   ]
  },
  {
   "cell_type": "markdown",
   "metadata": {},
   "source": [
    "#### 035 DataFrame 생성\n",
    "\n",
    "- dict를 활용해 보기의 출력값과 같은 DataFrame을 생성하세요.\n",
    "\n",
    "-------\n",
    "<span style=\"font-weight:normal; color:#303F9F;\">In</span>\n",
    "```python\n",
    "df = # 주석을 지우고 이곳에 코드를 작성하세요.\n",
    "df\n",
    "```\n",
    "-------\n",
    "<span style=\"font-weight:normal; color:red;\">Out</span>\n",
    "\n",
    "||학년|수학|영어|\n",
    "|--|--|--|--|\n",
    "|**0**|\t0|\t33|\t98|\n",
    "|**1**|\t1|\t79|\t67|\n",
    "|**2**|\t3|\t81|\t31|\n",
    "|**3**|\t2|\t50|\t49|"
   ]
  },
  {
   "cell_type": "code",
   "execution_count": null,
   "metadata": {},
   "outputs": [],
   "source": [
    "df = # 주석을 지우고 이곳에 코드를 작성하세요.\n",
    "df"
   ]
  },
  {
   "cell_type": "markdown",
   "metadata": {},
   "source": [
    "#### 036 DataFrame 생성\n",
    "\n",
    "- 아래의 출력값과 같이 index와 column이 출력 될 수 있도록 DataFrame을 생성하세요.\n",
    "\n",
    "-------\n",
    "<span style=\"font-weight:normal; color:#303F9F;\">In</span>\n",
    "```python\n",
    "df = # 주석을 지우고 이곳에 DataFrame을 생성하세요.\n",
    "df\n",
    "```\n",
    "-------\n",
    "<span style=\"font-weight:normal; color:red;\">Out</span>\n",
    "\n",
    "||남|여|\n",
    "|--|--|--|\n",
    "|**김xx**|1|0|\n",
    "|**이xx**|0|1|\n",
    "|**박xx**|0|1|\n",
    "|**최xx**|1|0|"
   ]
  },
  {
   "cell_type": "code",
   "execution_count": null,
   "metadata": {},
   "outputs": [],
   "source": [
    "df = # 주석을 지우고 이곳에 DataFrame을 생성하세요.\n",
    "df"
   ]
  },
  {
   "cell_type": "markdown",
   "metadata": {},
   "source": [
    "#### 037 index, column 변경\n",
    "\n",
    "- 다음 데이터 프레임의 index와 column을 보기와 같이 변경하세요.\n",
    "\n",
    "-------\n",
    "<span style=\"font-weight:normal; color:#303F9F;\">In</span>\n",
    "```python\n",
    "df = pd.DataFrame({'a':[37.58945628, 37.60935675, 37.59167275, 37.60935675, 37.60963055],\n",
    "                   'b':[127.0168496, 127.0530356, 127.0122079, 127.0530356, 127.0530544]})\n",
    "# 주석을 지우고 이곳에 코드를 작성하세요.\n",
    "df\n",
    "```\n",
    "-------\n",
    "<span style=\"font-weight:normal; color:red;\">Out</span>\n",
    "\n",
    "||위도|경도|\n",
    "|--|--|--|\n",
    "|**A**|37.58945628|127.0168496|\n",
    "|**B**|37.60935675|127.0530356|\n",
    "|**C**|37.59167275|127.0122079|\n",
    "|**D**|37.60935675|127.0530356|\n",
    "|**E**|37.60963055|127.0530544|\n"
   ]
  },
  {
   "cell_type": "code",
   "execution_count": null,
   "metadata": {},
   "outputs": [],
   "source": [
    "df = pd.DataFrame({'a':[37.58945628, 37.60935675, 37.59167275, 37.60935675, 37.60963055],\n",
    "                   'b':[127.0168496, 127.0530356, 127.0122079, 127.0530356, 127.0530544]})\n",
    "# 주석을 지우고 이곳에 코드를 작성하세요.\n",
    "df"
   ]
  },
  {
   "cell_type": "markdown",
   "metadata": {},
   "source": [
    "#### 038 데이터 조회\n",
    "\n",
    "- 다음 ```df``` 데이터의 1번 행의 값을 조회하세요.\n",
    "\n",
    "-------\n",
    "<span style=\"font-weight:normal; color:#303F9F;\">In</span>\n",
    "```python\n",
    "df = pd.DataFrame({'구분':['일자리','창업','창업','창업','소공인'],\n",
    "                   '시설명':['일자리 플러스 센터','벤처창업지원센터','1인 창조기업 비즈니스센터','시니어 기술창업센터','성북구 패션봉제지원센터(소공인특화지원센터)'],\n",
    "                   '행정동':['삼선동','장위2동','성북동','장위2동','장위2동']})\n",
    "# 주석을 지우고 이곳에 코드를 작성하세요.\n",
    "```\n",
    "-------\n",
    "<span style=\"font-weight:normal; color:red;\">Out</span>\n",
    "```\n",
    "구분           창업\n",
    "시설명    벤처창업지원센터\n",
    "행정동        장위2동\n",
    "Name: 1, dtype: object\n",
    "```"
   ]
  },
  {
   "cell_type": "code",
   "execution_count": null,
   "metadata": {},
   "outputs": [],
   "source": [
    "df = pd.DataFrame({'구분':['일자리','창업','창업','창업','소공인'],\n",
    "                   '시설명':['일자리 플러스 센터','벤처창업지원센터','1인 창조기업 비즈니스센터','시니어 기술창업센터','성북구 패션봉제지원센터(소공인특화지원센터)'],\n",
    "                   '행정동':['삼선동','장위2동','성북동','장위2동','장위2동']})\n",
    "# 주석을 지우고 이곳에 코드를 작성하세요."
   ]
  },
  {
   "cell_type": "markdown",
   "metadata": {},
   "source": [
    "#### 039 데이터 조회\n",
    "\n",
    "- 다음 ```df``` 데이터의 1~3번을 포함한 행의 값을 조회하세요.\n",
    "\n",
    "-------\n",
    "<span style=\"font-weight:normal; color:#303F9F;\">In</span>\n",
    "```python\n",
    "df = pd.DataFrame({'구분':['일자리','창업','창업','창업','소공인'],\n",
    "                   '시설명':['일자리 플러스 센터','벤처창업지원센터','1인 창조기업 비즈니스센터','시니어 기술창업센터','성북구 패션봉제지원센터(소공인특화지원센터)'],\n",
    "                   '행정동':['삼선동','장위2동','성북동','장위2동','장위2동']})\n",
    "\n",
    "print()# 주석을 지우고 print 안에 코드를 작성하세요.\n",
    "```\n",
    "-------\n",
    "<span style=\"font-weight:normal; color:orange;\">Print</span>\n",
    "\n",
    "```\n",
    "    구분                      시설명   행정동\n",
    "1   창업                 벤처창업지원센터  장위2동\n",
    "2   창업           1인 창조기업 비즈니스센터   성북동\n",
    "3   창업               시니어 기술창업센터  장위2동\n",
    "4  소공인  성북구 패션봉제지원센터(소공인특화지원센터)  장위2동\n",
    "```"
   ]
  },
  {
   "cell_type": "code",
   "execution_count": null,
   "metadata": {},
   "outputs": [],
   "source": [
    "df = pd.DataFrame({'구분':['일자리','창업','창업','창업','소공인'],\n",
    "                   '시설명':['일자리 플러스 센터','벤처창업지원센터','1인 창조기업 비즈니스센터','시니어 기술창업센터','성북구 패션봉제지원센터(소공인특화지원센터)'],\n",
    "                   '행정동':['삼선동','장위2동','성북동','장위2동','장위2동']})\n",
    "\n",
    "print()# 주석을 지우고 print 안에 코드를 작성하세요."
   ]
  },
  {
   "cell_type": "markdown",
   "metadata": {},
   "source": [
    "#### 040 데이터 조회\n",
    "\n",
    "- 다음의 출력값 처럼 ```df``` 의 데이터를 조회하세요.\n",
    "- 반드시 인덱스와 컬럼을 동시에 사용하세요.\n",
    "\n",
    "-------\n",
    "<span style=\"font-weight:normal; color:#303F9F;\">In</span>\n",
    "```python\n",
    "df = pd.DataFrame({'구분':['일자리','창업','창업','창업','소공인'],\n",
    "                   '시설명':['일자리 플러스 센터','벤처창업지원센터','1인 창조기업 비즈니스센터','시니어 기술창업센터','성북구 패션봉제지원센터(소공인특화지원센터)'],\n",
    "                   '행정동':['삼선동','장위2동','성북동','장위2동','장위2동']})\n",
    "\n",
    "# 주석을 지우고 이곳에 코드를 작성하세요.\n",
    "```\n",
    "-------\n",
    "<span style=\"font-weight:normal; color:red;\">Out</span>\n",
    "\n",
    "||구분|행정동|\n",
    "|--|--|--|\n",
    "|2|창업|성북동|\n",
    "|3|창업|장위2동|\n",
    "|4|소공인|장위2동|\n"
   ]
  },
  {
   "cell_type": "code",
   "execution_count": null,
   "metadata": {},
   "outputs": [],
   "source": [
    "df = pd.DataFrame({'구분':['일자리','창업','창업','창업','소공인'],\n",
    "                   '시설명':['일자리 플러스 센터','벤처창업지원센터','1인 창조기업 비즈니스센터','시니어 기술창업센터','성북구 패션봉제지원센터(소공인특화지원센터)'],\n",
    "                   '행정동':['삼선동','장위2동','성북동','장위2동','장위2동']})\n",
    "\n",
    "# 주석을 지우고 이곳에 코드를 작성하세요."
   ]
  },
  {
   "cell_type": "markdown",
   "metadata": {},
   "source": [
    "#### 041 데이터 조회\n",
    "\n",
    "- 다음 출력값과 같이 위도가 37.6 보다 높은 데이터만 조회하세요.\n",
    "\n",
    "-------\n",
    "<span style=\"font-weight:normal; color:#303F9F;\">In</span>\n",
    "```python\n",
    "df = pd.DataFrame({'위도':[37.58945628, 37.60935675, 37.59167275, 37.60935675, 37.60963055],\n",
    "                   '경도':[127.0168496, 127.0530356, 127.0122079, 127.0530356, 127.0530544]})\n",
    "\n",
    "# 주석을 지우고 이곳에 코드를 작성하세요.\n",
    "```\n",
    "-------\n",
    "<span style=\"font-weight:normal; color:red;\">Out</span>\n",
    "\n",
    "||위도|경도|\n",
    "|--|--|--|\n",
    "|**1**|37.609357|127.053036|\n",
    "|**3**|37.609357|127.053036|\n",
    "|**4**|37.609631|127.053054|\n"
   ]
  },
  {
   "cell_type": "code",
   "execution_count": null,
   "metadata": {},
   "outputs": [],
   "source": [
    "df = pd.DataFrame({'위도':[37.58945628, 37.60935675, 37.59167275, 37.60935675, 37.60963055],\n",
    "                   '경도':[127.0168496, 127.0530356, 127.0122079, 127.0530356, 127.0530544]})\n",
    "\n",
    "# 주석을 지우고 이곳에 코드를 작성하세요."
   ]
  },
  {
   "cell_type": "markdown",
   "metadata": {},
   "source": [
    "#### 042 데이터 합치기\n",
    "\n",
    "- 다음의 두 데이터를 index 기준으로 합치세요\n",
    "\n",
    "-------\n",
    "<span style=\"font-weight:normal; color:#303F9F;\">In</span>\n",
    "```python\n",
    "df1 = pd.DataFrame({'위도':[37.58945628, 37.60935675, 37.59167275, 37.60935675, 37.60963055],\n",
    "                    '경도':[127.0168496, 127.0530356, 127.0122079, 127.0530356, 127.0530544]})\n",
    "df2 = pd.DataFrame({'구분':['일자리','창업','창업','창업','소공인'],\n",
    "                    '시설명':['일자리 플러스 센터','벤처창업지원센터','1인 창조기업 비즈니스센터','시니어 기술창업센터','성북구 패션봉제지원센터(소공인특화지원센터)'],\n",
    "                    '행정동':['삼선동','장위2동','성북동','장위2동','장위2동']})\n",
    "\n",
    "# 주석을 지우고 이곳에 코드를 작성하세요.\n",
    "```\n",
    "-------\n",
    "<span style=\"font-weight:normal; color:red;\">Out</span>\n",
    "\n",
    "||위도|경도|구분|시설명|행정동|\n",
    "|--|--|--|--|--|--|\n",
    "|**0**|37.589456|127.016850|일자리|일자리 플러스 센터|삼선동|\n",
    "|**1**|37.609357|127.053036|창업|벤처창업지원센터\t|장위2동|\n",
    "|**2**|37.591673|127.012208|창업|1인 창조기업 비즈니스센터|성북동|\n",
    "|**3**|37.609357|127.053036|창업|시니어 기술창업센터|장위2동|\n",
    "|**4**|37.609631|127.053054|소공인|성북구 패션봉제지원센터(소공인특화지원센터)|장위2동|"
   ]
  },
  {
   "cell_type": "code",
   "execution_count": null,
   "metadata": {},
   "outputs": [],
   "source": [
    "df1 = pd.DataFrame({'위도':[37.58945628, 37.60935675, 37.59167275, 37.60935675, 37.60963055],\n",
    "                    '경도':[127.0168496, 127.0530356, 127.0122079, 127.0530356, 127.0530544]})\n",
    "df2 = pd.DataFrame({'구분':['일자리','창업','창업','창업','소공인'],\n",
    "                    '시설명':['일자리 플러스 센터','벤처창업지원센터','1인 창조기업 비즈니스센터','시니어 기술창업센터','성북구 패션봉제지원센터(소공인특화지원센터)'],\n",
    "                    '행정동':['삼선동','장위2동','성북동','장위2동','장위2동']})\n",
    "\n",
    "# 주석을 지우고 이곳에 코드를 작성하세요."
   ]
  },
  {
   "cell_type": "markdown",
   "metadata": {},
   "source": [
    "#### 043 데이터프레임 연산\n",
    "\n",
    "- 두 데이터프레임의 연산 결과를 예상해보고 확인하세요.\n",
    "\n",
    "-------\n",
    "<span style=\"font-weight:normal; color:#303F9F;\">In</span>\n",
    "```python\n",
    "df1 = pd.DataFrame([[12, 6, 3], [4, 12, 9]])\n",
    "df2 = pd.DataFrame([[3, 6], [1, 6]])\n",
    "\n",
    "df1 / df2\n",
    "```"
   ]
  },
  {
   "cell_type": "code",
   "execution_count": null,
   "metadata": {},
   "outputs": [],
   "source": [
    "df1 = pd.DataFrame([[12, 6, 3], [4, 12, 9]])\n",
    "df2 = pd.DataFrame([[3, 6], [1, 6]])\n",
    "\n",
    "df1 / df2"
   ]
  },
  {
   "cell_type": "markdown",
   "metadata": {},
   "source": [
    "#### 044 csv 불러오기\n",
    "\n",
    "- 다음의 링크로 들어가 공공데이터를 다운받으세요.[[https://www.data.go.kr/data/15040314/fileData.do#/tab-layer-file]](https://www.data.go.kr/data/15040314/fileData.do#/tab-layer-file)\n",
    "- 다운 받은 데이터를 현재 작업경로로 옮기세요.\n",
    "- csv 데이터를 불러와 df 변수에 저장하세요.\n",
    "\n",
    "-------\n",
    "<span style=\"font-weight:normal; color:#303F9F;\">In</span>\n",
    "```python\n",
    "df = # 주석을 지우고 이곳에 코드를 작성하세요.\n",
    "df.head()\n",
    "```"
   ]
  },
  {
   "cell_type": "code",
   "execution_count": null,
   "metadata": {},
   "outputs": [],
   "source": [
    "df = # 주석을 지우고 이곳에 코드를 작성하세요.\n",
    "df.head()"
   ]
  },
  {
   "cell_type": "markdown",
   "metadata": {},
   "source": [
    "#### 045 DataFrame 통계\n",
    "\n",
    "- 다음의 링크로 들어가 공공데이터를 다운받으세요.[[공공데이터]](https://www.data.go.kr/data/15105026/fileData.do)\n",
    "- 다운 받은 데이터를 현재 작업경로로 옮기세요.\n",
    "- ```경기도 여주시_보호수_20220803.csv``` 파일을 불러와 ```df``` 변수에 저장하세요.\n",
    "- ```df```의 통계 요약을 출력하세요.\n",
    "\n",
    "-------\n",
    "<span style=\"font-weight:normal; color:#303F9F;\">In</span>\n",
    "```python\n",
    "df = pd.read_csv('경기도 여주시_보호수_20220803.csv', encoding='cp949')\n",
    "# 주석을 지우고 이곳에 코드를 작성하세요.\n",
    "```"
   ]
  },
  {
   "cell_type": "code",
   "execution_count": null,
   "metadata": {},
   "outputs": [],
   "source": [
    "df = pd.read_csv('경기도 여주시_보호수_20220803.csv', encoding='cp949')\n",
    "# 주석을 지우고 이곳에 코드를 작성하세요."
   ]
  },
  {
   "cell_type": "markdown",
   "metadata": {},
   "source": [
    "#### 046 DataFrame 통계\n",
    "\n",
    "- ```경기도 여주시_보호수_20220803.csv``` 파일을 불러와 ```df``` 변수에 저장하세요.\n",
    "- ```df```의 나무나이, 나무높이, 가슴높이둘레, 나무갓지름의 상관계수를 출력하세요.\n",
    "\n",
    "-------\n",
    "<span style=\"font-weight:normal; color:#303F9F;\">In</span>\n",
    "```python\n",
    "df = pd.read_csv('경기도 여주시_보호수_20220803.csv', encoding='cp949')\n",
    "# 주석을 지우고 이곳에 코드를 작성하세요.\n",
    "```"
   ]
  },
  {
   "cell_type": "code",
   "execution_count": null,
   "metadata": {},
   "outputs": [],
   "source": [
    "df = pd.read_csv('경기도 여주시_보호수_20220803.csv', encoding='cp949')\n",
    "# 주석을 지우고 이곳에 코드를 작성하세요."
   ]
  },
  {
   "cell_type": "markdown",
   "metadata": {},
   "source": [
    "#### 047 DataFrame 통계\n",
    "\n",
    "- ```경기도 여주시_보호수_20220803.csv``` 파일을 불러와 ```df``` 변수에 저장하세요.\n",
    "- ```df```의 그루수, 나무나이 컬럼의 합을 출력하세요\n",
    "\n",
    "-------\n",
    "<span style=\"font-weight:normal; color:#303F9F;\">In</span>\n",
    "```python\n",
    "df = pd.read_csv('경기도 여주시_보호수_20220803.csv', encoding='cp949')\n",
    "# 주석을 지우고 이곳에 코드를 작성하세요.\n",
    "```"
   ]
  },
  {
   "cell_type": "code",
   "execution_count": null,
   "metadata": {},
   "outputs": [],
   "source": [
    "df = pd.read_csv('경기도 여주시_보호수_20220803.csv', encoding='cp949')\n",
    "# 주석을 지우고 이곳에 코드를 작성하세요."
   ]
  },
  {
   "cell_type": "markdown",
   "metadata": {},
   "source": [
    "#### 048 DataFrame 통계\n",
    "\n",
    "- ```경기도 여주시_보호수_20220803.csv``` 파일을 불러와 ```df``` 변수에 저장하세요.\n",
    "- ```df```를 나무종류 순서로 정렬하세요.\n",
    "- 내림차순으로 정렬하세요.\n",
    "- 변경된 데이터를 원본 데이터에 덮어 쓸 수 있는 파라미터를 사용하세요.\n",
    "\n",
    "-------\n",
    "<span style=\"font-weight:normal; color:#303F9F;\">In</span>\n",
    "```python\n",
    "df = pd.read_csv('경기도 여주시_보호수_20220803.csv', encoding='cp949')\n",
    "# 주석을 지우고 이곳에 코드를 작성하세요.\n",
    "df.head()\n",
    "```"
   ]
  },
  {
   "cell_type": "code",
   "execution_count": null,
   "metadata": {},
   "outputs": [],
   "source": [
    "df = pd.read_csv('경기도 여주시_보호수_20220803.csv', encoding='cp949')\n",
    "# 주석을 지우고 이곳에 코드를 작성하세요.\n",
    "df.head()"
   ]
  },
  {
   "cell_type": "markdown",
   "metadata": {},
   "source": [
    "#### 049 DataFrame 통계\n",
    "\n",
    "- ```경기도 여주시_보호수_20220803.csv``` 파일을 불러와 ```df``` 변수에 저장하세요.\n",
    "- ```df```를 컬럼의 이름 순서로 정렬하세요.\n",
    "\n",
    "-------\n",
    "<span style=\"font-weight:normal; color:#303F9F;\">In</span>\n",
    "```python\n",
    "df = pd.read_csv('경기도 여주시_보호수_20220803.csv', encoding='cp949')\n",
    "# 주석을 지우고 이곳에 코드를 작성하세요.\n",
    "```"
   ]
  },
  {
   "cell_type": "code",
   "execution_count": null,
   "metadata": {},
   "outputs": [],
   "source": [
    "df = pd.read_csv('경기도 여주시_보호수_20220803.csv', encoding='cp949')\n",
    "# 주석을 지우고 이곳에 코드를 작성하세요."
   ]
  },
  {
   "cell_type": "markdown",
   "metadata": {},
   "source": [
    "#### 050 결측치 처리\n",
    "\n",
    "- ```경기도 여주시_보호수_20220803.csv``` 파일을 불러와 ```df``` 변수에 저장하세요.\n",
    "- ```df```의 컬럼 중 나무갓지름의 빈 데이터가 포함된 곳에 나무갓지름의 평균값을 채워넣으세요.\n",
    "\n",
    "-------\n",
    "<span style=\"font-weight:normal; color:#303F9F;\">In</span>\n",
    "```python\n",
    "# 주석을 지우고 이곳에 코드를 작성하세요.\n",
    "df\n",
    "```"
   ]
  },
  {
   "cell_type": "code",
   "execution_count": null,
   "metadata": {},
   "outputs": [],
   "source": [
    "# 주석을 지우고 이곳에 코드를 작성하세요.\n",
    "df"
   ]
  },
  {
   "cell_type": "markdown",
   "metadata": {},
   "source": [
    "#### 051 데이터 조회 및 변경\n",
    "\n",
    "- ```경기도 여주시_보호수_20220803.csv``` 파일을 불러와 ```df``` 변수에 저장하세요.\n",
    "- ```df```의 컬럼 중 학명의 빈 데이터가 포함된 알맞는 데이터를 채워 넣으세요.\n",
    "\n",
    "\n",
    "- ```느티나무```의 학명은 ```Zelkova serrata (Thunb.) Makino``` 입니다.\n",
    "- ```물푸레나무```의 학명은 ```Fraxinus rhynchophylla``` 입니다.\n",
    "- ```아까시나무```의 학명은 ```Robinia pseudoacacia``` 입니다.\n",
    "- ```오리나무```의 학명은 ```Alnus japonica (Thunb.) Steudel``` 입니다.\n",
    "- ```은행나무```의 학명은 ```Ginkgo biloba L.``` 입니다.\n",
    "- ```향나무```의 학명은 ```Juniperus chinensis``` 입니다.\n",
    "\n",
    "-------\n",
    "<span style=\"font-weight:normal; color:#303F9F;\">In</span>\n",
    "```python\n",
    "df = pd.read_csv('경기도 여주시_보호수_20220803.csv', encoding='cp949')\n",
    "# 주석을 지우고 이곳에 코드를 작성하세요.\n",
    "df\n",
    "```"
   ]
  },
  {
   "cell_type": "code",
   "execution_count": null,
   "metadata": {},
   "outputs": [],
   "source": [
    "df = pd.read_csv('경기도 여주시_보호수_20220803.csv', encoding='cp949')\n",
    "# 주석을 지우고 이곳에 코드를 작성하세요.\n",
    "df"
   ]
  }
 ],
 "metadata": {
  "kernelspec": {
   "display_name": "Python 3 (ipykernel)",
   "language": "python",
   "name": "python3"
  },
  "language_info": {
   "codemirror_mode": {
    "name": "ipython",
    "version": 3
   },
   "file_extension": ".py",
   "mimetype": "text/x-python",
   "name": "python",
   "nbconvert_exporter": "python",
   "pygments_lexer": "ipython3",
   "version": "3.9.13"
  }
 },
 "nbformat": 4,
 "nbformat_minor": 2
}
